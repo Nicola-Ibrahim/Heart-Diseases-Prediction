{
 "cells": [
  {
   "cell_type": "code",
   "execution_count": 38,
   "id": "d09f3d90-fff5-434a-8d60-3d9863d95dbe",
   "metadata": {},
   "outputs": [],
   "source": [
    "TRAIN_DATA_PATH = \"../../data/interim/cleveland_train.pkl\"\n",
    "PREPROC_TRAIN_DATA_PATH = \"../../data/processed/preprocessed_train_data.pkl\"\n",
    "PREPROC_DATA_PATH = \"../../data/processed/\"\n"
   ]
  },
  {
   "cell_type": "code",
   "execution_count": 39,
   "id": "976c0a35-0540-4b64-b959-062451e2e74a",
   "metadata": {
    "tags": []
   },
   "outputs": [],
   "source": [
    "import numpy as np\n",
    "import pandas as pd\n",
    "\n",
    "from sklearn.impute import SimpleImputer\n"
   ]
  },
  {
   "cell_type": "markdown",
   "id": "42054d63-3403-4c50-9806-6cf5a86f505b",
   "metadata": {
    "tags": []
   },
   "source": [
    "# Functions\n"
   ]
  },
  {
   "cell_type": "code",
   "execution_count": 40,
   "id": "4883f843-eb4e-4f5f-86e9-d0c13d1877c8",
   "metadata": {
    "tags": []
   },
   "outputs": [],
   "source": [
    "def remove_duplicates(data: pd.DataFrame):\n",
    "    \"\"\"Remove duplicates values if exist\"\"\"\n",
    "    print(f\"Duplicates count before droping:{data.duplicated().sum()}\")\n",
    "    data.drop_duplicates(inplace=True)\n",
    "    print(f\"Duplicates count after droping:{data.duplicated().sum()}\")\n",
    "    print(f\"Data dimension{data.shape}\")"
   ]
  },
  {
   "cell_type": "markdown",
   "id": "bceaaecc",
   "metadata": {},
   "source": [
    "# Read data\n"
   ]
  },
  {
   "cell_type": "code",
   "execution_count": 41,
   "id": "695f2ffb",
   "metadata": {},
   "outputs": [],
   "source": [
    "df_train = pd.read_pickle(PREPROC_TRAIN_DATA_PATH)"
   ]
  },
  {
   "cell_type": "markdown",
   "id": "459f2b8d-4c95-4201-bc9e-c30f8d9fae17",
   "metadata": {},
   "source": [
    "# Replace strange values"
   ]
  },
  {
   "cell_type": "code",
   "execution_count": 42,
   "id": "e7dbb729-405c-4b9a-835a-3728c0209222",
   "metadata": {
    "tags": []
   },
   "outputs": [],
   "source": [
    "# Substitute '?' with np.NAN\n",
    "df_train.replace(\"?\", np.nan, inplace=True)"
   ]
  },
  {
   "cell_type": "markdown",
   "id": "6a9b51db-dfed-4c54-83d4-10d0ae73ffd3",
   "metadata": {},
   "source": [
    "# Duplicates\n"
   ]
  },
  {
   "cell_type": "code",
   "execution_count": 43,
   "id": "63155dc2-8f6e-41a6-b4b4-17bac2a54830",
   "metadata": {
    "tags": []
   },
   "outputs": [
    {
     "name": "stdout",
     "output_type": "stream",
     "text": [
      "Duplicates count before droping:0\n",
      "Duplicates count after droping:0\n",
      "Data dimension(271, 14)\n"
     ]
    }
   ],
   "source": [
    "remove_duplicates(df_train)"
   ]
  },
  {
   "cell_type": "code",
   "execution_count": 44,
   "id": "d8b752dc",
   "metadata": {},
   "outputs": [
    {
     "data": {
      "text/html": [
       "<div>\n",
       "<style scoped>\n",
       "    .dataframe tbody tr th:only-of-type {\n",
       "        vertical-align: middle;\n",
       "    }\n",
       "\n",
       "    .dataframe tbody tr th {\n",
       "        vertical-align: top;\n",
       "    }\n",
       "\n",
       "    .dataframe thead th {\n",
       "        text-align: right;\n",
       "    }\n",
       "</style>\n",
       "<table border=\"1\" class=\"dataframe\">\n",
       "  <thead>\n",
       "    <tr style=\"text-align: right;\">\n",
       "      <th></th>\n",
       "      <th>age</th>\n",
       "      <th>sex</th>\n",
       "      <th>chest_pain_type</th>\n",
       "      <th>resting_blood_pressure</th>\n",
       "      <th>serum_cholestoral</th>\n",
       "      <th>fasting_blood_sugar</th>\n",
       "      <th>resting_electrocardiographic</th>\n",
       "      <th>maximum_heart_rate</th>\n",
       "      <th>exercise_induced_angina</th>\n",
       "      <th>ST_depression</th>\n",
       "      <th>slope_peak_exercise_ST_segment</th>\n",
       "      <th>number_of_major_vessels</th>\n",
       "      <th>thallium_stress_result</th>\n",
       "      <th>target</th>\n",
       "    </tr>\n",
       "  </thead>\n",
       "  <tbody>\n",
       "    <tr>\n",
       "      <th>155</th>\n",
       "      <td>51.0</td>\n",
       "      <td>1.0</td>\n",
       "      <td>4.0</td>\n",
       "      <td>140.0</td>\n",
       "      <td>299.0</td>\n",
       "      <td>0.0</td>\n",
       "      <td>0.0</td>\n",
       "      <td>173.0</td>\n",
       "      <td>1.0</td>\n",
       "      <td>1.6</td>\n",
       "      <td>1.0</td>\n",
       "      <td>0.0</td>\n",
       "      <td>7.0</td>\n",
       "      <td>1</td>\n",
       "    </tr>\n",
       "    <tr>\n",
       "      <th>10</th>\n",
       "      <td>56.0</td>\n",
       "      <td>0.0</td>\n",
       "      <td>2.0</td>\n",
       "      <td>140.0</td>\n",
       "      <td>294.0</td>\n",
       "      <td>0.0</td>\n",
       "      <td>2.0</td>\n",
       "      <td>153.0</td>\n",
       "      <td>0.0</td>\n",
       "      <td>1.3</td>\n",
       "      <td>2.0</td>\n",
       "      <td>0.0</td>\n",
       "      <td>3.0</td>\n",
       "      <td>0</td>\n",
       "    </tr>\n",
       "    <tr>\n",
       "      <th>53</th>\n",
       "      <td>60.0</td>\n",
       "      <td>1.0</td>\n",
       "      <td>4.0</td>\n",
       "      <td>130.0</td>\n",
       "      <td>253.0</td>\n",
       "      <td>0.0</td>\n",
       "      <td>0.0</td>\n",
       "      <td>144.0</td>\n",
       "      <td>1.0</td>\n",
       "      <td>1.4</td>\n",
       "      <td>1.0</td>\n",
       "      <td>1.0</td>\n",
       "      <td>7.0</td>\n",
       "      <td>1</td>\n",
       "    </tr>\n",
       "    <tr>\n",
       "      <th>122</th>\n",
       "      <td>55.0</td>\n",
       "      <td>1.0</td>\n",
       "      <td>4.0</td>\n",
       "      <td>140.0</td>\n",
       "      <td>217.0</td>\n",
       "      <td>0.0</td>\n",
       "      <td>0.0</td>\n",
       "      <td>111.0</td>\n",
       "      <td>1.0</td>\n",
       "      <td>5.6</td>\n",
       "      <td>3.0</td>\n",
       "      <td>0.0</td>\n",
       "      <td>7.0</td>\n",
       "      <td>3</td>\n",
       "    </tr>\n",
       "    <tr>\n",
       "      <th>208</th>\n",
       "      <td>62.0</td>\n",
       "      <td>0.0</td>\n",
       "      <td>4.0</td>\n",
       "      <td>150.0</td>\n",
       "      <td>244.0</td>\n",
       "      <td>0.0</td>\n",
       "      <td>0.0</td>\n",
       "      <td>154.0</td>\n",
       "      <td>1.0</td>\n",
       "      <td>1.4</td>\n",
       "      <td>2.0</td>\n",
       "      <td>0.0</td>\n",
       "      <td>3.0</td>\n",
       "      <td>1</td>\n",
       "    </tr>\n",
       "  </tbody>\n",
       "</table>\n",
       "</div>"
      ],
      "text/plain": [
       "      age  sex  chest_pain_type  resting_blood_pressure  serum_cholestoral  \\\n",
       "155  51.0  1.0              4.0                   140.0              299.0   \n",
       "10   56.0  0.0              2.0                   140.0              294.0   \n",
       "53   60.0  1.0              4.0                   130.0              253.0   \n",
       "122  55.0  1.0              4.0                   140.0              217.0   \n",
       "208  62.0  0.0              4.0                   150.0              244.0   \n",
       "\n",
       "     fasting_blood_sugar  resting_electrocardiographic  maximum_heart_rate  \\\n",
       "155                  0.0                           0.0               173.0   \n",
       "10                   0.0                           2.0               153.0   \n",
       "53                   0.0                           0.0               144.0   \n",
       "122                  0.0                           0.0               111.0   \n",
       "208                  0.0                           0.0               154.0   \n",
       "\n",
       "     exercise_induced_angina  ST_depression  slope_peak_exercise_ST_segment  \\\n",
       "155                      1.0            1.6                             1.0   \n",
       "10                       0.0            1.3                             2.0   \n",
       "53                       1.0            1.4                             1.0   \n",
       "122                      1.0            5.6                             3.0   \n",
       "208                      1.0            1.4                             2.0   \n",
       "\n",
       "     number_of_major_vessels  thallium_stress_result  target  \n",
       "155                      0.0                     7.0       1  \n",
       "10                       0.0                     3.0       0  \n",
       "53                       1.0                     7.0       1  \n",
       "122                      0.0                     7.0       3  \n",
       "208                      0.0                     3.0       1  "
      ]
     },
     "execution_count": 44,
     "metadata": {},
     "output_type": "execute_result"
    }
   ],
   "source": [
    "df_train.head()\n"
   ]
  },
  {
   "cell_type": "markdown",
   "id": "7225ebce",
   "metadata": {},
   "source": [
    "# Replace nan values\n"
   ]
  },
  {
   "cell_type": "code",
   "execution_count": 45,
   "id": "5f99cdad",
   "metadata": {},
   "outputs": [],
   "source": [
    "df_train[[\"number_of_major_vessels\", \"thallium_stress_result\"]] = SimpleImputer(\n",
    "    strategy=\"most_frequent\"\n",
    ").fit_transform(df_train[[\"number_of_major_vessels\", \"thallium_stress_result\"]])\n"
   ]
  },
  {
   "cell_type": "markdown",
   "id": "fc202823",
   "metadata": {},
   "source": [
    "# Normality\n",
    "\n",
    "**Cholesterol** and **ST depression** are not follow the normal distribution<br>\n",
    "so we will transform them to be normally distributed\n"
   ]
  },
  {
   "cell_type": "code",
   "execution_count": 46,
   "id": "2115706d",
   "metadata": {},
   "outputs": [],
   "source": [
    "# rng = np.random.RandomState(304)\n",
    "# qt = QuantileTransformer(n_quantiles=500, output_distribution='normal',\n",
    "#                                 random_state=rng)\n",
    "# df_train[[\"serum cholestoral\",\"ST depression\"]] = qt.fit_transform(df_train[[\"serum cholestoral\",\"ST depression\"]])\n",
    "# # test_data[[\"serum cholestoral\",\"ST depression\"]] = qt.transform(test_data[[\"serum cholestoral\",\"ST depression\"]])\n"
   ]
  },
  {
   "cell_type": "markdown",
   "id": "fdabb173",
   "metadata": {},
   "source": [
    "# Save processed data\n"
   ]
  },
  {
   "cell_type": "code",
   "execution_count": 47,
   "id": "baab1f36",
   "metadata": {},
   "outputs": [],
   "source": [
    "df_train.to_pickle(PREPROC_DATA_PATH + \"cleaned_train_data.pkl\")"
   ]
  }
 ],
 "metadata": {
  "kernelspec": {
   "display_name": "Python 3 (ipykernel)",
   "language": "python",
   "name": "python3"
  },
  "language_info": {
   "codemirror_mode": {
    "name": "ipython",
    "version": 3
   },
   "file_extension": ".py",
   "mimetype": "text/x-python",
   "name": "python",
   "nbconvert_exporter": "python",
   "pygments_lexer": "ipython3",
   "version": "3.9.13"
  },
  "widgets": {
   "application/vnd.jupyter.widget-state+json": {
    "state": {},
    "version_major": 2,
    "version_minor": 0
   }
  }
 },
 "nbformat": 4,
 "nbformat_minor": 5
}
