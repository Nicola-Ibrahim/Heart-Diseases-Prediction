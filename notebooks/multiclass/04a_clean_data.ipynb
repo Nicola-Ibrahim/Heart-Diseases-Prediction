{
 "cells": [
  {
   "cell_type": "code",
   "execution_count": 6,
   "id": "d09f3d90-fff5-434a-8d60-3d9863d95dbe",
   "metadata": {},
   "outputs": [],
   "source": [
    "TRAIN_DATA_PATH = \"../../data/interim/cleveland_train.pkl\"\n",
    "EXPORT_PATH = \"../../data/preprocessed\""
   ]
  },
  {
   "cell_type": "code",
   "execution_count": 7,
   "id": "976c0a35-0540-4b64-b959-062451e2e74a",
   "metadata": {
    "tags": []
   },
   "outputs": [],
   "source": [
    "import numpy as np\n",
    "import pandas as pd"
   ]
  },
  {
   "cell_type": "markdown",
   "id": "42054d63-3403-4c50-9806-6cf5a86f505b",
   "metadata": {
    "tags": []
   },
   "source": [
    "# Functions\n"
   ]
  },
  {
   "cell_type": "code",
   "execution_count": 8,
   "id": "4883f843-eb4e-4f5f-86e9-d0c13d1877c8",
   "metadata": {
    "tags": []
   },
   "outputs": [],
   "source": [
    "def remove_duplicates(data: pd.DataFrame):\n",
    "    \"\"\"Remove duplicates values if exist\"\"\"\n",
    "    print(f\"Duplicates count before droping:{data.duplicated().sum()}\")\n",
    "    data.drop_duplicates(inplace=True)\n",
    "    print(f\"Duplicates count after droping:{data.duplicated().sum()}\")\n",
    "    print(f\"Data dimension{data.shape}\")"
   ]
  },
  {
   "cell_type": "markdown",
   "id": "09627821-90e4-4e1f-80ce-ce7ce47fb89d",
   "metadata": {},
   "source": [
    "# Read data"
   ]
  },
  {
   "cell_type": "code",
   "execution_count": 9,
   "id": "e5103459-471b-4ab7-b9d0-9b5d1b2096e7",
   "metadata": {
    "tags": []
   },
   "outputs": [],
   "source": [
    "df_train = pd.read_pickle(TRAIN_DATA_PATH)"
   ]
  },
  {
   "cell_type": "markdown",
   "id": "459f2b8d-4c95-4201-bc9e-c30f8d9fae17",
   "metadata": {},
   "source": [
    "# Replace strange values"
   ]
  },
  {
   "cell_type": "code",
   "execution_count": 6,
   "id": "e7dbb729-405c-4b9a-835a-3728c0209222",
   "metadata": {
    "tags": []
   },
   "outputs": [],
   "source": [
    "# Substitute '?' with np.NAN\n",
    "df_train.replace(\"?\", np.nan, inplace=True)"
   ]
  },
  {
   "cell_type": "markdown",
   "id": "6a9b51db-dfed-4c54-83d4-10d0ae73ffd3",
   "metadata": {},
   "source": [
    "# Duplicates\n"
   ]
  },
  {
   "cell_type": "code",
   "execution_count": 7,
   "id": "63155dc2-8f6e-41a6-b4b4-17bac2a54830",
   "metadata": {
    "tags": []
   },
   "outputs": [
    {
     "name": "stdout",
     "output_type": "stream",
     "text": [
      "Duplicates count before droping:0\n",
      "Duplicates count after droping:0\n",
      "Data dimension(226, 14)\n"
     ]
    }
   ],
   "source": [
    "remove_duplicates(df_train)"
   ]
  }
 ],
 "metadata": {
  "kernelspec": {
   "display_name": "Python 3 (ipykernel)",
   "language": "python",
   "name": "python3"
  },
  "language_info": {
   "codemirror_mode": {
    "name": "ipython",
    "version": 3
   },
   "file_extension": ".py",
   "mimetype": "text/x-python",
   "name": "python",
   "nbconvert_exporter": "python",
   "pygments_lexer": "ipython3",
   "version": "3.9.13"
  },
  "widgets": {
   "application/vnd.jupyter.widget-state+json": {
    "state": {},
    "version_major": 2,
    "version_minor": 0
   }
  }
 },
 "nbformat": 4,
 "nbformat_minor": 5
}
