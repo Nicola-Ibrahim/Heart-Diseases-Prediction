{
 "cells": [
  {
   "cell_type": "code",
   "execution_count": 39,
   "metadata": {},
   "outputs": [],
   "source": [
    "TRAIN_DATA_PATH = \"../../data/interim/cleveland_train.pkl\"\n",
    "PROC_TRAIN_DATA_PATH = \"../../data/interim/1__analytics_preprocessed_df.pkl\"\n"
   ]
  },
  {
   "attachments": {},
   "cell_type": "markdown",
   "metadata": {},
   "source": [
    "# Import packages\n"
   ]
  },
  {
   "cell_type": "code",
   "execution_count": 40,
   "metadata": {},
   "outputs": [],
   "source": [
    "import pandas as pd\n",
    "import numpy as np\n",
    "\n",
    "import warnings\n",
    "warnings.filterwarnings('ignore')\n"
   ]
  },
  {
   "cell_type": "code",
   "execution_count": 41,
   "metadata": {},
   "outputs": [],
   "source": [
    "# Change some pandas display options\n",
    "pd.set_option(\"display.max_rows\", 500)\n",
    "pd.set_option(\"display.max_columns\", 500)\n",
    "pd.set_option(\"display.max_colwidth\", 0)\n",
    "pd.set_option(\"display.width\", 1000)\n",
    "pd.set_option(\"styler.format.precision\", 10)\n"
   ]
  },
  {
   "cell_type": "code",
   "execution_count": 42,
   "metadata": {},
   "outputs": [],
   "source": [
    "df_train = pd.read_pickle(TRAIN_DATA_PATH)\n"
   ]
  },
  {
   "attachments": {},
   "cell_type": "markdown",
   "metadata": {},
   "source": [
    "# Functions\n"
   ]
  },
  {
   "cell_type": "code",
   "execution_count": 43,
   "metadata": {},
   "outputs": [],
   "source": [
    "\n",
    "def renamed_cols(data:pd.DataFrame, output=True):    \n",
    "    \"\"\"Changes columns name for the passed dataset\n",
    "    \"\"\"\n",
    "\n",
    "    # Obtain features before modifying names\n",
    "    old_columns_names = data.columns.to_list()\n",
    "    \n",
    "   \n",
    "    data.rename(\n",
    "        columns={\n",
    "            'cp'        :   'chest pain type',\n",
    "            'trestbps'  :   'resting blood pressure',\n",
    "            'chol'      :   'serum cholestoral',\n",
    "            'fbs'       :   'fasting blood sugar',\n",
    "            'restecg'   :   'resting electrocardiographic',\n",
    "            'thalach'   :   'maximum heart rate',\n",
    "            'exang'     :   'exercise induced angina',\n",
    "            'oldpeak'   :   'ST depression',\n",
    "            'slope'     :   'slope peak exercise ST segment',\n",
    "            'ca'        :   'number of major vessels',\n",
    "            'thal'      :   'thallium stress result'\n",
    "        },\n",
    "        inplace = True\n",
    "    )\n",
    "    \n",
    "    \n",
    "    # data.rename(\n",
    "    #     columns={\n",
    "    #         'resting bp s'  :   'resting blood pressure',\n",
    "    #         'cholesterol'      :   'serum cholestoral',\n",
    "    #         'resting ecg'   :   'resting electrocardiographic',\n",
    "    #         'max heart rate'   :   'maximum heart rate',\n",
    "    #         'exercise angina'     :   'exercise induced angina',\n",
    "    #         'oldpeak'   :   'ST depression',\n",
    "    #         'ST slope'     :   'slope peak exercise ST segment',\n",
    "    #     },\n",
    "    #     inplace = True\n",
    "    # )\n",
    "    \n",
    "    if(output):\n",
    "        new_columns_names = data.columns.to_list()\n",
    "    \n",
    "        # before_after_pairs = pd.DataFrame([old_columns_names, new_columns_names], columns=['before renaming', 'after renaming'])\n",
    "        before_after_pairs = pd.DataFrame({'before renaming': old_columns_names, 'after renaming': new_columns_names})\n",
    "\n",
    "        print(before_after_pairs)\n",
    "\n",
    "    return None\n",
    "\n",
    "\n",
    "def remove_duplicates(data: pd.DataFrame):\n",
    "    \"\"\" Remove duplicates values if exist\"\"\"\n",
    "    print(f\"Duplicates count before droping:{data.duplicated().sum()}\")\n",
    "    data.drop_duplicates(inplace=True)\n",
    "    print(f\"Duplicates count after droping:{data.duplicated().sum()}\")\n",
    "    print(f\"Data dimension{data.shape}\")\n"
   ]
  },
  {
   "attachments": {},
   "cell_type": "markdown",
   "metadata": {},
   "source": [
    "# Substitute strange values"
   ]
  },
  {
   "cell_type": "code",
   "execution_count": 44,
   "metadata": {},
   "outputs": [],
   "source": [
    "# Substitute '?' with np.NAN\n",
    "df_train.replace('?', np.nan, inplace=True)"
   ]
  },
  {
   "attachments": {},
   "cell_type": "markdown",
   "metadata": {},
   "source": [
    "# Duplicates\n"
   ]
  },
  {
   "cell_type": "code",
   "execution_count": 45,
   "metadata": {},
   "outputs": [
    {
     "name": "stdout",
     "output_type": "stream",
     "text": [
      "Duplicates count before droping:0\n",
      "Duplicates count after droping:0\n",
      "Data dimension(226, 14)\n"
     ]
    }
   ],
   "source": [
    "remove_duplicates(df_train)"
   ]
  },
  {
   "attachments": {},
   "cell_type": "markdown",
   "metadata": {},
   "source": [
    "# Change columns name"
   ]
  },
  {
   "cell_type": "code",
   "execution_count": 46,
   "metadata": {},
   "outputs": [
    {
     "name": "stdout",
     "output_type": "stream",
     "text": [
      "   before renaming                  after renaming\n",
      "0   age             age                           \n",
      "1   sex             sex                           \n",
      "2   cp              chest pain type               \n",
      "3   trestbps        resting blood pressure        \n",
      "4   chol            serum cholestoral             \n",
      "5   fbs             fasting blood sugar           \n",
      "6   restecg         resting electrocardiographic  \n",
      "7   thalach         maximum heart rate            \n",
      "8   exang           exercise induced angina       \n",
      "9   oldpeak         ST depression                 \n",
      "10  slope           slope peak exercise ST segment\n",
      "11  ca              number of major vessels       \n",
      "12  thal            thallium stress result        \n",
      "13  target          target                        \n"
     ]
    }
   ],
   "source": [
    "renamed_cols(df_train)"
   ]
  },
  {
   "attachments": {},
   "cell_type": "markdown",
   "metadata": {},
   "source": [
    "# Numbers to String\n",
    "\n",
    "Changing categorical features that contain numbers to be in string format\n",
    "\n",
    "| Attribute                          | Updated Feature Values                                                   |\n",
    "| :--------------------------------- | :----------------------------------------------------------------------- |\n",
    "| **sex**                            | 0:female<br>1:male                                                       |\n",
    "| **chest pain type**                | 1:typical angina<br>2:atypical angina<br>3:non-anginal<br>4:asymptomatic |\n",
    "| **fasting blood sugar**            | 0:> 120 mg/dl<br>1:< 120 mg/dl                                           |\n",
    "| **resting electrocardiographic**   | 0:normal<br>1:ST-T wave abnormality<br>2:ventricular hypertrophy         |\n",
    "| **exercise induced angina**        | 0:no<br>1:yes                                                            |\n",
    "| **slope peak exercise ST segment** | 1:upsloping<br>2:flat<br>3:downsloping                                   |\n",
    "| **thallium stress result**         | 3:normal<br>6:fixed defect<br>7:reversible defect                        |\n",
    "| **target**                         | 0:no disease<br>1:LAD<br>2:LCX<br>3:RCA<br>4:highest                     |\n"
   ]
  },
  {
   "cell_type": "code",
   "execution_count": 47,
   "metadata": {},
   "outputs": [],
   "source": [
    "REPLACEMENTS = {\n",
    "    \"sex\" : {0: \"female\", 1: \"male\"},\n",
    "    \"chest pain type\" : {1: \"typical angina\", 2: \"atypical angina\", 3: \"non-anginal\", 4: \"asymptomatic\"},\n",
    "    \"fasting blood sugar\" : {0: \"> 120 mg/dl\", 1: \"< 120 mg/dl\"},\n",
    "    \"resting electrocardiographic\":{0: \"normal\", 1: \"ST wave abnormality\", 2: \"ventricular hypertrophy\"},\n",
    "    \"exercise induced angina\" : {0: \"no\", 1: \"yes\"},\n",
    "    \"slope peak exercise ST segment\" : {1: \"upsloping\", 2: \"flat\", 3: \"downsloping\"},\n",
    "    \"thallium stress result\" : {3: \"normal\", 6: \"fixed defect\", 7: \"reversible defect\"},\n",
    "    \"target\" : {0: \"no disease\", 1: \"LAD\", 2: \"LCX\", 3: \"RCA\", 4: \"highest\"}\n",
    "    \n",
    "}"
   ]
  },
  {
   "cell_type": "code",
   "execution_count": 48,
   "metadata": {},
   "outputs": [],
   "source": [
    "# Convert all columns to numeric\n",
    "df_train = df_train.apply(pd.to_numeric)\n",
    "\n",
    "for col, replacement in REPLACEMENTS.items():\n",
    "    df_train[col] = df_train[col].map(replacement).astype(str)"
   ]
  },
  {
   "cell_type": "code",
   "execution_count": 49,
   "metadata": {},
   "outputs": [
    {
     "data": {
      "text/html": [
       "<div>\n",
       "<style scoped>\n",
       "    .dataframe tbody tr th:only-of-type {\n",
       "        vertical-align: middle;\n",
       "    }\n",
       "\n",
       "    .dataframe tbody tr th {\n",
       "        vertical-align: top;\n",
       "    }\n",
       "\n",
       "    .dataframe thead th {\n",
       "        text-align: right;\n",
       "    }\n",
       "</style>\n",
       "<table border=\"1\" class=\"dataframe\">\n",
       "  <thead>\n",
       "    <tr style=\"text-align: right;\">\n",
       "      <th></th>\n",
       "      <th>age</th>\n",
       "      <th>sex</th>\n",
       "      <th>chest pain type</th>\n",
       "      <th>resting blood pressure</th>\n",
       "      <th>serum cholestoral</th>\n",
       "      <th>fasting blood sugar</th>\n",
       "      <th>resting electrocardiographic</th>\n",
       "      <th>maximum heart rate</th>\n",
       "      <th>exercise induced angina</th>\n",
       "      <th>ST depression</th>\n",
       "      <th>slope peak exercise ST segment</th>\n",
       "      <th>number of major vessels</th>\n",
       "      <th>thallium stress result</th>\n",
       "      <th>target</th>\n",
       "    </tr>\n",
       "  </thead>\n",
       "  <tbody>\n",
       "    <tr>\n",
       "      <th>156</th>\n",
       "      <td>58.0</td>\n",
       "      <td>male</td>\n",
       "      <td>asymptomatic</td>\n",
       "      <td>125.0</td>\n",
       "      <td>300.0</td>\n",
       "      <td>&gt; 120 mg/dl</td>\n",
       "      <td>ventricular hypertrophy</td>\n",
       "      <td>171.0</td>\n",
       "      <td>no</td>\n",
       "      <td>0.0</td>\n",
       "      <td>upsloping</td>\n",
       "      <td>2.0</td>\n",
       "      <td>reversible defect</td>\n",
       "      <td>LAD</td>\n",
       "    </tr>\n",
       "    <tr>\n",
       "      <th>118</th>\n",
       "      <td>65.0</td>\n",
       "      <td>male</td>\n",
       "      <td>asymptomatic</td>\n",
       "      <td>135.0</td>\n",
       "      <td>254.0</td>\n",
       "      <td>&gt; 120 mg/dl</td>\n",
       "      <td>ventricular hypertrophy</td>\n",
       "      <td>127.0</td>\n",
       "      <td>no</td>\n",
       "      <td>2.8</td>\n",
       "      <td>flat</td>\n",
       "      <td>1.0</td>\n",
       "      <td>reversible defect</td>\n",
       "      <td>LCX</td>\n",
       "    </tr>\n",
       "    <tr>\n",
       "      <th>277</th>\n",
       "      <td>57.0</td>\n",
       "      <td>male</td>\n",
       "      <td>atypical angina</td>\n",
       "      <td>154.0</td>\n",
       "      <td>232.0</td>\n",
       "      <td>&gt; 120 mg/dl</td>\n",
       "      <td>ventricular hypertrophy</td>\n",
       "      <td>164.0</td>\n",
       "      <td>no</td>\n",
       "      <td>0.0</td>\n",
       "      <td>upsloping</td>\n",
       "      <td>1.0</td>\n",
       "      <td>normal</td>\n",
       "      <td>LAD</td>\n",
       "    </tr>\n",
       "    <tr>\n",
       "      <th>142</th>\n",
       "      <td>64.0</td>\n",
       "      <td>male</td>\n",
       "      <td>non-anginal</td>\n",
       "      <td>125.0</td>\n",
       "      <td>309.0</td>\n",
       "      <td>&gt; 120 mg/dl</td>\n",
       "      <td>normal</td>\n",
       "      <td>131.0</td>\n",
       "      <td>yes</td>\n",
       "      <td>1.8</td>\n",
       "      <td>flat</td>\n",
       "      <td>0.0</td>\n",
       "      <td>reversible defect</td>\n",
       "      <td>LAD</td>\n",
       "    </tr>\n",
       "    <tr>\n",
       "      <th>297</th>\n",
       "      <td>45.0</td>\n",
       "      <td>male</td>\n",
       "      <td>typical angina</td>\n",
       "      <td>110.0</td>\n",
       "      <td>264.0</td>\n",
       "      <td>&gt; 120 mg/dl</td>\n",
       "      <td>normal</td>\n",
       "      <td>132.0</td>\n",
       "      <td>no</td>\n",
       "      <td>1.2</td>\n",
       "      <td>flat</td>\n",
       "      <td>0.0</td>\n",
       "      <td>reversible defect</td>\n",
       "      <td>LAD</td>\n",
       "    </tr>\n",
       "  </tbody>\n",
       "</table>\n",
       "</div>"
      ],
      "text/plain": [
       "      age   sex  chest pain type  resting blood pressure  serum cholestoral fasting blood sugar resting electrocardiographic  maximum heart rate exercise induced angina  ST depression slope peak exercise ST segment  number of major vessels thallium stress result target\n",
       "156  58.0  male  asymptomatic     125.0                   300.0              > 120 mg/dl         ventricular hypertrophy      171.0               no                      0.0            upsloping                      2.0                      reversible defect      LAD  \n",
       "118  65.0  male  asymptomatic     135.0                   254.0              > 120 mg/dl         ventricular hypertrophy      127.0               no                      2.8            flat                           1.0                      reversible defect      LCX  \n",
       "277  57.0  male  atypical angina  154.0                   232.0              > 120 mg/dl         ventricular hypertrophy      164.0               no                      0.0            upsloping                      1.0                      normal                 LAD  \n",
       "142  64.0  male  non-anginal      125.0                   309.0              > 120 mg/dl         normal                       131.0               yes                     1.8            flat                           0.0                      reversible defect      LAD  \n",
       "297  45.0  male  typical angina   110.0                   264.0              > 120 mg/dl         normal                       132.0               no                      1.2            flat                           0.0                      reversible defect      LAD  "
      ]
     },
     "execution_count": 49,
     "metadata": {},
     "output_type": "execute_result"
    }
   ],
   "source": [
    "\n",
    "df_train.head(5)\n"
   ]
  },
  {
   "cell_type": "code",
   "execution_count": 51,
   "metadata": {},
   "outputs": [
    {
     "name": "stdout",
     "output_type": "stream",
     "text": [
      "<class 'pandas.core.frame.DataFrame'>\n",
      "Int64Index: 226 entries, 156 to 256\n",
      "Data columns (total 14 columns):\n",
      " #   Column                          Non-Null Count  Dtype  \n",
      "---  ------                          --------------  -----  \n",
      " 0   age                             226 non-null    float64\n",
      " 1   sex                             226 non-null    object \n",
      " 2   chest pain type                 226 non-null    object \n",
      " 3   resting blood pressure          226 non-null    float64\n",
      " 4   serum cholestoral               226 non-null    float64\n",
      " 5   fasting blood sugar             226 non-null    object \n",
      " 6   resting electrocardiographic    226 non-null    object \n",
      " 7   maximum heart rate              226 non-null    float64\n",
      " 8   exercise induced angina         226 non-null    object \n",
      " 9   ST depression                   226 non-null    float64\n",
      " 10  slope peak exercise ST segment  226 non-null    object \n",
      " 11  number of major vessels         222 non-null    float64\n",
      " 12  thallium stress result          226 non-null    object \n",
      " 13  target                          226 non-null    object \n",
      "dtypes: float64(6), object(8)\n",
      "memory usage: 26.5+ KB\n"
     ]
    }
   ],
   "source": [
    "df_train.info()"
   ]
  },
  {
   "attachments": {},
   "cell_type": "markdown",
   "metadata": {},
   "source": [
    "# Save processed data\n"
   ]
  },
  {
   "cell_type": "code",
   "execution_count": 50,
   "metadata": {},
   "outputs": [],
   "source": [
    "df_train.to_pickle(PROC_TRAIN_DATA_PATH)"
   ]
  }
 ],
 "metadata": {
  "kernelspec": {
   "display_name": "base",
   "language": "python",
   "name": "python3"
  },
  "language_info": {
   "codemirror_mode": {
    "name": "ipython",
    "version": 3
   },
   "file_extension": ".py",
   "mimetype": "text/x-python",
   "name": "python",
   "nbconvert_exporter": "python",
   "pygments_lexer": "ipython3",
   "version": "3.9.12"
  },
  "orig_nbformat": 4,
  "vscode": {
   "interpreter": {
    "hash": "dafb1f7618ea635952683f9de1ec2ad0605097bc28573cb02814b9f97cdb4857"
   }
  }
 },
 "nbformat": 4,
 "nbformat_minor": 2
}
