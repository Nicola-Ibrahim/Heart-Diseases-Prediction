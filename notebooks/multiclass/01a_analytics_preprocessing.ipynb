{
 "cells": [
  {
   "cell_type": "code",
   "execution_count": 31,
   "metadata": {
    "tags": []
   },
   "outputs": [],
   "source": [
    "TRAIN_DATA_PATH = \"../../data/interim/train_data.pkl\"\n",
    "PROC_TRAIN_DATA_PATH = \"../../data/interim/1__analytics_preprocessed_data.pkl\""
   ]
  },
  {
   "cell_type": "markdown",
   "metadata": {
    "tags": []
   },
   "source": [
    "# Import packages\n"
   ]
  },
  {
   "cell_type": "code",
   "execution_count": 32,
   "metadata": {
    "tags": []
   },
   "outputs": [],
   "source": [
    "import pandas as pd\n",
    "import numpy as np\n",
    "\n",
    "import warnings\n",
    "\n",
    "warnings.filterwarnings(\"ignore\")"
   ]
  },
  {
   "cell_type": "code",
   "execution_count": 33,
   "metadata": {
    "tags": []
   },
   "outputs": [],
   "source": [
    "# Change some pandas display options\n",
    "pd.set_option(\"display.max_rows\", 500)\n",
    "pd.set_option(\"display.max_columns\", 500)\n",
    "pd.set_option(\"display.max_colwidth\", 0)\n",
    "pd.set_option(\"display.width\", 1000)\n",
    "pd.set_option(\"styler.format.precision\", 10)"
   ]
  },
  {
   "cell_type": "code",
   "execution_count": 34,
   "metadata": {
    "tags": []
   },
   "outputs": [],
   "source": [
    "df_train = pd.read_pickle(TRAIN_DATA_PATH)"
   ]
  },
  {
   "cell_type": "markdown",
   "metadata": {
    "tags": []
   },
   "source": [
    "# Functions\n"
   ]
  },
  {
   "cell_type": "code",
   "execution_count": 35,
   "metadata": {
    "tags": []
   },
   "outputs": [],
   "source": [
    "def remove_duplicates(data: pd.DataFrame):\n",
    "    \"\"\"Remove duplicates values if exist\"\"\"\n",
    "    print(f\"Duplicates count before droping:{data.duplicated().sum()}\")\n",
    "    data.drop_duplicates(inplace=True)\n",
    "    print(f\"Duplicates count after droping:{data.duplicated().sum()}\")\n",
    "    print(f\"Data dimension{data.shape}\")"
   ]
  },
  {
   "cell_type": "markdown",
   "metadata": {},
   "source": [
    "# Substitute strange values"
   ]
  },
  {
   "cell_type": "code",
   "execution_count": 36,
   "metadata": {
    "tags": []
   },
   "outputs": [],
   "source": [
    "# Substitute '?' with np.NAN\n",
    "df_train.replace(\"?\", np.nan, inplace=True)"
   ]
  },
  {
   "cell_type": "markdown",
   "metadata": {},
   "source": [
    "# Duplicates\n"
   ]
  },
  {
   "cell_type": "code",
   "execution_count": 37,
   "metadata": {
    "tags": []
   },
   "outputs": [
    {
     "name": "stdout",
     "output_type": "stream",
     "text": [
      "Duplicates count before droping:0\n",
      "Duplicates count after droping:0\n",
      "Data dimension(271, 14)\n"
     ]
    }
   ],
   "source": [
    "remove_duplicates(df_train)"
   ]
  },
  {
   "cell_type": "markdown",
   "metadata": {
    "tags": []
   },
   "source": [
    "# Numbers to String\n",
    "\n",
    "Changing categorical features that contain numbers to be in string format\n",
    "\n",
    "| Attribute                          | Updated Feature Values                                                   |\n",
    "| :--------------------------------- | :----------------------------------------------------------------------- |\n",
    "| **sex**                            | 0:female<br>1:male                                                       |\n",
    "| **chest pain type**                | 1:typical angina<br>2:atypical angina<br>3:non-anginal<br>4:asymptomatic |\n",
    "| **fasting blood sugar**            | 0:> 120 mg/dl<br>1:< 120 mg/dl                                           |\n",
    "| **resting electrocardiographic**   | 0:normal<br>1:ST-T wave abnormality<br>2:ventricular hypertrophy         |\n",
    "| **exercise induced angina**        | 0:no<br>1:yes                                                            |\n",
    "| **slope peak exercise ST segment** | 1:upsloping<br>2:flat<br>3:downsloping                                   |\n",
    "| **thallium stress result**         | 3:normal<br>6:fixed defect<br>7:reversible defect                        |\n",
    "| **target**                         | 0:no disease<br>1:LAD<br>2:LCX<br>3:RCA<br>4:highest                     |\n"
   ]
  },
  {
   "cell_type": "code",
   "execution_count": 38,
   "metadata": {
    "tags": []
   },
   "outputs": [],
   "source": [
    "REPLACEMENTS = {\n",
    "    \"sex\": {0: \"female\", 1: \"male\"},\n",
    "    \"chest_pain_type\": {\n",
    "        1: \"typical angina\",\n",
    "        2: \"atypical angina\",\n",
    "        3: \"non-anginal\",\n",
    "        4: \"asymptomatic\",\n",
    "    },\n",
    "    \"fasting_blood_sugar\": {0: \"> 120 mg/dl\", 1: \"< 120 mg/dl\"},\n",
    "    \"resting_electrocardiographic\": {\n",
    "        0: \"normal\",\n",
    "        1: \"ST wave abnormality\",\n",
    "        2: \"ventricular hypertrophy\",\n",
    "    },\n",
    "    \"exercise_induced_angina\": {0: \"no\", 1: \"yes\"},\n",
    "    \"slope_peak_exercise_ST_segment\": {1: \"upsloping\", 2: \"flat\", 3: \"downsloping\"},\n",
    "    \"thallium_stress_result\": {3: \"normal\", 6: \"fixed defect\", 7: \"reversible defect\"},\n",
    "    \"target\": {0: \"no disease\", 1: \"LAD\", 2: \"LCX\", 3: \"RCA\", 4: \"highest\"},\n",
    "}\n",
    "\n",
    "# Convert all columns to numeric\n",
    "df_train = df_train.apply(pd.to_numeric)\n",
    "\n",
    "for col, replacement in REPLACEMENTS.items():\n",
    "    df_train[col] = df_train[col].map(replacement).astype(str)"
   ]
  },
  {
   "cell_type": "code",
   "execution_count": 39,
   "metadata": {},
   "outputs": [],
   "source": [
    "# 'number of major vessels' has only 4 values\n",
    "# Change its type to be object\n",
    "df_train[\"number_of_major_vessels\"] = df_train[\"number_of_major_vessels\"].astype(\n",
    "    \"object\"\n",
    ")"
   ]
  },
  {
   "cell_type": "code",
   "execution_count": 40,
   "metadata": {},
   "outputs": [
    {
     "data": {
      "text/html": [
       "<div>\n",
       "<style scoped>\n",
       "    .dataframe tbody tr th:only-of-type {\n",
       "        vertical-align: middle;\n",
       "    }\n",
       "\n",
       "    .dataframe tbody tr th {\n",
       "        vertical-align: top;\n",
       "    }\n",
       "\n",
       "    .dataframe thead th {\n",
       "        text-align: right;\n",
       "    }\n",
       "</style>\n",
       "<table border=\"1\" class=\"dataframe\">\n",
       "  <thead>\n",
       "    <tr style=\"text-align: right;\">\n",
       "      <th></th>\n",
       "      <th>age</th>\n",
       "      <th>sex</th>\n",
       "      <th>chest_pain_type</th>\n",
       "      <th>resting_blood_pressure</th>\n",
       "      <th>serum_cholestoral</th>\n",
       "      <th>fasting_blood_sugar</th>\n",
       "      <th>resting_electrocardiographic</th>\n",
       "      <th>maximum_heart_rate</th>\n",
       "      <th>exercise_induced_angina</th>\n",
       "      <th>ST_depression</th>\n",
       "      <th>slope_peak_exercise_ST_segment</th>\n",
       "      <th>number_of_major_vessels</th>\n",
       "      <th>thallium_stress_result</th>\n",
       "      <th>target</th>\n",
       "    </tr>\n",
       "  </thead>\n",
       "  <tbody>\n",
       "    <tr>\n",
       "      <th>155</th>\n",
       "      <td>51.0</td>\n",
       "      <td>male</td>\n",
       "      <td>asymptomatic</td>\n",
       "      <td>140.0</td>\n",
       "      <td>299.0</td>\n",
       "      <td>&gt; 120 mg/dl</td>\n",
       "      <td>normal</td>\n",
       "      <td>173.0</td>\n",
       "      <td>yes</td>\n",
       "      <td>1.6</td>\n",
       "      <td>upsloping</td>\n",
       "      <td>0.0</td>\n",
       "      <td>reversible defect</td>\n",
       "      <td>LAD</td>\n",
       "    </tr>\n",
       "    <tr>\n",
       "      <th>10</th>\n",
       "      <td>56.0</td>\n",
       "      <td>female</td>\n",
       "      <td>atypical angina</td>\n",
       "      <td>140.0</td>\n",
       "      <td>294.0</td>\n",
       "      <td>&gt; 120 mg/dl</td>\n",
       "      <td>ventricular hypertrophy</td>\n",
       "      <td>153.0</td>\n",
       "      <td>no</td>\n",
       "      <td>1.3</td>\n",
       "      <td>flat</td>\n",
       "      <td>0.0</td>\n",
       "      <td>normal</td>\n",
       "      <td>no disease</td>\n",
       "    </tr>\n",
       "    <tr>\n",
       "      <th>53</th>\n",
       "      <td>60.0</td>\n",
       "      <td>male</td>\n",
       "      <td>asymptomatic</td>\n",
       "      <td>130.0</td>\n",
       "      <td>253.0</td>\n",
       "      <td>&gt; 120 mg/dl</td>\n",
       "      <td>normal</td>\n",
       "      <td>144.0</td>\n",
       "      <td>yes</td>\n",
       "      <td>1.4</td>\n",
       "      <td>upsloping</td>\n",
       "      <td>1.0</td>\n",
       "      <td>reversible defect</td>\n",
       "      <td>LAD</td>\n",
       "    </tr>\n",
       "    <tr>\n",
       "      <th>122</th>\n",
       "      <td>55.0</td>\n",
       "      <td>male</td>\n",
       "      <td>asymptomatic</td>\n",
       "      <td>140.0</td>\n",
       "      <td>217.0</td>\n",
       "      <td>&gt; 120 mg/dl</td>\n",
       "      <td>normal</td>\n",
       "      <td>111.0</td>\n",
       "      <td>yes</td>\n",
       "      <td>5.6</td>\n",
       "      <td>downsloping</td>\n",
       "      <td>0.0</td>\n",
       "      <td>reversible defect</td>\n",
       "      <td>RCA</td>\n",
       "    </tr>\n",
       "    <tr>\n",
       "      <th>208</th>\n",
       "      <td>62.0</td>\n",
       "      <td>female</td>\n",
       "      <td>asymptomatic</td>\n",
       "      <td>150.0</td>\n",
       "      <td>244.0</td>\n",
       "      <td>&gt; 120 mg/dl</td>\n",
       "      <td>normal</td>\n",
       "      <td>154.0</td>\n",
       "      <td>yes</td>\n",
       "      <td>1.4</td>\n",
       "      <td>flat</td>\n",
       "      <td>0.0</td>\n",
       "      <td>normal</td>\n",
       "      <td>LAD</td>\n",
       "    </tr>\n",
       "  </tbody>\n",
       "</table>\n",
       "</div>"
      ],
      "text/plain": [
       "      age     sex  chest_pain_type  resting_blood_pressure  serum_cholestoral fasting_blood_sugar resting_electrocardiographic  maximum_heart_rate exercise_induced_angina  ST_depression slope_peak_exercise_ST_segment number_of_major_vessels thallium_stress_result      target\n",
       "155  51.0  male    asymptomatic     140.0                   299.0              > 120 mg/dl         normal                       173.0               yes                     1.6            upsloping                      0.0                     reversible defect      LAD       \n",
       "10   56.0  female  atypical angina  140.0                   294.0              > 120 mg/dl         ventricular hypertrophy      153.0               no                      1.3            flat                           0.0                     normal                 no disease\n",
       "53   60.0  male    asymptomatic     130.0                   253.0              > 120 mg/dl         normal                       144.0               yes                     1.4            upsloping                      1.0                     reversible defect      LAD       \n",
       "122  55.0  male    asymptomatic     140.0                   217.0              > 120 mg/dl         normal                       111.0               yes                     5.6            downsloping                    0.0                     reversible defect      RCA       \n",
       "208  62.0  female  asymptomatic     150.0                   244.0              > 120 mg/dl         normal                       154.0               yes                     1.4            flat                           0.0                     normal                 LAD       "
      ]
     },
     "execution_count": 40,
     "metadata": {},
     "output_type": "execute_result"
    }
   ],
   "source": [
    "df_train.head(5)"
   ]
  },
  {
   "cell_type": "code",
   "execution_count": 41,
   "metadata": {},
   "outputs": [
    {
     "name": "stdout",
     "output_type": "stream",
     "text": [
      "<class 'pandas.core.frame.DataFrame'>\n",
      "Int64Index: 271 entries, 155 to 174\n",
      "Data columns (total 14 columns):\n",
      " #   Column                          Non-Null Count  Dtype  \n",
      "---  ------                          --------------  -----  \n",
      " 0   age                             271 non-null    float64\n",
      " 1   sex                             271 non-null    object \n",
      " 2   chest_pain_type                 271 non-null    object \n",
      " 3   resting_blood_pressure          271 non-null    float64\n",
      " 4   serum_cholestoral               271 non-null    float64\n",
      " 5   fasting_blood_sugar             271 non-null    object \n",
      " 6   resting_electrocardiographic    271 non-null    object \n",
      " 7   maximum_heart_rate              271 non-null    float64\n",
      " 8   exercise_induced_angina         271 non-null    object \n",
      " 9   ST_depression                   271 non-null    float64\n",
      " 10  slope_peak_exercise_ST_segment  271 non-null    object \n",
      " 11  number_of_major_vessels         267 non-null    object \n",
      " 12  thallium_stress_result          271 non-null    object \n",
      " 13  target                          271 non-null    object \n",
      "dtypes: float64(5), object(9)\n",
      "memory usage: 31.8+ KB\n"
     ]
    }
   ],
   "source": [
    "df_train.info()"
   ]
  },
  {
   "cell_type": "markdown",
   "metadata": {
    "tags": []
   },
   "source": [
    "# Add columns"
   ]
  },
  {
   "cell_type": "markdown",
   "metadata": {
    "tags": []
   },
   "source": [
    "## Slice age column"
   ]
  },
  {
   "cell_type": "code",
   "execution_count": 42,
   "metadata": {},
   "outputs": [],
   "source": [
    "min_val = df_train[\"age\"].min()\n",
    "max_val = df_train[\"age\"].max()\n",
    "df_train[\"age_encoded\"] = pd.cut(\n",
    "    df_train[\"age\"],\n",
    "    bins=[min_val, 41, 55, max_val],\n",
    "    labels=[\"Adults\", \"Middle-Aged\", \"Senior\"],\n",
    ")\n",
    "df_train[\"age_encoded\"] = df_train[\"age_encoded\"].astype(\"object\")"
   ]
  },
  {
   "cell_type": "markdown",
   "metadata": {},
   "source": [
    "# Save processed data\n"
   ]
  },
  {
   "cell_type": "code",
   "execution_count": 43,
   "metadata": {
    "tags": []
   },
   "outputs": [],
   "source": [
    "df_train.to_pickle(PROC_TRAIN_DATA_PATH)"
   ]
  },
  {
   "cell_type": "code",
   "execution_count": null,
   "metadata": {},
   "outputs": [],
   "source": []
  }
 ],
 "metadata": {
  "kernelspec": {
   "display_name": "Python 3 (ipykernel)",
   "language": "python",
   "name": "python3"
  },
  "language_info": {
   "codemirror_mode": {
    "name": "ipython",
    "version": 3
   },
   "file_extension": ".py",
   "mimetype": "text/x-python",
   "name": "python",
   "nbconvert_exporter": "python",
   "pygments_lexer": "ipython3",
   "version": "3.9.12"
  },
  "vscode": {
   "interpreter": {
    "hash": "dafb1f7618ea635952683f9de1ec2ad0605097bc28573cb02814b9f97cdb4857"
   }
  },
  "widgets": {
   "application/vnd.jupyter.widget-state+json": {
    "state": {},
    "version_major": 2,
    "version_minor": 0
   }
  }
 },
 "nbformat": 4,
 "nbformat_minor": 4
}
