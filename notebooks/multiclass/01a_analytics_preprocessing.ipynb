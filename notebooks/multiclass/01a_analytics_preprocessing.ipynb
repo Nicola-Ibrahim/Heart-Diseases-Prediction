{
 "cells": [
  {
   "cell_type": "code",
   "execution_count": 123,
   "metadata": {},
   "outputs": [],
   "source": [
    "TRAIN_DATA_PATH = \"../../data/raw/heart_statlog_cleveland_hungary_final - Copy.csv\"\n",
    "PROC_TRAIN_DATA_PATH = \"../../data/interim/1__analytics_preprocessed_df.pkl\"\n"
   ]
  },
  {
   "attachments": {},
   "cell_type": "markdown",
   "metadata": {},
   "source": [
    "# Import packages\n"
   ]
  },
  {
   "cell_type": "code",
   "execution_count": 124,
   "metadata": {},
   "outputs": [],
   "source": [
    "import pandas as pd\n",
    "import numpy as np\n"
   ]
  },
  {
   "cell_type": "code",
   "execution_count": 125,
   "metadata": {},
   "outputs": [],
   "source": [
    "# Change some pandas display options\n",
    "pd.set_option(\"display.max_rows\", 500)\n",
    "pd.set_option(\"display.max_columns\", 500)\n",
    "pd.set_option(\"display.max_colwidth\", 0)\n",
    "pd.set_option(\"display.width\", 1000)\n",
    "pd.set_option(\"styler.format.precision\", 10)\n"
   ]
  },
  {
   "cell_type": "code",
   "execution_count": 126,
   "metadata": {},
   "outputs": [],
   "source": [
    "df_train = pd.read_csv(TRAIN_DATA_PATH)\n"
   ]
  },
  {
   "attachments": {},
   "cell_type": "markdown",
   "metadata": {},
   "source": [
    "# Functions\n"
   ]
  },
  {
   "cell_type": "code",
   "execution_count": 127,
   "metadata": {},
   "outputs": [],
   "source": [
    "\n",
    "# Get the values count for each feature in the DataFrame\n",
    "def get_values_count(data: pd.DataFrame, cols: list) -> None:\n",
    "    \"\"\"\n",
    "    Calculate the values count for each feature in the DataFrame\n",
    "    \n",
    "    Parameters\n",
    "    ----------\n",
    "    data : DataFrame\n",
    "    cols : list of features\n",
    "    \n",
    "    Returns\n",
    "    -------\n",
    "    values_count : DataFrame contains values count for each feature\n",
    "    \"\"\"\n",
    "    for col in cols:\n",
    "        print(f\"{col} :{data[col].value_counts(dropna=False).to_dict()}\")\n",
    "\n",
    "\n",
    "def get_unique_values(data: pd.DataFrame):\n",
    "    \"\"\"\n",
    "    Get unique values in each feature\n",
    "    \n",
    "    Parameters\n",
    "    ----------\n",
    "    data : DataFrame\n",
    "    \n",
    "    Returns\n",
    "    -------\n",
    "    unique_values : DataFrame contains unique values for each feature\n",
    "    \"\"\"\n",
    "\n",
    "    uniques = pd.DataFrame(data={\"feature\": [], \"uniques\": []})\n",
    "\n",
    "    for col in data.columns:\n",
    "        unique_values = data[col].unique()\n",
    "        if len(unique_values) > 1000:\n",
    "            continue\n",
    "\n",
    "        uniques.loc[len(uniques)] = [col, unique_values]\n",
    "\n",
    "    uniques.index = uniques[\"feature\"]\n",
    "    uniques.drop(columns=\"feature\", inplace=True)\n",
    "    return uniques\n",
    "\n",
    "\n",
    "def get_strange_values(data: pd.DataFrame) -> pd.DataFrame:\n",
    "    \"\"\"\n",
    "    Get strange values in each feature\n",
    "    \n",
    "    Parameters\n",
    "    ----------\n",
    "    data : DataFrame\n",
    "    \n",
    "    Returns\n",
    "    -------\n",
    "    unique_values : DataFrame contains unique values for each feature\n",
    "    \"\"\"\n",
    "\n",
    "    data_copy = data.copy()\n",
    "    uniques = pd.DataFrame(data={\"feature\": [], \"indices-values\": []})\n",
    "\n",
    "    for col in data_copy.columns:\n",
    "        # Change the column type to be string\n",
    "        data_copy[col] = data_copy[col].astype(str)\n",
    "\n",
    "        # The pattern for checking the presence of strange values\n",
    "        pattern = r\"([+-]?([0-9]+([.][0-9]*)?|[.][0-9]+)|[a-zA-Z]+)\"\n",
    "\n",
    "        # Get mask matrix that refers to strange values ([~]: for not contain)\n",
    "        strange_values_mask = ~data_copy[col].str.contains(\n",
    "            pat=pattern, na=True, regex=True, case=False\n",
    "        )\n",
    "\n",
    "        # Get index of the strange values\n",
    "        strange_values_ind = data_copy[strange_values_mask].index.to_list()\n",
    "\n",
    "        if not strange_values_ind:\n",
    "            continue\n",
    "\n",
    "        # dictionary = {\n",
    "        #     col : {ind:list(data_copy.loc[ind,col]) for ind in strange_values_ind}\n",
    "        # }\n",
    "\n",
    "        # reform = {(outerKey, innerKey): values for outerKey, innerDict in dictionary.items() for innerKey, values in innerDict.items()}\n",
    "        # reform = pd.DataFrame.from_dict(reform, orient='index').transpose()\n",
    "\n",
    "        uniques.loc[len(uniques)] = [\n",
    "            col,\n",
    "            [(ind, data_copy.loc[ind, col]) for ind in strange_values_ind],\n",
    "        ]\n",
    "        \n",
    "        print(uniques)\n",
    "\n",
    "    uniques.set_index(keys=[\"feature\"], inplace=True)\n",
    "\n",
    "    if not uniques.empty:\n",
    "        return uniques\n",
    "\n",
    "    return \"No strange values found!\"\n",
    "\n"
   ]
  },
  {
   "cell_type": "code",
   "execution_count": 128,
   "metadata": {},
   "outputs": [
    {
     "name": "stderr",
     "output_type": "stream",
     "text": [
      "C:\\Users\\Nicola\\AppData\\Local\\Temp\\ipykernel_3688\\1986596434.py:70: UserWarning: This pattern is interpreted as a regular expression, and has match groups. To actually get the groups, use str.extract.\n",
      "  strange_values_mask = ~data_copy[col].str.contains(\n"
     ]
    },
    {
     "data": {
      "text/plain": [
       "'No strange values found!'"
      ]
     },
     "execution_count": 128,
     "metadata": {},
     "output_type": "execute_result"
    }
   ],
   "source": [
    "get_strange_values(df_train)\n"
   ]
  },
  {
   "cell_type": "code",
   "execution_count": 129,
   "metadata": {},
   "outputs": [],
   "source": [
    "# Replace all '?' values with NaN\n",
    "df_train.replace('?', np.nan, inplace=True)\n"
   ]
  },
  {
   "attachments": {},
   "cell_type": "markdown",
   "metadata": {},
   "source": [
    "## Missing Values\n",
    "\n",
    "Since **number of major vessels** & **thallium stress result** are categorical features, the missing values could be replaced by most mode value.\n"
   ]
  },
  {
   "cell_type": "code",
   "execution_count": 130,
   "metadata": {},
   "outputs": [
    {
     "name": "stdout",
     "output_type": "stream",
     "text": [
      "--Missing values count--\n",
      "age                    0\n",
      "sex                    0\n",
      "chest pain type        0\n",
      "resting bp s           0\n",
      "cholesterol            0\n",
      "fasting blood sugar    0\n",
      "resting ecg            0\n",
      "max heart rate         0\n",
      "exercise angina        0\n",
      "oldpeak                0\n",
      "ST slope               0\n",
      "target                 0\n",
      "dtype: int64\n"
     ]
    }
   ],
   "source": [
    "# Remove null values if exist\n",
    "print(f\"--Missing values count--\\n{df_train.isnull().sum().sort_values()}\")\n"
   ]
  },
  {
   "cell_type": "code",
   "execution_count": 131,
   "metadata": {},
   "outputs": [],
   "source": [
    "# # Replace null values from training set\n",
    "# mode_imputer = SimpleImputer(strategy=\"most_frequent\")\n",
    "# train_data[\n",
    "#     [\"thallium stress result\", \"number of major vessels\"]\n",
    "# ] = mode_imputer.fit_transform(\n",
    "#     train_data[[\"thallium stress result\", \"number of major vessels\"]]\n",
    "# )\n",
    "# test_data[\n",
    "#     [\"thallium stress result\", \"number of major vessels\"]\n",
    "# ] = mode_imputer.transform(\n",
    "#     test_data[[\"thallium stress result\", \"number of major vessels\"]]\n",
    "# )\n"
   ]
  },
  {
   "attachments": {},
   "cell_type": "markdown",
   "metadata": {},
   "source": [
    "## Duplicates\n"
   ]
  },
  {
   "cell_type": "code",
   "execution_count": 132,
   "metadata": {},
   "outputs": [
    {
     "name": "stdout",
     "output_type": "stream",
     "text": [
      "Duplicates count before droping:272\n",
      "Duplicates count after droping:0\n",
      "Data dimension(1190, 12)\n"
     ]
    }
   ],
   "source": [
    "def remove_duplicates(data: pd.DataFrame):\n",
    "    data_copy = data.copy()\n",
    "    \"\"\" Remove duplicates values if exist\"\"\"\n",
    "    print(f\"Duplicates count before droping:{data_copy.duplicated().sum()}\")\n",
    "    data_copy.drop_duplicates(inplace=True)\n",
    "    print(f\"Duplicates count after droping:{data_copy.duplicated().sum()}\")\n",
    "    print(f\"Data dimension{data.shape}\")\n",
    "\n",
    "\n",
    "remove_duplicates(df_train)\n"
   ]
  },
  {
   "attachments": {},
   "cell_type": "markdown",
   "metadata": {},
   "source": [
    "## Balancing\n",
    "\n",
    "Check if the training data is well balanced because one of the major issues when dealing with unbalanced datasets relates to the metrics used to evaluate a model. Using simpler metrics like accuracy_score can be misleading. In a dataset with highly unbalanced classes, if the classifier always \"predicts\" the most common class without performing any analysis of the features, it will still have a high accuracy rate, obviously illusory.\n",
    "\n",
    "Depending on the obtained result, the data is well balanced and no need to resample it.\n"
   ]
  },
  {
   "cell_type": "code",
   "execution_count": 133,
   "metadata": {},
   "outputs": [],
   "source": [
    "# def check_balancing(data, target_name):\n",
    "#     \"\"\"\n",
    "#     Check if the target's classes are balanced between each other\n",
    "#     \"\"\"\n",
    "#     # return data[target_name].value_counts(normalize=normalize)\n",
    "\n",
    "#     # Target Class count\n",
    "#     plt.figure(figsize=(8, 8))\n",
    "#     plt.pie(\n",
    "#         data[target_name].value_counts(),\n",
    "#         labels=[\"no disease\", \"LAD\", \"LCX\", \"RCA\", \"highest\"],\n",
    "#         autopct=\"%1.2f%%\",\n",
    "#         explode=[0, 0.2, 0.2, 0.2, 0.2],\n",
    "#         shadow=True,\n",
    "#     )\n",
    "\n",
    "#     my_circle = plt.Circle((0, 0), 0.4, color=\"white\")\n",
    "#     p = plt.gcf()\n",
    "#     p.gca().add_artist(my_circle)\n",
    "#     plt.title(\"Target Class Count\")\n",
    "\n",
    "\n",
    "# check_balancing(train_data, \"target\")\n",
    "\n"
   ]
  },
  {
   "attachments": {},
   "cell_type": "markdown",
   "metadata": {},
   "source": [
    "# Change the cols name"
   ]
  },
  {
   "cell_type": "code",
   "execution_count": 134,
   "metadata": {},
   "outputs": [
    {
     "data": {
      "text/plain": [
       "Index(['age', 'sex', 'chest pain type', 'resting bp s', 'cholesterol', 'fasting blood sugar', 'resting ecg', 'max heart rate', 'exercise angina', 'oldpeak', 'ST slope', 'target'], dtype='object')"
      ]
     },
     "execution_count": 134,
     "metadata": {},
     "output_type": "execute_result"
    }
   ],
   "source": [
    "df_train.columns"
   ]
  },
  {
   "cell_type": "code",
   "execution_count": 135,
   "metadata": {},
   "outputs": [],
   "source": [
    "# new_cols_names = [\n",
    "#     \"sex\",\n",
    "#     \"chest pain type\",\n",
    "#     \"fasting blood sugar\",\n",
    "#     \"resting electrocardiographic\",\n",
    "#     \"exercise induced angina\",\n",
    "#     \"slope peak exercise ST segment\",\n",
    "#     \"number of major vessels\",\n",
    "#     \"thallium stress result\",\n",
    "# ]\n",
    "\n",
    "\n",
    "df_train.rename(\n",
    "        columns={\n",
    "            'resting bp s'  :   'resting blood pressure',\n",
    "            'cholesterol'      :   'serum cholestoral',\n",
    "            'resting ecg'   :   'resting electrocardiographic',\n",
    "            'max heart rate'   :   'maximum heart rate',\n",
    "            'exercise angina'     :   'exercise induced angina',\n",
    "            'oldpeak'   :   'ST depression',\n",
    "            'ST slope'     :   'slope peak exercise ST segment',\n",
    "        },\n",
    "        inplace = True\n",
    "    )\n"
   ]
  },
  {
   "attachments": {},
   "cell_type": "markdown",
   "metadata": {},
   "source": [
    "# Numbers to String\n",
    "\n",
    "Changing categorical features that contain numbers to be in string format\n",
    "\n",
    "| Attribute                          | Updated Feature Values                                                   |\n",
    "| :--------------------------------- | :----------------------------------------------------------------------- |\n",
    "| **sex**                            | 0:female<br>1:male                                                       |\n",
    "| **chest pain type**                | 1:typical angina<br>2:atypical angina<br>3:non-anginal<br>4:asymptomatic |\n",
    "| **fasting blood sugar**            | 0:> 120 mg/dl<br>1:< 120 mg/dl                                           |\n",
    "| **resting electrocardiographic**   | 0:normal<br>1:ST-T wave abnormality<br>2:ventricular hypertrophy         |\n",
    "| **exercise induced angina**        | 0:no<br>1:yes                                                            |\n",
    "| **slope peak exercise ST segment** | 1:upsloping<br>2:flat<br>3:downsloping                                   |\n",
    "| **thallium stress result**         | 3:normal<br>6:fixed defect<br>7:reversible defect                        |\n",
    "| **target**                         | 0:no disease<br>1:LAD<br>2:LCX<br>3:RCA<br>4:highest                     |\n"
   ]
  },
  {
   "cell_type": "code",
   "execution_count": 136,
   "metadata": {},
   "outputs": [
    {
     "data": {
      "text/html": [
       "<div>\n",
       "<style scoped>\n",
       "    .dataframe tbody tr th:only-of-type {\n",
       "        vertical-align: middle;\n",
       "    }\n",
       "\n",
       "    .dataframe tbody tr th {\n",
       "        vertical-align: top;\n",
       "    }\n",
       "\n",
       "    .dataframe thead th {\n",
       "        text-align: right;\n",
       "    }\n",
       "</style>\n",
       "<table border=\"1\" class=\"dataframe\">\n",
       "  <thead>\n",
       "    <tr style=\"text-align: right;\">\n",
       "      <th></th>\n",
       "      <th>age</th>\n",
       "      <th>sex</th>\n",
       "      <th>chest pain type</th>\n",
       "      <th>resting blood pressure</th>\n",
       "      <th>serum cholestoral</th>\n",
       "      <th>fasting blood sugar</th>\n",
       "      <th>resting electrocardiographic</th>\n",
       "      <th>maximum heart rate</th>\n",
       "      <th>exercise induced angina</th>\n",
       "      <th>ST depression</th>\n",
       "      <th>slope peak exercise ST segment</th>\n",
       "      <th>target</th>\n",
       "    </tr>\n",
       "  </thead>\n",
       "  <tbody>\n",
       "    <tr>\n",
       "      <th>0</th>\n",
       "      <td>40</td>\n",
       "      <td>1</td>\n",
       "      <td>2</td>\n",
       "      <td>140</td>\n",
       "      <td>289</td>\n",
       "      <td>0</td>\n",
       "      <td>0</td>\n",
       "      <td>172</td>\n",
       "      <td>0</td>\n",
       "      <td>0.0</td>\n",
       "      <td>1</td>\n",
       "      <td>0</td>\n",
       "    </tr>\n",
       "    <tr>\n",
       "      <th>1</th>\n",
       "      <td>49</td>\n",
       "      <td>0</td>\n",
       "      <td>3</td>\n",
       "      <td>160</td>\n",
       "      <td>180</td>\n",
       "      <td>0</td>\n",
       "      <td>0</td>\n",
       "      <td>156</td>\n",
       "      <td>0</td>\n",
       "      <td>1.0</td>\n",
       "      <td>2</td>\n",
       "      <td>1</td>\n",
       "    </tr>\n",
       "    <tr>\n",
       "      <th>2</th>\n",
       "      <td>37</td>\n",
       "      <td>1</td>\n",
       "      <td>2</td>\n",
       "      <td>130</td>\n",
       "      <td>283</td>\n",
       "      <td>0</td>\n",
       "      <td>1</td>\n",
       "      <td>98</td>\n",
       "      <td>0</td>\n",
       "      <td>0.0</td>\n",
       "      <td>1</td>\n",
       "      <td>0</td>\n",
       "    </tr>\n",
       "    <tr>\n",
       "      <th>3</th>\n",
       "      <td>48</td>\n",
       "      <td>0</td>\n",
       "      <td>4</td>\n",
       "      <td>138</td>\n",
       "      <td>214</td>\n",
       "      <td>0</td>\n",
       "      <td>0</td>\n",
       "      <td>108</td>\n",
       "      <td>1</td>\n",
       "      <td>1.5</td>\n",
       "      <td>2</td>\n",
       "      <td>1</td>\n",
       "    </tr>\n",
       "    <tr>\n",
       "      <th>4</th>\n",
       "      <td>54</td>\n",
       "      <td>1</td>\n",
       "      <td>3</td>\n",
       "      <td>150</td>\n",
       "      <td>195</td>\n",
       "      <td>0</td>\n",
       "      <td>0</td>\n",
       "      <td>122</td>\n",
       "      <td>0</td>\n",
       "      <td>0.0</td>\n",
       "      <td>1</td>\n",
       "      <td>0</td>\n",
       "    </tr>\n",
       "  </tbody>\n",
       "</table>\n",
       "</div>"
      ],
      "text/plain": [
       "   age  sex  chest pain type  resting blood pressure  serum cholestoral  fasting blood sugar  resting electrocardiographic  maximum heart rate  exercise induced angina  ST depression  slope peak exercise ST segment  target\n",
       "0  40   1    2                140                     289                0                    0                             172                 0                        0.0            1                               0     \n",
       "1  49   0    3                160                     180                0                    0                             156                 0                        1.0            2                               1     \n",
       "2  37   1    2                130                     283                0                    1                             98                  0                        0.0            1                               0     \n",
       "3  48   0    4                138                     214                0                    0                             108                 1                        1.5            2                               1     \n",
       "4  54   1    3                150                     195                0                    0                             122                 0                        0.0            1                               0     "
      ]
     },
     "execution_count": 136,
     "metadata": {},
     "output_type": "execute_result"
    }
   ],
   "source": [
    "df_train.head()"
   ]
  },
  {
   "cell_type": "code",
   "execution_count": 137,
   "metadata": {},
   "outputs": [
    {
     "data": {
      "text/html": [
       "<div>\n",
       "<style scoped>\n",
       "    .dataframe tbody tr th:only-of-type {\n",
       "        vertical-align: middle;\n",
       "    }\n",
       "\n",
       "    .dataframe tbody tr th {\n",
       "        vertical-align: top;\n",
       "    }\n",
       "\n",
       "    .dataframe thead th {\n",
       "        text-align: right;\n",
       "    }\n",
       "</style>\n",
       "<table border=\"1\" class=\"dataframe\">\n",
       "  <thead>\n",
       "    <tr style=\"text-align: right;\">\n",
       "      <th></th>\n",
       "      <th>age</th>\n",
       "      <th>sex</th>\n",
       "      <th>chest pain type</th>\n",
       "      <th>resting blood pressure</th>\n",
       "      <th>serum cholestoral</th>\n",
       "      <th>fasting blood sugar</th>\n",
       "      <th>resting electrocardiographic</th>\n",
       "      <th>maximum heart rate</th>\n",
       "      <th>exercise induced angina</th>\n",
       "      <th>ST depression</th>\n",
       "      <th>slope peak exercise ST segment</th>\n",
       "      <th>target</th>\n",
       "    </tr>\n",
       "  </thead>\n",
       "  <tbody>\n",
       "    <tr>\n",
       "      <th>0</th>\n",
       "      <td>40</td>\n",
       "      <td>male</td>\n",
       "      <td>atypical angina</td>\n",
       "      <td>140</td>\n",
       "      <td>289</td>\n",
       "      <td>&gt; 120 mg/dl</td>\n",
       "      <td>normal</td>\n",
       "      <td>172</td>\n",
       "      <td>no</td>\n",
       "      <td>0.0</td>\n",
       "      <td>upsloping</td>\n",
       "      <td>no disease</td>\n",
       "    </tr>\n",
       "    <tr>\n",
       "      <th>1</th>\n",
       "      <td>49</td>\n",
       "      <td>female</td>\n",
       "      <td>non-anginal</td>\n",
       "      <td>160</td>\n",
       "      <td>180</td>\n",
       "      <td>&gt; 120 mg/dl</td>\n",
       "      <td>normal</td>\n",
       "      <td>156</td>\n",
       "      <td>no</td>\n",
       "      <td>1.0</td>\n",
       "      <td>flat</td>\n",
       "      <td>LAD</td>\n",
       "    </tr>\n",
       "    <tr>\n",
       "      <th>2</th>\n",
       "      <td>37</td>\n",
       "      <td>male</td>\n",
       "      <td>atypical angina</td>\n",
       "      <td>130</td>\n",
       "      <td>283</td>\n",
       "      <td>&gt; 120 mg/dl</td>\n",
       "      <td>ST wave abnormality</td>\n",
       "      <td>98</td>\n",
       "      <td>no</td>\n",
       "      <td>0.0</td>\n",
       "      <td>upsloping</td>\n",
       "      <td>no disease</td>\n",
       "    </tr>\n",
       "    <tr>\n",
       "      <th>3</th>\n",
       "      <td>48</td>\n",
       "      <td>female</td>\n",
       "      <td>asymptomatic</td>\n",
       "      <td>138</td>\n",
       "      <td>214</td>\n",
       "      <td>&gt; 120 mg/dl</td>\n",
       "      <td>normal</td>\n",
       "      <td>108</td>\n",
       "      <td>yes</td>\n",
       "      <td>1.5</td>\n",
       "      <td>flat</td>\n",
       "      <td>LAD</td>\n",
       "    </tr>\n",
       "    <tr>\n",
       "      <th>4</th>\n",
       "      <td>54</td>\n",
       "      <td>male</td>\n",
       "      <td>non-anginal</td>\n",
       "      <td>150</td>\n",
       "      <td>195</td>\n",
       "      <td>&gt; 120 mg/dl</td>\n",
       "      <td>normal</td>\n",
       "      <td>122</td>\n",
       "      <td>no</td>\n",
       "      <td>0.0</td>\n",
       "      <td>upsloping</td>\n",
       "      <td>no disease</td>\n",
       "    </tr>\n",
       "  </tbody>\n",
       "</table>\n",
       "</div>"
      ],
      "text/plain": [
       "   age     sex  chest pain type  resting blood pressure  serum cholestoral fasting blood sugar resting electrocardiographic  maximum heart rate exercise induced angina  ST depression slope peak exercise ST segment      target\n",
       "0  40   male    atypical angina  140                     289                > 120 mg/dl         normal                       172                 no                      0.0            upsloping                      no disease\n",
       "1  49   female  non-anginal      160                     180                > 120 mg/dl         normal                       156                 no                      1.0            flat                           LAD       \n",
       "2  37   male    atypical angina  130                     283                > 120 mg/dl         ST wave abnormality          98                  no                      0.0            upsloping                      no disease\n",
       "3  48   female  asymptomatic     138                     214                > 120 mg/dl         normal                       108                 yes                     1.5            flat                           LAD       \n",
       "4  54   male    non-anginal      150                     195                > 120 mg/dl         normal                       122                 no                      0.0            upsloping                      no disease"
      ]
     },
     "execution_count": 137,
     "metadata": {},
     "output_type": "execute_result"
    }
   ],
   "source": [
    "# Convert all columns to numeric\n",
    "df_train = df_train.apply(pd.to_numeric)\n",
    "\n",
    "df_train[\"sex\"] = df_train[\"sex\"].map({0: \"female\", 1: \"male\"})\n",
    "df_train[\"chest pain type\"] = df_train[\"chest pain type\"].map(\n",
    "    {1: \"typical angina\", 2: \"atypical angina\", 3: \"non-anginal\", 4: \"asymptomatic\"}\n",
    ")\n",
    "df_train[\"fasting blood sugar\"] = df_train[\"fasting blood sugar\"].map(\n",
    "    {0: \"> 120 mg/dl\", 1: \"< 120 mg/dl\"}\n",
    ")\n",
    "df_train[\"resting electrocardiographic\"] = df_train[\n",
    "    \"resting electrocardiographic\"\n",
    "].map({0: \"normal\", 1: \"ST wave abnormality\", 2: \"ventricular hypertrophy\"})\n",
    "\n",
    "df_train[\"exercise induced angina\"] = df_train[\n",
    "    \"exercise induced angina\"\n",
    "].map({0: \"no\", 1: \"yes\"})\n",
    "\n",
    "df_train[\"slope peak exercise ST segment\"] = df_train[\n",
    "    \"slope peak exercise ST segment\"\n",
    "].map({1: \"upsloping\", 2: \"flat\", 3: \"downsloping\"})\n",
    "\n",
    "# df_train[\"thallium stress result\"] = df_train[\n",
    "#     \"thallium stress result\"\n",
    "# ].map({3: \"normal\", 6: \"fixed defect\", 7: \"reversible defect\"})\n",
    "\n",
    "df_train[\"target\"] = df_train[\"target\"].map(\n",
    "    {0: \"no disease\", 1: \"LAD\", 2: \"LCX\", 3: \"RCA\", 4: \"highest\"}\n",
    ")\n",
    "\n",
    "df_train.head(5)\n"
   ]
  },
  {
   "attachments": {},
   "cell_type": "markdown",
   "metadata": {},
   "source": [
    "# Save processed data\n"
   ]
  },
  {
   "cell_type": "code",
   "execution_count": 138,
   "metadata": {},
   "outputs": [],
   "source": [
    "df_train.to_pickle(PROC_TRAIN_DATA_PATH)"
   ]
  }
 ],
 "metadata": {
  "kernelspec": {
   "display_name": "base",
   "language": "python",
   "name": "python3"
  },
  "language_info": {
   "codemirror_mode": {
    "name": "ipython",
    "version": 3
   },
   "file_extension": ".py",
   "mimetype": "text/x-python",
   "name": "python",
   "nbconvert_exporter": "python",
   "pygments_lexer": "ipython3",
   "version": "3.9.12"
  },
  "orig_nbformat": 4,
  "vscode": {
   "interpreter": {
    "hash": "dafb1f7618ea635952683f9de1ec2ad0605097bc28573cb02814b9f97cdb4857"
   }
  }
 },
 "nbformat": 4,
 "nbformat_minor": 2
}
