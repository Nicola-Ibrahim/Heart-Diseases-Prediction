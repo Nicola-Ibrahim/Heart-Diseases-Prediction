{
 "cells": [
  {
   "cell_type": "code",
   "execution_count": 1,
   "metadata": {
    "tags": []
   },
   "outputs": [],
   "source": [
    "TRAIN_DATA_PATH = \"../../data/interim/train_data.pkl\"\n",
    "PROC_TRAIN_DATA_PATH = \"../../data/interim/1__analytics_preprocessed_data.pkl\""
   ]
  },
  {
   "cell_type": "markdown",
   "metadata": {
    "tags": []
   },
   "source": [
    "# Import packages\n"
   ]
  },
  {
   "cell_type": "code",
   "execution_count": 2,
   "metadata": {
    "tags": []
   },
   "outputs": [],
   "source": [
    "import pandas as pd\n",
    "import numpy as np\n",
    "\n",
    "import warnings\n",
    "\n",
    "warnings.filterwarnings(\"ignore\")"
   ]
  },
  {
   "cell_type": "code",
   "execution_count": 3,
   "metadata": {
    "tags": []
   },
   "outputs": [],
   "source": [
    "# Change some pandas display options\n",
    "pd.set_option(\"display.max_rows\", 500)\n",
    "pd.set_option(\"display.max_columns\", 500)\n",
    "pd.set_option(\"display.max_colwidth\", 0)\n",
    "pd.set_option(\"display.width\", 1000)\n",
    "pd.set_option(\"styler.format.precision\", 10)"
   ]
  },
  {
   "cell_type": "code",
   "execution_count": 4,
   "metadata": {
    "tags": []
   },
   "outputs": [],
   "source": [
    "df_train = pd.read_pickle(TRAIN_DATA_PATH)"
   ]
  },
  {
   "cell_type": "markdown",
   "metadata": {
    "tags": []
   },
   "source": [
    "# Functions\n"
   ]
  },
  {
   "cell_type": "code",
   "execution_count": 5,
   "metadata": {
    "tags": []
   },
   "outputs": [],
   "source": [
    "def remove_duplicates(data: pd.DataFrame):\n",
    "    \"\"\"Remove duplicates values if exist\"\"\"\n",
    "    print(f\"Duplicates count before droping:{data.duplicated().sum()}\")\n",
    "    data.drop_duplicates(inplace=True)\n",
    "    print(f\"Duplicates count after droping:{data.duplicated().sum()}\")\n",
    "    print(f\"Data dimension{data.shape}\")"
   ]
  },
  {
   "cell_type": "markdown",
   "metadata": {},
   "source": [
    "# Substitute strange values"
   ]
  },
  {
   "cell_type": "code",
   "execution_count": 6,
   "metadata": {
    "tags": []
   },
   "outputs": [],
   "source": [
    "# Substitute '?' with np.NAN\n",
    "df_train.replace(\"?\", np.nan, inplace=True)"
   ]
  },
  {
   "cell_type": "markdown",
   "metadata": {},
   "source": [
    "# Duplicates\n"
   ]
  },
  {
   "cell_type": "code",
   "execution_count": 7,
   "metadata": {
    "tags": []
   },
   "outputs": [
    {
     "name": "stdout",
     "output_type": "stream",
     "text": [
      "Duplicates count before droping:0\n",
      "Duplicates count after droping:0\n",
      "Data dimension(271, 14)\n"
     ]
    }
   ],
   "source": [
    "remove_duplicates(df_train)"
   ]
  },
  {
   "cell_type": "markdown",
   "metadata": {
    "tags": []
   },
   "source": [
    "# Numbers to String\n",
    "\n",
    "Changing categorical features that contain numbers to be in string format\n",
    "\n",
    "| Attribute                          | Updated Feature Values                                                   |\n",
    "| :--------------------------------- | :----------------------------------------------------------------------- |\n",
    "| **sex**                            | 0:female<br>1:male                                                       |\n",
    "| **chest pain type**                | 1:typical angina<br>2:atypical angina<br>3:non-anginal<br>4:asymptomatic |\n",
    "| **fasting blood sugar**            | 0:> 120 mg/dl<br>1:< 120 mg/dl                                           |\n",
    "| **resting electrocardiographic**   | 0:normal<br>1:ST-T wave abnormality<br>2:ventricular hypertrophy         |\n",
    "| **exercise induced angina**        | 0:no<br>1:yes                                                            |\n",
    "| **slope peak exercise ST segment** | 1:upsloping<br>2:flat<br>3:downsloping                                   |\n",
    "| **thallium stress result**         | 3:normal<br>6:fixed defect<br>7:reversible defect                        |\n",
    "| **target**                         | 0:no disease<br>1:LAD<br>2:LCX<br>3:RCA<br>4:highest                     |\n"
   ]
  },
  {
   "cell_type": "code",
   "execution_count": 8,
   "metadata": {
    "tags": []
   },
   "outputs": [],
   "source": [
    "REPLACEMENTS = {\n",
    "    \"sex\": {0: \"female\", 1: \"male\"},\n",
    "    \"chest_pain_type\": {\n",
    "        1: \"typical angina\",\n",
    "        2: \"atypical angina\",\n",
    "        3: \"non-anginal\",\n",
    "        4: \"asymptomatic\",\n",
    "    },\n",
    "    \"fasting_blood_sugar\": {0: \"> 120 mg/dl\", 1: \"< 120 mg/dl\"},\n",
    "    \"resting_electrocardiographic\": {\n",
    "        0: \"normal\",\n",
    "        1: \"ST wave abnormality\",\n",
    "        2: \"ventricular hypertrophy\",\n",
    "    },\n",
    "    \"exercise_induced_angina\": {0: \"no\", 1: \"yes\"},\n",
    "    \"slope_peak_exercise_ST_segment\": {1: \"upsloping\", 2: \"flat\", 3: \"downsloping\"},\n",
    "    \"thallium_stress_result\": {3: \"normal\", 6: \"fixed defect\", 7: \"reversible defect\"},\n",
    "    \"target\": {0: \"no disease\", 1: \"LAD\", 2: \"LCX\", 3: \"RCA\", 4: \"highest\"},\n",
    "}\n",
    "\n",
    "# Convert all columns to numeric\n",
    "df_train = df_train.apply(pd.to_numeric)\n",
    "\n",
    "for col, replacement in REPLACEMENTS.items():\n",
    "    df_train[col] = df_train[col].map(replacement).astype(str)"
   ]
  },
  {
   "cell_type": "code",
   "execution_count": 9,
   "metadata": {},
   "outputs": [
    {
     "ename": "KeyError",
     "evalue": "'number of major vessels'",
     "output_type": "error",
     "traceback": [
      "\u001b[1;31m---------------------------------------------------------------------------\u001b[0m",
      "\u001b[1;31mKeyError\u001b[0m                                  Traceback (most recent call last)",
      "File \u001b[1;32mc:\\Users\\user\\anaconda3\\lib\\site-packages\\pandas\\core\\indexes\\base.py:3629\u001b[0m, in \u001b[0;36mIndex.get_loc\u001b[1;34m(self, key, method, tolerance)\u001b[0m\n\u001b[0;32m   3628\u001b[0m \u001b[39mtry\u001b[39;00m:\n\u001b[1;32m-> 3629\u001b[0m     \u001b[39mreturn\u001b[39;00m \u001b[39mself\u001b[39;49m\u001b[39m.\u001b[39;49m_engine\u001b[39m.\u001b[39;49mget_loc(casted_key)\n\u001b[0;32m   3630\u001b[0m \u001b[39mexcept\u001b[39;00m \u001b[39mKeyError\u001b[39;00m \u001b[39mas\u001b[39;00m err:\n",
      "File \u001b[1;32mc:\\Users\\user\\anaconda3\\lib\\site-packages\\pandas\\_libs\\index.pyx:136\u001b[0m, in \u001b[0;36mpandas._libs.index.IndexEngine.get_loc\u001b[1;34m()\u001b[0m\n",
      "File \u001b[1;32mc:\\Users\\user\\anaconda3\\lib\\site-packages\\pandas\\_libs\\index.pyx:163\u001b[0m, in \u001b[0;36mpandas._libs.index.IndexEngine.get_loc\u001b[1;34m()\u001b[0m\n",
      "File \u001b[1;32mpandas\\_libs\\hashtable_class_helper.pxi:5198\u001b[0m, in \u001b[0;36mpandas._libs.hashtable.PyObjectHashTable.get_item\u001b[1;34m()\u001b[0m\n",
      "File \u001b[1;32mpandas\\_libs\\hashtable_class_helper.pxi:5206\u001b[0m, in \u001b[0;36mpandas._libs.hashtable.PyObjectHashTable.get_item\u001b[1;34m()\u001b[0m\n",
      "\u001b[1;31mKeyError\u001b[0m: 'number of major vessels'",
      "\nThe above exception was the direct cause of the following exception:\n",
      "\u001b[1;31mKeyError\u001b[0m                                  Traceback (most recent call last)",
      "\u001b[1;32mc:\\Users\\user\\Desktop\\proj\\Heart-Diseases-Prediction\\notebooks\\multiclass\\01a_analytics_preprocessing.ipynb Cell 14\u001b[0m in \u001b[0;36m3\n\u001b[0;32m      <a href='vscode-notebook-cell:/c%3A/Users/user/Desktop/proj/Heart-Diseases-Prediction/notebooks/multiclass/01a_analytics_preprocessing.ipynb#X16sZmlsZQ%3D%3D?line=0'>1</a>\u001b[0m \u001b[39m# 'number of major vessels' has only 4 values\u001b[39;00m\n\u001b[0;32m      <a href='vscode-notebook-cell:/c%3A/Users/user/Desktop/proj/Heart-Diseases-Prediction/notebooks/multiclass/01a_analytics_preprocessing.ipynb#X16sZmlsZQ%3D%3D?line=1'>2</a>\u001b[0m \u001b[39m# Change its type to be object\u001b[39;00m\n\u001b[1;32m----> <a href='vscode-notebook-cell:/c%3A/Users/user/Desktop/proj/Heart-Diseases-Prediction/notebooks/multiclass/01a_analytics_preprocessing.ipynb#X16sZmlsZQ%3D%3D?line=2'>3</a>\u001b[0m df_train[\u001b[39m'\u001b[39m\u001b[39mnumber of major vessels\u001b[39m\u001b[39m'\u001b[39m] \u001b[39m=\u001b[39m df_train[\u001b[39m'\u001b[39;49m\u001b[39mnumber of major vessels\u001b[39;49m\u001b[39m'\u001b[39;49m]\u001b[39m.\u001b[39mastype(\u001b[39m'\u001b[39m\u001b[39mobject\u001b[39m\u001b[39m'\u001b[39m)\n",
      "File \u001b[1;32mc:\\Users\\user\\anaconda3\\lib\\site-packages\\pandas\\core\\frame.py:3505\u001b[0m, in \u001b[0;36mDataFrame.__getitem__\u001b[1;34m(self, key)\u001b[0m\n\u001b[0;32m   3503\u001b[0m \u001b[39mif\u001b[39;00m \u001b[39mself\u001b[39m\u001b[39m.\u001b[39mcolumns\u001b[39m.\u001b[39mnlevels \u001b[39m>\u001b[39m \u001b[39m1\u001b[39m:\n\u001b[0;32m   3504\u001b[0m     \u001b[39mreturn\u001b[39;00m \u001b[39mself\u001b[39m\u001b[39m.\u001b[39m_getitem_multilevel(key)\n\u001b[1;32m-> 3505\u001b[0m indexer \u001b[39m=\u001b[39m \u001b[39mself\u001b[39;49m\u001b[39m.\u001b[39;49mcolumns\u001b[39m.\u001b[39;49mget_loc(key)\n\u001b[0;32m   3506\u001b[0m \u001b[39mif\u001b[39;00m is_integer(indexer):\n\u001b[0;32m   3507\u001b[0m     indexer \u001b[39m=\u001b[39m [indexer]\n",
      "File \u001b[1;32mc:\\Users\\user\\anaconda3\\lib\\site-packages\\pandas\\core\\indexes\\base.py:3631\u001b[0m, in \u001b[0;36mIndex.get_loc\u001b[1;34m(self, key, method, tolerance)\u001b[0m\n\u001b[0;32m   3629\u001b[0m     \u001b[39mreturn\u001b[39;00m \u001b[39mself\u001b[39m\u001b[39m.\u001b[39m_engine\u001b[39m.\u001b[39mget_loc(casted_key)\n\u001b[0;32m   3630\u001b[0m \u001b[39mexcept\u001b[39;00m \u001b[39mKeyError\u001b[39;00m \u001b[39mas\u001b[39;00m err:\n\u001b[1;32m-> 3631\u001b[0m     \u001b[39mraise\u001b[39;00m \u001b[39mKeyError\u001b[39;00m(key) \u001b[39mfrom\u001b[39;00m \u001b[39merr\u001b[39;00m\n\u001b[0;32m   3632\u001b[0m \u001b[39mexcept\u001b[39;00m \u001b[39mTypeError\u001b[39;00m:\n\u001b[0;32m   3633\u001b[0m     \u001b[39m# If we have a listlike key, _check_indexing_error will raise\u001b[39;00m\n\u001b[0;32m   3634\u001b[0m     \u001b[39m#  InvalidIndexError. Otherwise we fall through and re-raise\u001b[39;00m\n\u001b[0;32m   3635\u001b[0m     \u001b[39m#  the TypeError.\u001b[39;00m\n\u001b[0;32m   3636\u001b[0m     \u001b[39mself\u001b[39m\u001b[39m.\u001b[39m_check_indexing_error(key)\n",
      "\u001b[1;31mKeyError\u001b[0m: 'number of major vessels'"
     ]
    }
   ],
   "source": [
    "# 'number of major vessels' has only 4 values\n",
    "# Change its type to be object\n",
    "df_train[\"number of major vessels\"] = df_train[\"number of major vessels\"].astype(\n",
    "    \"object\"\n",
    ")"
   ]
  },
  {
   "cell_type": "code",
   "execution_count": null,
   "metadata": {},
   "outputs": [
    {
     "data": {
      "text/html": [
       "<div>\n",
       "<style scoped>\n",
       "    .dataframe tbody tr th:only-of-type {\n",
       "        vertical-align: middle;\n",
       "    }\n",
       "\n",
       "    .dataframe tbody tr th {\n",
       "        vertical-align: top;\n",
       "    }\n",
       "\n",
       "    .dataframe thead th {\n",
       "        text-align: right;\n",
       "    }\n",
       "</style>\n",
       "<table border=\"1\" class=\"dataframe\">\n",
       "  <thead>\n",
       "    <tr style=\"text-align: right;\">\n",
       "      <th></th>\n",
       "      <th>age</th>\n",
       "      <th>sex</th>\n",
       "      <th>chest pain type</th>\n",
       "      <th>resting blood pressure</th>\n",
       "      <th>serum cholestoral</th>\n",
       "      <th>fasting blood sugar</th>\n",
       "      <th>resting electrocardiographic</th>\n",
       "      <th>maximum heart rate</th>\n",
       "      <th>exercise induced angina</th>\n",
       "      <th>ST depression</th>\n",
       "      <th>slope peak exercise ST segment</th>\n",
       "      <th>number of major vessels</th>\n",
       "      <th>thallium stress result</th>\n",
       "      <th>target</th>\n",
       "    </tr>\n",
       "  </thead>\n",
       "  <tbody>\n",
       "    <tr>\n",
       "      <th>155</th>\n",
       "      <td>51.0</td>\n",
       "      <td>male</td>\n",
       "      <td>asymptomatic</td>\n",
       "      <td>140.0</td>\n",
       "      <td>299.0</td>\n",
       "      <td>&gt; 120 mg/dl</td>\n",
       "      <td>normal</td>\n",
       "      <td>173.0</td>\n",
       "      <td>yes</td>\n",
       "      <td>1.6</td>\n",
       "      <td>upsloping</td>\n",
       "      <td>0.0</td>\n",
       "      <td>reversible defect</td>\n",
       "      <td>LAD</td>\n",
       "    </tr>\n",
       "    <tr>\n",
       "      <th>10</th>\n",
       "      <td>56.0</td>\n",
       "      <td>female</td>\n",
       "      <td>atypical angina</td>\n",
       "      <td>140.0</td>\n",
       "      <td>294.0</td>\n",
       "      <td>&gt; 120 mg/dl</td>\n",
       "      <td>ventricular hypertrophy</td>\n",
       "      <td>153.0</td>\n",
       "      <td>no</td>\n",
       "      <td>1.3</td>\n",
       "      <td>flat</td>\n",
       "      <td>0.0</td>\n",
       "      <td>normal</td>\n",
       "      <td>no disease</td>\n",
       "    </tr>\n",
       "    <tr>\n",
       "      <th>53</th>\n",
       "      <td>60.0</td>\n",
       "      <td>male</td>\n",
       "      <td>asymptomatic</td>\n",
       "      <td>130.0</td>\n",
       "      <td>253.0</td>\n",
       "      <td>&gt; 120 mg/dl</td>\n",
       "      <td>normal</td>\n",
       "      <td>144.0</td>\n",
       "      <td>yes</td>\n",
       "      <td>1.4</td>\n",
       "      <td>upsloping</td>\n",
       "      <td>1.0</td>\n",
       "      <td>reversible defect</td>\n",
       "      <td>LAD</td>\n",
       "    </tr>\n",
       "    <tr>\n",
       "      <th>122</th>\n",
       "      <td>55.0</td>\n",
       "      <td>male</td>\n",
       "      <td>asymptomatic</td>\n",
       "      <td>140.0</td>\n",
       "      <td>217.0</td>\n",
       "      <td>&gt; 120 mg/dl</td>\n",
       "      <td>normal</td>\n",
       "      <td>111.0</td>\n",
       "      <td>yes</td>\n",
       "      <td>5.6</td>\n",
       "      <td>downsloping</td>\n",
       "      <td>0.0</td>\n",
       "      <td>reversible defect</td>\n",
       "      <td>RCA</td>\n",
       "    </tr>\n",
       "    <tr>\n",
       "      <th>208</th>\n",
       "      <td>62.0</td>\n",
       "      <td>female</td>\n",
       "      <td>asymptomatic</td>\n",
       "      <td>150.0</td>\n",
       "      <td>244.0</td>\n",
       "      <td>&gt; 120 mg/dl</td>\n",
       "      <td>normal</td>\n",
       "      <td>154.0</td>\n",
       "      <td>yes</td>\n",
       "      <td>1.4</td>\n",
       "      <td>flat</td>\n",
       "      <td>0.0</td>\n",
       "      <td>normal</td>\n",
       "      <td>LAD</td>\n",
       "    </tr>\n",
       "  </tbody>\n",
       "</table>\n",
       "</div>"
      ],
      "text/plain": [
       "      age     sex  chest pain type  resting blood pressure  serum cholestoral fasting blood sugar resting electrocardiographic  maximum heart rate exercise induced angina  ST depression slope peak exercise ST segment number of major vessels thallium stress result      target\n",
       "155  51.0  male    asymptomatic     140.0                   299.0              > 120 mg/dl         normal                       173.0               yes                     1.6            upsloping                      0.0                     reversible defect      LAD       \n",
       "10   56.0  female  atypical angina  140.0                   294.0              > 120 mg/dl         ventricular hypertrophy      153.0               no                      1.3            flat                           0.0                     normal                 no disease\n",
       "53   60.0  male    asymptomatic     130.0                   253.0              > 120 mg/dl         normal                       144.0               yes                     1.4            upsloping                      1.0                     reversible defect      LAD       \n",
       "122  55.0  male    asymptomatic     140.0                   217.0              > 120 mg/dl         normal                       111.0               yes                     5.6            downsloping                    0.0                     reversible defect      RCA       \n",
       "208  62.0  female  asymptomatic     150.0                   244.0              > 120 mg/dl         normal                       154.0               yes                     1.4            flat                           0.0                     normal                 LAD       "
      ]
     },
     "execution_count": 10,
     "metadata": {},
     "output_type": "execute_result"
    }
   ],
   "source": [
    "df_train.head(5)"
   ]
  },
  {
   "cell_type": "code",
   "execution_count": null,
   "metadata": {},
   "outputs": [
    {
     "name": "stdout",
     "output_type": "stream",
     "text": [
      "<class 'pandas.core.frame.DataFrame'>\n",
      "Int64Index: 271 entries, 155 to 174\n",
      "Data columns (total 14 columns):\n",
      " #   Column                          Non-Null Count  Dtype  \n",
      "---  ------                          --------------  -----  \n",
      " 0   age                             271 non-null    float64\n",
      " 1   sex                             271 non-null    object \n",
      " 2   chest pain type                 271 non-null    object \n",
      " 3   resting blood pressure          271 non-null    float64\n",
      " 4   serum cholestoral               271 non-null    float64\n",
      " 5   fasting blood sugar             271 non-null    object \n",
      " 6   resting electrocardiographic    271 non-null    object \n",
      " 7   maximum heart rate              271 non-null    float64\n",
      " 8   exercise induced angina         271 non-null    object \n",
      " 9   ST depression                   271 non-null    float64\n",
      " 10  slope peak exercise ST segment  271 non-null    object \n",
      " 11  number of major vessels         267 non-null    object \n",
      " 12  thallium stress result          271 non-null    object \n",
      " 13  target                          271 non-null    object \n",
      "dtypes: float64(5), object(9)\n",
      "memory usage: 31.8+ KB\n"
     ]
    }
   ],
   "source": [
    "df_train.info()"
   ]
  },
  {
   "cell_type": "markdown",
   "metadata": {
    "tags": []
   },
   "source": [
    "# Add columns"
   ]
  },
  {
   "cell_type": "markdown",
   "metadata": {
    "tags": []
   },
   "source": [
    "## Slice age column"
   ]
  },
  {
   "cell_type": "code",
   "execution_count": null,
   "metadata": {},
   "outputs": [],
   "source": [
    "min_val = df_train[\"age\"].min()\n",
    "max_val = df_train[\"age\"].max()\n",
    "df_train[\"age_encoded\"] = pd.cut(\n",
    "    df_train[\"age\"],\n",
    "    bins=[min_val, 41, 55, max_val],\n",
    "    labels=[\"Adults\", \"Middle-Aged\", \"Senior\"],\n",
    ")\n",
    "df_train[\"age_encoded\"] = df_train[\"age_encoded\"].astype(\"object\")"
   ]
  },
  {
   "cell_type": "markdown",
   "metadata": {},
   "source": [
    "# Save processed data\n"
   ]
  },
  {
   "cell_type": "code",
   "execution_count": null,
   "metadata": {
    "tags": []
   },
   "outputs": [],
   "source": [
    "df_train.to_pickle(PROC_TRAIN_DATA_PATH)"
   ]
  },
  {
   "cell_type": "code",
   "execution_count": null,
   "metadata": {},
   "outputs": [],
   "source": []
  }
 ],
 "metadata": {
  "kernelspec": {
   "display_name": "Python 3 (ipykernel)",
   "language": "python",
   "name": "python3"
  },
  "language_info": {
   "codemirror_mode": {
    "name": "ipython",
    "version": 3
   },
   "file_extension": ".py",
   "mimetype": "text/x-python",
   "name": "python",
   "nbconvert_exporter": "python",
   "pygments_lexer": "ipython3",
   "version": "3.9.13"
  },
  "vscode": {
   "interpreter": {
    "hash": "dafb1f7618ea635952683f9de1ec2ad0605097bc28573cb02814b9f97cdb4857"
   }
  },
  "widgets": {
   "application/vnd.jupyter.widget-state+json": {
    "state": {},
    "version_major": 2,
    "version_minor": 0
   }
  }
 },
 "nbformat": 4,
 "nbformat_minor": 4
}
