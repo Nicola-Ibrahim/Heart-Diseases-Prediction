{
 "cells": [
  {
   "cell_type": "code",
   "execution_count": 3,
   "id": "1bc9c9fc-a7d9-4780-997d-ea25c8ffce3b",
   "metadata": {
    "tags": []
   },
   "outputs": [],
   "source": [
    "TRAIN_DATA_PATH = \"../../data/interim/train_data.pkl\"\n",
    "PROC_TRAIN_DATA_PATH = \"../../data/processed/preprocessed_train_data.pkl\""
   ]
  },
  {
   "cell_type": "markdown",
   "id": "124f5760-fccd-4c0f-80e7-2d38825d104c",
   "metadata": {
    "tags": []
   },
   "source": [
    "# Import packages\n"
   ]
  },
  {
   "cell_type": "code",
   "execution_count": 4,
   "id": "a442369b-ed98-4c5a-9df0-edd0071b1f5f",
   "metadata": {
    "tags": []
   },
   "outputs": [],
   "source": [
    "import pandas as pd\n",
    "import numpy as np\n",
    "\n",
    "import warnings\n",
    "\n",
    "warnings.filterwarnings(\"ignore\")"
   ]
  },
  {
   "cell_type": "code",
   "execution_count": 5,
   "id": "b49aa914-1432-4c66-83bf-5d39464c7d21",
   "metadata": {
    "tags": []
   },
   "outputs": [],
   "source": [
    "df_train = pd.read_pickle(TRAIN_DATA_PATH)"
   ]
  },
  {
   "cell_type": "markdown",
   "id": "a976f726-fdc2-4665-a472-f2260d2d65b9",
   "metadata": {
    "tags": []
   },
   "source": [
    "# Functions\n"
   ]
  },
  {
   "cell_type": "code",
   "execution_count": 6,
   "id": "1a780b81-b149-44b5-9438-b7ffcb864403",
   "metadata": {
    "tags": []
   },
   "outputs": [],
   "source": [
    "def remove_duplicates(data: pd.DataFrame):\n",
    "    \"\"\"Remove duplicates values if exist\"\"\"\n",
    "    print(f\"Duplicates count before droping:{data.duplicated().sum()}\")\n",
    "    data.drop_duplicates(inplace=True)\n",
    "    print(f\"Duplicates count after droping:{data.duplicated().sum()}\")\n",
    "    print(f\"Data dimension{data.shape}\")"
   ]
  },
  {
   "cell_type": "markdown",
   "id": "5feef733-e755-4837-aabd-80459bdd7175",
   "metadata": {},
   "source": [
    "# Substitute strange values"
   ]
  },
  {
   "cell_type": "code",
   "execution_count": 7,
   "id": "e327b404-501d-44e8-b36b-9dff993e43fd",
   "metadata": {
    "tags": []
   },
   "outputs": [],
   "source": [
    "# Substitute '?' with np.NAN\n",
    "df_train.replace(\"?\", np.nan, inplace=True)"
   ]
  },
  {
   "cell_type": "markdown",
   "id": "7806f14d-1497-4218-abaa-c8bff6928882",
   "metadata": {},
   "source": [
    "# Duplicates\n"
   ]
  },
  {
   "cell_type": "code",
   "execution_count": 8,
   "id": "db337a34-0ee2-4d34-a483-edd3c62c6807",
   "metadata": {
    "tags": []
   },
   "outputs": [
    {
     "name": "stdout",
     "output_type": "stream",
     "text": [
      "Duplicates count before droping:0\n",
      "Duplicates count after droping:0\n",
      "Data dimension(271, 14)\n"
     ]
    }
   ],
   "source": [
    "remove_duplicates(df_train)"
   ]
  },
  {
   "cell_type": "markdown",
   "id": "b9ef58f1",
   "metadata": {},
   "source": [
    "# Change type to numerical"
   ]
  },
  {
   "cell_type": "code",
   "execution_count": 10,
   "id": "c57a2cb0",
   "metadata": {},
   "outputs": [],
   "source": [
    "# Convert all columns to numeric\n",
    "df_train = df_train.apply(pd.to_numeric)"
   ]
  },
  {
   "cell_type": "markdown",
   "id": "90a8e6a9-652f-4bf9-aa3a-08586c8779a8",
   "metadata": {},
   "source": [
    "# Export data"
   ]
  },
  {
   "cell_type": "code",
   "execution_count": 11,
   "id": "4238e994-92a8-4edd-b2ca-a3aa33c70459",
   "metadata": {
    "tags": []
   },
   "outputs": [],
   "source": [
    "df_train.to_pickle(PROC_TRAIN_DATA_PATH)"
   ]
  },
  {
   "cell_type": "code",
   "execution_count": null,
   "id": "382cf103-96eb-49ec-8146-9452374edc95",
   "metadata": {},
   "outputs": [],
   "source": []
  }
 ],
 "metadata": {
  "kernelspec": {
   "display_name": "Python 3 (ipykernel)",
   "language": "python",
   "name": "python3"
  },
  "language_info": {
   "codemirror_mode": {
    "name": "ipython",
    "version": 3
   },
   "file_extension": ".py",
   "mimetype": "text/x-python",
   "name": "python",
   "nbconvert_exporter": "python",
   "pygments_lexer": "ipython3",
   "version": "3.9.12"
  },
  "vscode": {
   "interpreter": {
    "hash": "dafb1f7618ea635952683f9de1ec2ad0605097bc28573cb02814b9f97cdb4857"
   }
  },
  "widgets": {
   "application/vnd.jupyter.widget-state+json": {
    "state": {},
    "version_major": 2,
    "version_minor": 0
   }
  }
 },
 "nbformat": 4,
 "nbformat_minor": 5
}
