{
 "cells": [
  {
   "attachments": {},
   "cell_type": "markdown",
   "id": "ddb60a7b",
   "metadata": {},
   "source": [
    "<center>\n",
    "\n",
    "**Data preprocessing**: \n",
    "\n",
    "</center>\n",
    "    \n",
    "This step involves converting the data into a suitable format and structure for further processing and analysis. It may include tasks such as encoding categorical variables, scaling numerical variables, normalizing or standardizing the data, etc. This step prepares the data for optimal performance and results of the data processing techniques and algorithms. Some common data preprocessing techniques are3 :\n",
    "\n",
    "  - Encoding: Converting categorical variables into numerical values, such as one-hot encoding, label encoding, ordinal encoding, etc.\n",
    "  - Scaling: Rescaling numerical variables into a specific range or distribution, such as min-max scaling, standard scaling, robust scaling, etc.\n",
    "  - Normalization: Transforming numerical variables into a common scale or distribution, such as z-score normalization, decimal scaling normalization, etc.\n",
    "  - Standardization: Transforming numerical variables into a standard normal distribution with zero mean and unit variance."
   ]
  },
  {
   "cell_type": "code",
   "execution_count": 4,
   "id": "1bc9c9fc-a7d9-4780-997d-ea25c8ffce3b",
   "metadata": {
    "tags": []
   },
   "outputs": [],
   "source": [
    "CLEANED_TRAIN_DATA_PATH = \"../../data/interim/cleaned_train_data.pkl\"\n",
    "PROC_TRAIN_DATA_PATH = \"../../data/processed/preprocessed_train_data.pkl\"\n"
   ]
  },
  {
   "cell_type": "code",
   "execution_count": 5,
   "id": "c12532fb",
   "metadata": {},
   "outputs": [],
   "source": [
    "import pandas as pd"
   ]
  },
  {
   "cell_type": "markdown",
   "id": "d24d14d3",
   "metadata": {},
   "source": [
    "# Read data\n"
   ]
  },
  {
   "cell_type": "code",
   "execution_count": null,
   "id": "c1f4a32a",
   "metadata": {},
   "outputs": [],
   "source": [
    "df_train = pd.read_pickle(CLEANED_TRAIN_DATA_PATH)"
   ]
  },
  {
   "cell_type": "markdown",
   "id": "b4ca016c",
   "metadata": {},
   "source": [
    "# Normality\n",
    "\n",
    "**Cholesterol** and **ST depression** are not follow the normal distribution<br>\n",
    "so we will transform them to be normally distributed\n"
   ]
  },
  {
   "cell_type": "code",
   "execution_count": 3,
   "id": "7fab32a6",
   "metadata": {},
   "outputs": [],
   "source": [
    "# rng = np.random.RandomState(304)\n",
    "# qt = QuantileTransformer(n_quantiles=500, output_distribution='normal',\n",
    "#                                 random_state=rng)\n",
    "# df_train[[\"serum cholestoral\",\"ST depression\"]] = qt.fit_transform(df_train[[\"serum cholestoral\",\"ST depression\"]])\n",
    "# # test_data[[\"serum cholestoral\",\"ST depression\"]] = qt.transform(test_data[[\"serum cholestoral\",\"ST depression\"]])\n"
   ]
  },
  {
   "cell_type": "markdown",
   "id": "aa476b3d",
   "metadata": {},
   "source": [
    "# Save processed data\n"
   ]
  },
  {
   "cell_type": "code",
   "execution_count": null,
   "id": "5722bfa1",
   "metadata": {},
   "outputs": [],
   "source": [
    "df_train.to_pickle(PROC_TRAIN_DATA_PATH)"
   ]
  }
 ],
 "metadata": {
  "kernelspec": {
   "display_name": "Python 3 (ipykernel)",
   "language": "python",
   "name": "python3"
  },
  "language_info": {
   "codemirror_mode": {
    "name": "ipython",
    "version": 3
   },
   "file_extension": ".py",
   "mimetype": "text/x-python",
   "name": "python",
   "nbconvert_exporter": "python",
   "pygments_lexer": "ipython3",
   "version": "3.9.13"
  },
  "vscode": {
   "interpreter": {
    "hash": "dafb1f7618ea635952683f9de1ec2ad0605097bc28573cb02814b9f97cdb4857"
   }
  },
  "widgets": {
   "application/vnd.jupyter.widget-state+json": {
    "state": {},
    "version_major": 2,
    "version_minor": 0
   }
  }
 },
 "nbformat": 4,
 "nbformat_minor": 5
}
