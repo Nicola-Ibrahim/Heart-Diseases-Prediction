{
 "cells": [
  {
   "cell_type": "code",
   "execution_count": 2,
   "metadata": {},
   "outputs": [],
   "source": [
    "TRAIN_DATA_PATH = \"../data/raw/train.csv\""
   ]
  },
  {
   "attachments": {},
   "cell_type": "markdown",
   "metadata": {},
   "source": [
    "# Import packages"
   ]
  },
  {
   "cell_type": "code",
   "execution_count": 3,
   "metadata": {},
   "outputs": [],
   "source": [
    "import pandas as pd"
   ]
  },
  {
   "cell_type": "code",
   "execution_count": 11,
   "metadata": {},
   "outputs": [],
   "source": [
    "# Change some pandas display options\n",
    "pd.set_option('display.max_rows', 10000)\n",
    "pd.set_option('display.max_columns', 500)\n",
    "pd.set_option('display.max_colwidth', 0)\n",
    "pd.set_option('display.width', 1000)\n",
    "# pd.set_option(\"precision\", 10)"
   ]
  },
  {
   "attachments": {},
   "cell_type": "markdown",
   "metadata": {},
   "source": [
    "# Data Acquisition\n",
    "The Cleveland data composes 13 (numerical and categorical) features with multivariate output"
   ]
  },
  {
   "cell_type": "code",
   "execution_count": 6,
   "metadata": {},
   "outputs": [],
   "source": [
    "def combine_data(paths: list) -> pd.DataFrame:\n",
    "    \"\"\"\n",
    "    Combine data from csv files\n",
    "    \n",
    "    Parameters\n",
    "    ----------\n",
    "    paths : list of paths to csv files\n",
    "    \n",
    "    Returns\n",
    "    -------\n",
    "    data : DataFrame contains all data\n",
    "    \"\"\"\n",
    "    data = pd.DataFrame()\n",
    "    for path in paths:\n",
    "        data = data.append(pd.read_csv(path))\n",
    "    data.to_csv('./data/all_data.csv', index=False)\n",
    "    return data\n",
    "\n",
    "def change_features_name(data:pd.DataFrame, output=True):\n",
    "    \"\"\"Changes columns name for the passed dataset\"\"\"\n",
    "    data_copy = data.copy()\n",
    "\n",
    "    # Obtain features before modifying names\n",
    "    before_ren_cols = data_copy.columns.to_list()\n",
    "    \n",
    "   \n",
    "    data_copy.rename(\n",
    "        columns={\n",
    "            'cp'        :   'chest pain type',\n",
    "            'trestbps'  :   'resting blood pressure',\n",
    "            'chol'      :   'serum cholestoral',\n",
    "            'fbs'       :   'fasting blood sugar',\n",
    "            'restecg'   :   'resting electrocardiographic',\n",
    "            'thalach'   :   'maximum heart rate',\n",
    "            'exang'     :   'exercise induced angina',\n",
    "            'oldpeak'   :   'ST depression',\n",
    "            'slope'     :   'slope peak exercise ST segment',\n",
    "            'ca'        :   'number of major vessels',\n",
    "            'thal'      :   'thallium stress result'\n",
    "        },\n",
    "        inplace = True\n",
    "    )\n",
    "    \n",
    "    # Obtain features after modifying names\n",
    "    after_ren_cols = data_copy.columns.to_list()\n",
    "    \n",
    "    comp_cols_name = pd.DataFrame(np.array([before_ren_cols, after_ren_cols]).T, columns=['before renaming', 'after renaming'])\n",
    "\n",
    "    \n",
    "    if(not output):\n",
    "        return data_copy\n",
    "\n",
    "    return data_copy, comp_cols_name\n",
    "\n",
    "\n",
    "def load_data(path:str, split=False) -> tuple[pd.DataFrame, pd.DataFrame]:\n",
    "    \"\"\"\n",
    "    Load data from csv file\n",
    "    \n",
    "    Returns\n",
    "    -------\n",
    "    train_data : DataFrame contains training set\n",
    "    test_data : DataFrame contains testing set\n",
    "    \"\"\"\n",
    "    data = pd.read_csv(path)\n",
    "\n",
    "    if(split):\n",
    "        train_data, test_data = train_test_split(data, random_state=33, test_size=0.3)\n",
    "        print ('Train set shape:  ', train_data.shape)\n",
    "        print ('Test set shape:   ', test_data.shape)\n",
    "\n",
    "        train_data, _ = change_features_name(train_data, output=True)\n",
    "        test_data, _ = change_features_name(test_data, output=True)\n",
    "\n",
    "\n",
    "        return train_data, test_data\n",
    "\n",
    "    data = change_features_name(data, output=False)\n",
    "    \n",
    "    return data\n",
    "\n",
    "\n",
    "# paths = [\n",
    "#     './data/cleveland.csv',\n",
    "#     './data/hungarian.csv',\n",
    "#     './data/switzerland.csv',\n",
    "#     './data/VA Long Beach.csv',\n",
    "# ]\n",
    "# implement combine_data function and load data\n",
    "# data = combine_data(paths)\n",
    "# train_data, test_data = load_data('./data/cleveland.csv', split=True)\n",
    "\n",
    "    "
   ]
  },
  {
   "cell_type": "code",
   "execution_count": null,
   "metadata": {},
   "outputs": [],
   "source": [
    "all_data = load_data('./data/all_data.csv').iloc[:,:5]\n",
    "cleveland_df = load_data('./data/cleveland.csv').iloc[:,:5]\n",
    "hungarian_df = load_data('./data/hungarian.csv').iloc[:,:5]\n",
    "switzerland_df = load_data('./data/switzerland.csv').iloc[:,:5]\n",
    "VA_df = load_data('./data/VA Long Beach.csv').iloc[:,:5]"
   ]
  },
  {
   "cell_type": "code",
   "execution_count": null,
   "metadata": {},
   "outputs": [],
   "source": [
    "cols = ['age', 'sex', 'chest pain type', 'resting blood pressure', 'serum cholestoral']\n",
    "hungarian_df.merge(cleveland_df, how='inner', left_index=True, right_on=cols, indicator=False)\n"
   ]
  },
  {
   "cell_type": "code",
   "execution_count": null,
   "metadata": {},
   "outputs": [],
   "source": [
    "# Read data\n",
    "df_train = pd.read_csv(TRAIN_DATA_PATH)"
   ]
  },
  {
   "cell_type": "code",
   "execution_count": null,
   "metadata": {},
   "outputs": [],
   "source": [
    "# Display raw train data shape\n",
    "df_train.shape"
   ]
  },
  {
   "cell_type": "code",
   "execution_count": null,
   "metadata": {},
   "outputs": [],
   "source": [
    "# Display raw train data\n",
    "df_train.head()"
   ]
  },
  {
   "cell_type": "code",
   "execution_count": null,
   "metadata": {},
   "outputs": [],
   "source": [
    "# Display a random sample\n",
    "df_train.sample(1).iloc[0]"
   ]
  },
  {
   "cell_type": "code",
   "execution_count": null,
   "metadata": {},
   "outputs": [],
   "source": [
    "df_train.info()"
   ]
  },
  {
   "cell_type": "code",
   "execution_count": null,
   "metadata": {},
   "outputs": [],
   "source": []
  }
 ],
 "metadata": {
  "kernelspec": {
   "display_name": "base",
   "language": "python",
   "name": "python3"
  },
  "language_info": {
   "codemirror_mode": {
    "name": "ipython",
    "version": 3
   },
   "file_extension": ".py",
   "mimetype": "text/x-python",
   "name": "python",
   "nbconvert_exporter": "python",
   "pygments_lexer": "ipython3",
   "version": "3.9.12"
  },
  "orig_nbformat": 4,
  "vscode": {
   "interpreter": {
    "hash": "dafb1f7618ea635952683f9de1ec2ad0605097bc28573cb02814b9f97cdb4857"
   }
  }
 },
 "nbformat": 4,
 "nbformat_minor": 2
}
