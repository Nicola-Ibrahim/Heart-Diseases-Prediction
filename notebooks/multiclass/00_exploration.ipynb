{
 "cells": [
  {
   "cell_type": "code",
   "execution_count": 6,
   "metadata": {},
   "outputs": [],
   "source": [
    "TRAIN_DATA_PATH = \"../../data/raw/heart_statlog_cleveland_hungary_final - Copy.csv\""
   ]
  },
  {
   "attachments": {},
   "cell_type": "markdown",
   "metadata": {},
   "source": [
    "# Import packages"
   ]
  },
  {
   "cell_type": "code",
   "execution_count": 2,
   "metadata": {},
   "outputs": [],
   "source": [
    "import pandas as pd"
   ]
  },
  {
   "cell_type": "code",
   "execution_count": 4,
   "metadata": {},
   "outputs": [],
   "source": [
    "# Change some pandas display options\n",
    "pd.set_option('display.max_rows', 10000)\n",
    "pd.set_option('display.max_columns', 500)\n",
    "pd.set_option('display.max_colwidth', 0)\n",
    "pd.set_option('display.width', 1000)\n",
    "pd.set_option(\"styler.format.precision\", 10)"
   ]
  },
  {
   "attachments": {},
   "cell_type": "markdown",
   "metadata": {},
   "source": [
    "# Data Acquisition\n",
    "The Cleveland data composes 13 (numerical and categorical) features with multivariate output"
   ]
  },
  {
   "cell_type": "code",
   "execution_count": 6,
   "metadata": {},
   "outputs": [],
   "source": [
    "def combine_data(paths: list) -> pd.DataFrame:\n",
    "    \"\"\"\n",
    "    Combine data from csv files\n",
    "    \n",
    "    Parameters\n",
    "    ----------\n",
    "    paths : list of paths to csv files\n",
    "    \n",
    "    Returns\n",
    "    -------\n",
    "    data : DataFrame contains all data\n",
    "    \"\"\"\n",
    "    data = pd.DataFrame()\n",
    "    for path in paths:\n",
    "        data = data.append(pd.read_csv(path))\n",
    "    data.to_csv('./data/all_data.csv', index=False)\n",
    "    return data\n",
    "\n",
    "def change_features_name(data:pd.DataFrame, output=True):\n",
    "    \"\"\"Changes columns name for the passed dataset\"\"\"\n",
    "    data_copy = data.copy()\n",
    "\n",
    "    # Obtain features before modifying names\n",
    "    before_ren_cols = data_copy.columns.to_list()\n",
    "    \n",
    "   \n",
    "    data_copy.rename(\n",
    "        columns={\n",
    "            'cp'        :   'chest pain type',\n",
    "            'trestbps'  :   'resting blood pressure',\n",
    "            'chol'      :   'serum cholestoral',\n",
    "            'fbs'       :   'fasting blood sugar',\n",
    "            'restecg'   :   'resting electrocardiographic',\n",
    "            'thalach'   :   'maximum heart rate',\n",
    "            'exang'     :   'exercise induced angina',\n",
    "            'oldpeak'   :   'ST depression',\n",
    "            'slope'     :   'slope peak exercise ST segment',\n",
    "            'ca'        :   'number of major vessels',\n",
    "            'thal'      :   'thallium stress result'\n",
    "        },\n",
    "        inplace = True\n",
    "    )\n",
    "    \n",
    "    # Obtain features after modifying names\n",
    "    after_ren_cols = data_copy.columns.to_list()\n",
    "    \n",
    "    comp_cols_name = pd.DataFrame(np.array([before_ren_cols, after_ren_cols]).T, columns=['before renaming', 'after renaming'])\n",
    "\n",
    "    \n",
    "    if(not output):\n",
    "        return data_copy\n",
    "\n",
    "    return data_copy, comp_cols_name\n",
    "\n",
    "\n",
    "def load_data(path:str, split=False) -> tuple[pd.DataFrame, pd.DataFrame]:\n",
    "    \"\"\"\n",
    "    Load data from csv file\n",
    "    \n",
    "    Returns\n",
    "    -------\n",
    "    train_data : DataFrame contains training set\n",
    "    test_data : DataFrame contains testing set\n",
    "    \"\"\"\n",
    "    data = pd.read_csv(path)\n",
    "\n",
    "    if(split):\n",
    "        train_data, test_data = train_test_split(data, random_state=33, test_size=0.3)\n",
    "        print ('Train set shape:  ', train_data.shape)\n",
    "        print ('Test set shape:   ', test_data.shape)\n",
    "\n",
    "        train_data, _ = change_features_name(train_data, output=True)\n",
    "        test_data, _ = change_features_name(test_data, output=True)\n",
    "\n",
    "\n",
    "        return train_data, test_data\n",
    "\n",
    "    data = change_features_name(data, output=False)\n",
    "    \n",
    "    return data\n",
    "\n",
    "\n",
    "# paths = [\n",
    "#     './data/cleveland.csv',\n",
    "#     './data/hungarian.csv',\n",
    "#     './data/switzerland.csv',\n",
    "#     './data/VA Long Beach.csv',\n",
    "# ]\n",
    "# implement combine_data function and load data\n",
    "# data = combine_data(paths)\n",
    "# train_data, test_data = load_data('./data/cleveland.csv', split=True)\n",
    "\n",
    "    "
   ]
  },
  {
   "cell_type": "code",
   "execution_count": null,
   "metadata": {},
   "outputs": [],
   "source": [
    "# all_data = load_data('./data/all_data.csv').iloc[:,:5]\n",
    "# cleveland_df = load_data('./data/cleveland.csv').iloc[:,:5]\n",
    "# hungarian_df = load_data('./data/hungarian.csv').iloc[:,:5]\n",
    "# switzerland_df = load_data('./data/switzerland.csv').iloc[:,:5]\n",
    "# VA_df = load_data('./data/VA Long Beach.csv').iloc[:,:5]"
   ]
  },
  {
   "cell_type": "code",
   "execution_count": null,
   "metadata": {},
   "outputs": [],
   "source": [
    "# cols = ['age', 'sex', 'chest pain type', 'resting blood pressure', 'serum cholestoral']\n",
    "# hungarian_df.merge(cleveland_df, how='inner', left_index=True, right_on=cols, indicator=False)\n"
   ]
  },
  {
   "cell_type": "code",
   "execution_count": 7,
   "metadata": {},
   "outputs": [],
   "source": [
    "# Read data\n",
    "df_train = pd.read_csv(TRAIN_DATA_PATH)"
   ]
  },
  {
   "cell_type": "code",
   "execution_count": 11,
   "metadata": {},
   "outputs": [
    {
     "name": "stdout",
     "output_type": "stream",
     "text": [
      "Num of rows: 1190\n",
      "Num of features: 12\n"
     ]
    }
   ],
   "source": [
    "# Display raw train data shape\n",
    "print(f\"Num of rows: {df_train.shape[0]}\")\n",
    "print(f\"Num of features: {df_train.shape[1]}\")"
   ]
  },
  {
   "cell_type": "code",
   "execution_count": 12,
   "metadata": {},
   "outputs": [
    {
     "data": {
      "text/html": [
       "<div>\n",
       "<style scoped>\n",
       "    .dataframe tbody tr th:only-of-type {\n",
       "        vertical-align: middle;\n",
       "    }\n",
       "\n",
       "    .dataframe tbody tr th {\n",
       "        vertical-align: top;\n",
       "    }\n",
       "\n",
       "    .dataframe thead th {\n",
       "        text-align: right;\n",
       "    }\n",
       "</style>\n",
       "<table border=\"1\" class=\"dataframe\">\n",
       "  <thead>\n",
       "    <tr style=\"text-align: right;\">\n",
       "      <th></th>\n",
       "      <th>age</th>\n",
       "      <th>sex</th>\n",
       "      <th>chest pain type</th>\n",
       "      <th>resting bp s</th>\n",
       "      <th>cholesterol</th>\n",
       "      <th>fasting blood sugar</th>\n",
       "      <th>resting ecg</th>\n",
       "      <th>max heart rate</th>\n",
       "      <th>exercise angina</th>\n",
       "      <th>oldpeak</th>\n",
       "      <th>ST slope</th>\n",
       "      <th>target</th>\n",
       "    </tr>\n",
       "  </thead>\n",
       "  <tbody>\n",
       "    <tr>\n",
       "      <th>0</th>\n",
       "      <td>40</td>\n",
       "      <td>1</td>\n",
       "      <td>2</td>\n",
       "      <td>140</td>\n",
       "      <td>289</td>\n",
       "      <td>0</td>\n",
       "      <td>0</td>\n",
       "      <td>172</td>\n",
       "      <td>0</td>\n",
       "      <td>0.0</td>\n",
       "      <td>1</td>\n",
       "      <td>0</td>\n",
       "    </tr>\n",
       "    <tr>\n",
       "      <th>1</th>\n",
       "      <td>49</td>\n",
       "      <td>0</td>\n",
       "      <td>3</td>\n",
       "      <td>160</td>\n",
       "      <td>180</td>\n",
       "      <td>0</td>\n",
       "      <td>0</td>\n",
       "      <td>156</td>\n",
       "      <td>0</td>\n",
       "      <td>1.0</td>\n",
       "      <td>2</td>\n",
       "      <td>1</td>\n",
       "    </tr>\n",
       "    <tr>\n",
       "      <th>2</th>\n",
       "      <td>37</td>\n",
       "      <td>1</td>\n",
       "      <td>2</td>\n",
       "      <td>130</td>\n",
       "      <td>283</td>\n",
       "      <td>0</td>\n",
       "      <td>1</td>\n",
       "      <td>98</td>\n",
       "      <td>0</td>\n",
       "      <td>0.0</td>\n",
       "      <td>1</td>\n",
       "      <td>0</td>\n",
       "    </tr>\n",
       "    <tr>\n",
       "      <th>3</th>\n",
       "      <td>48</td>\n",
       "      <td>0</td>\n",
       "      <td>4</td>\n",
       "      <td>138</td>\n",
       "      <td>214</td>\n",
       "      <td>0</td>\n",
       "      <td>0</td>\n",
       "      <td>108</td>\n",
       "      <td>1</td>\n",
       "      <td>1.5</td>\n",
       "      <td>2</td>\n",
       "      <td>1</td>\n",
       "    </tr>\n",
       "    <tr>\n",
       "      <th>4</th>\n",
       "      <td>54</td>\n",
       "      <td>1</td>\n",
       "      <td>3</td>\n",
       "      <td>150</td>\n",
       "      <td>195</td>\n",
       "      <td>0</td>\n",
       "      <td>0</td>\n",
       "      <td>122</td>\n",
       "      <td>0</td>\n",
       "      <td>0.0</td>\n",
       "      <td>1</td>\n",
       "      <td>0</td>\n",
       "    </tr>\n",
       "  </tbody>\n",
       "</table>\n",
       "</div>"
      ],
      "text/plain": [
       "   age  sex  chest pain type  resting bp s  cholesterol  fasting blood sugar  resting ecg  max heart rate  exercise angina  oldpeak  ST slope  target\n",
       "0  40   1    2                140           289          0                    0            172             0                0.0      1         0     \n",
       "1  49   0    3                160           180          0                    0            156             0                1.0      2         1     \n",
       "2  37   1    2                130           283          0                    1            98              0                0.0      1         0     \n",
       "3  48   0    4                138           214          0                    0            108             1                1.5      2         1     \n",
       "4  54   1    3                150           195          0                    0            122             0                0.0      1         0     "
      ]
     },
     "execution_count": 12,
     "metadata": {},
     "output_type": "execute_result"
    }
   ],
   "source": [
    "# Display raw train data\n",
    "df_train.head()"
   ]
  },
  {
   "cell_type": "code",
   "execution_count": 14,
   "metadata": {},
   "outputs": [
    {
     "data": {
      "text/plain": [
       "age                    45.0 \n",
       "sex                    0.0  \n",
       "chest pain type        2.0  \n",
       "resting bp s           112.0\n",
       "cholesterol            160.0\n",
       "fasting blood sugar    0.0  \n",
       "resting ecg            0.0  \n",
       "max heart rate         138.0\n",
       "exercise angina        0.0  \n",
       "oldpeak                0.0  \n",
       "ST slope               2.0  \n",
       "target                 0.0  \n",
       "Name: 1056, dtype: float64"
      ]
     },
     "execution_count": 14,
     "metadata": {},
     "output_type": "execute_result"
    }
   ],
   "source": [
    "# Display a random sample\n",
    "df_train.sample(1).iloc[0]"
   ]
  },
  {
   "cell_type": "code",
   "execution_count": 15,
   "metadata": {},
   "outputs": [
    {
     "name": "stdout",
     "output_type": "stream",
     "text": [
      "<class 'pandas.core.frame.DataFrame'>\n",
      "RangeIndex: 1190 entries, 0 to 1189\n",
      "Data columns (total 12 columns):\n",
      " #   Column               Non-Null Count  Dtype  \n",
      "---  ------               --------------  -----  \n",
      " 0   age                  1190 non-null   int64  \n",
      " 1   sex                  1190 non-null   int64  \n",
      " 2   chest pain type      1190 non-null   int64  \n",
      " 3   resting bp s         1190 non-null   int64  \n",
      " 4   cholesterol          1190 non-null   int64  \n",
      " 5   fasting blood sugar  1190 non-null   int64  \n",
      " 6   resting ecg          1190 non-null   int64  \n",
      " 7   max heart rate       1190 non-null   int64  \n",
      " 8   exercise angina      1190 non-null   int64  \n",
      " 9   oldpeak              1190 non-null   float64\n",
      " 10  ST slope             1190 non-null   int64  \n",
      " 11  target               1190 non-null   int64  \n",
      "dtypes: float64(1), int64(11)\n",
      "memory usage: 111.7 KB\n"
     ]
    }
   ],
   "source": [
    "df_train.info()"
   ]
  },
  {
   "cell_type": "code",
   "execution_count": null,
   "metadata": {},
   "outputs": [],
   "source": []
  }
 ],
 "metadata": {
  "kernelspec": {
   "display_name": "base",
   "language": "python",
   "name": "python3"
  },
  "language_info": {
   "codemirror_mode": {
    "name": "ipython",
    "version": 3
   },
   "file_extension": ".py",
   "mimetype": "text/x-python",
   "name": "python",
   "nbconvert_exporter": "python",
   "pygments_lexer": "ipython3",
   "version": "3.9.12"
  },
  "orig_nbformat": 4,
  "vscode": {
   "interpreter": {
    "hash": "dafb1f7618ea635952683f9de1ec2ad0605097bc28573cb02814b9f97cdb4857"
   }
  }
 },
 "nbformat": 4,
 "nbformat_minor": 2
}
