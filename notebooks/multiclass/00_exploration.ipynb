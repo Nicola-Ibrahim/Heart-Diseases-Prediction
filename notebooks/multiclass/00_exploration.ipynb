{
 "cells": [
  {
   "cell_type": "code",
   "execution_count": 19,
   "metadata": {
    "tags": []
   },
   "outputs": [],
   "source": [
    "TRAIN_DATA_PATH = \"../../data/interim/cleveland_train.pkl\""
   ]
  },
  {
   "cell_type": "markdown",
   "metadata": {},
   "source": [
    "# Import packages"
   ]
  },
  {
   "cell_type": "code",
   "execution_count": 20,
   "metadata": {
    "tags": []
   },
   "outputs": [],
   "source": [
    "import pandas as pd\n",
    "from sklearn.model_selection import train_test_split\n",
    "\n",
    "import warnings\n",
    "warnings.filterwarnings('ignore')\n"
   ]
  },
  {
   "cell_type": "code",
   "execution_count": 37,
   "metadata": {
    "tags": []
   },
   "outputs": [],
   "source": [
    "# Change some pandas display options\n",
    "pd.set_option('display.max_rows', 10000)\n",
    "pd.set_option('display.max_columns', 500)\n",
    "pd.set_option('display.max_colwidth', 0)\n",
    "pd.set_option('display.width', 1000)\n",
    "pd.set_option(\"styler.format.precision\", 10)"
   ]
  },
  {
   "cell_type": "markdown",
   "metadata": {},
   "source": [
    "# Functions"
   ]
  },
  {
   "cell_type": "code",
   "execution_count": 38,
   "metadata": {
    "tags": []
   },
   "outputs": [],
   "source": [
    "# Get the values count for each feature in the DataFrame\n",
    "def get_values_count(data: pd.DataFrame, cols: list) -> None:\n",
    "    \"\"\"Calculate the values count for each feature in the DataFrame\n",
    "\n",
    "    Args:\n",
    "        data (pd.DataFrame): the data to get count from\n",
    "        cols (list): list of features\n",
    "    \"\"\"\n",
    "    \n",
    "    for col in cols:\n",
    "        print(f\"{col} :{data[col].value_counts(dropna=False).to_dict()}\")\n",
    "\n",
    "\n",
    "def get_unique_values(data: pd.DataFrame) -> pd.DataFrame:\n",
    "    \"\"\"Get unique values in each feature\n",
    "\n",
    "    Args:\n",
    "        data (pd.DataFrame): the data to get uniques from\n",
    "\n",
    "    Returns:\n",
    "        pd.DataFrame : return a df contains unique values for each feature\n",
    "    \"\"\"\n",
    "    uniques = pd.DataFrame(data={\"feature\": [], \"uniques\": []})\n",
    "\n",
    "    for col in data.columns:\n",
    "        unique_values = data[col].unique()\n",
    "        if len(unique_values) > 1000:\n",
    "            continue\n",
    "\n",
    "        uniques.loc[len(uniques)] = [col, unique_values]\n",
    "\n",
    "    uniques.index = uniques[\"feature\"]\n",
    "    uniques.drop(columns=\"feature\", inplace=True)\n",
    "    return uniques\n",
    "\n",
    "\n",
    "def get_strange_values(data: pd.DataFrame) -> pd.DataFrame:\n",
    "    \"\"\"Get strange values in each feature\n",
    "\n",
    "    Args:\n",
    "        data (pd.DataFrame): _description_\n",
    "\n",
    "    Returns:\n",
    "        pd.DataFrame: return a df contains strange values for each feature\n",
    "    \"\"\"\n",
    "\n",
    "    data_copy = data.copy()\n",
    "    uniques = pd.DataFrame(data={\"feature\": [], \"indices-values\": []})\n",
    "\n",
    "    for col in data_copy.columns:\n",
    "\n",
    "        data_copy[col] = data_copy[col].astype(str)\n",
    "\n",
    "        # The pattern for checking the presence of strange values\n",
    "        pattern = r\"([+-]?([0-9]+([.][0-9]*)?|[.][0-9]+)|[a-zA-Z]+)\"\n",
    "\n",
    "        # Get mask matrix that refers to strange values ([~]: for not contain)\n",
    "        strange_values_mask = ~data_copy[col].str.contains(\n",
    "            pat=pattern, na=True, regex=True, case=False\n",
    "        )\n",
    "\n",
    "        strange_values_ind = data_copy[strange_values_mask].index.to_list()\n",
    "\n",
    "        if not strange_values_ind:\n",
    "            continue\n",
    "\n",
    "        # dictionary = {\n",
    "        #     col : {ind:list(data_copy.loc[ind,col]) for ind in strange_values_ind}\n",
    "        # }\n",
    "\n",
    "        # reform = {(outerKey, innerKey): values for outerKey, innerDict in dictionary.items() for innerKey, values in innerDict.items()}\n",
    "        # reform = pd.DataFrame.from_dict(reform, orient='index').transpose()\n",
    "\n",
    "        uniques.loc[len(uniques)] = [\n",
    "            col,\n",
    "            [(ind, data_copy.loc[ind, col]) for ind in strange_values_ind],\n",
    "        ]\n",
    "        \n",
    "\n",
    "    uniques.set_index(keys=[\"feature\"], inplace=True)\n",
    "\n",
    "    return uniques\n",
    "\n"
   ]
  },
  {
   "cell_type": "markdown",
   "metadata": {},
   "source": [
    "# Data Acquisition"
   ]
  },
  {
   "cell_type": "code",
   "execution_count": 39,
   "metadata": {
    "tags": []
   },
   "outputs": [],
   "source": [
    "# Read data\n",
    "df_train = pd.read_pickle(TRAIN_DATA_PATH)"
   ]
  },
  {
   "cell_type": "code",
   "execution_count": 40,
   "metadata": {
    "tags": []
   },
   "outputs": [
    {
     "name": "stdout",
     "output_type": "stream",
     "text": [
      "Num of rows: 226\n",
      "Num of features: 14\n"
     ]
    }
   ],
   "source": [
    "# Display raw train data shape\n",
    "print(f\"Num of rows: {df_train.shape[0]}\")\n",
    "print(f\"Num of features: {df_train.shape[1]}\")"
   ]
  },
  {
   "cell_type": "code",
   "execution_count": 41,
   "metadata": {
    "tags": []
   },
   "outputs": [
    {
     "data": {
      "text/html": [
       "<div>\n",
       "<style scoped>\n",
       "    .dataframe tbody tr th:only-of-type {\n",
       "        vertical-align: middle;\n",
       "    }\n",
       "\n",
       "    .dataframe tbody tr th {\n",
       "        vertical-align: top;\n",
       "    }\n",
       "\n",
       "    .dataframe thead th {\n",
       "        text-align: right;\n",
       "    }\n",
       "</style>\n",
       "<table border=\"1\" class=\"dataframe\">\n",
       "  <thead>\n",
       "    <tr style=\"text-align: right;\">\n",
       "      <th></th>\n",
       "      <th>age</th>\n",
       "      <th>sex</th>\n",
       "      <th>cp</th>\n",
       "      <th>trestbps</th>\n",
       "      <th>chol</th>\n",
       "      <th>fbs</th>\n",
       "      <th>restecg</th>\n",
       "      <th>thalach</th>\n",
       "      <th>exang</th>\n",
       "      <th>oldpeak</th>\n",
       "      <th>slope</th>\n",
       "      <th>ca</th>\n",
       "      <th>thal</th>\n",
       "      <th>target</th>\n",
       "    </tr>\n",
       "  </thead>\n",
       "  <tbody>\n",
       "    <tr>\n",
       "      <th>156</th>\n",
       "      <td>58.0</td>\n",
       "      <td>1.0</td>\n",
       "      <td>4.0</td>\n",
       "      <td>125.0</td>\n",
       "      <td>300.0</td>\n",
       "      <td>0.0</td>\n",
       "      <td>2.0</td>\n",
       "      <td>171.0</td>\n",
       "      <td>0.0</td>\n",
       "      <td>0.0</td>\n",
       "      <td>1.0</td>\n",
       "      <td>2.0</td>\n",
       "      <td>7.0</td>\n",
       "      <td>1</td>\n",
       "    </tr>\n",
       "    <tr>\n",
       "      <th>118</th>\n",
       "      <td>65.0</td>\n",
       "      <td>1.0</td>\n",
       "      <td>4.0</td>\n",
       "      <td>135.0</td>\n",
       "      <td>254.0</td>\n",
       "      <td>0.0</td>\n",
       "      <td>2.0</td>\n",
       "      <td>127.0</td>\n",
       "      <td>0.0</td>\n",
       "      <td>2.8</td>\n",
       "      <td>2.0</td>\n",
       "      <td>1.0</td>\n",
       "      <td>7.0</td>\n",
       "      <td>2</td>\n",
       "    </tr>\n",
       "    <tr>\n",
       "      <th>277</th>\n",
       "      <td>57.0</td>\n",
       "      <td>1.0</td>\n",
       "      <td>2.0</td>\n",
       "      <td>154.0</td>\n",
       "      <td>232.0</td>\n",
       "      <td>0.0</td>\n",
       "      <td>2.0</td>\n",
       "      <td>164.0</td>\n",
       "      <td>0.0</td>\n",
       "      <td>0.0</td>\n",
       "      <td>1.0</td>\n",
       "      <td>1.0</td>\n",
       "      <td>3.0</td>\n",
       "      <td>1</td>\n",
       "    </tr>\n",
       "    <tr>\n",
       "      <th>142</th>\n",
       "      <td>64.0</td>\n",
       "      <td>1.0</td>\n",
       "      <td>3.0</td>\n",
       "      <td>125.0</td>\n",
       "      <td>309.0</td>\n",
       "      <td>0.0</td>\n",
       "      <td>0.0</td>\n",
       "      <td>131.0</td>\n",
       "      <td>1.0</td>\n",
       "      <td>1.8</td>\n",
       "      <td>2.0</td>\n",
       "      <td>0.0</td>\n",
       "      <td>7.0</td>\n",
       "      <td>1</td>\n",
       "    </tr>\n",
       "    <tr>\n",
       "      <th>297</th>\n",
       "      <td>45.0</td>\n",
       "      <td>1.0</td>\n",
       "      <td>1.0</td>\n",
       "      <td>110.0</td>\n",
       "      <td>264.0</td>\n",
       "      <td>0.0</td>\n",
       "      <td>0.0</td>\n",
       "      <td>132.0</td>\n",
       "      <td>0.0</td>\n",
       "      <td>1.2</td>\n",
       "      <td>2.0</td>\n",
       "      <td>0.0</td>\n",
       "      <td>7.0</td>\n",
       "      <td>1</td>\n",
       "    </tr>\n",
       "  </tbody>\n",
       "</table>\n",
       "</div>"
      ],
      "text/plain": [
       "      age  sex   cp  trestbps   chol  fbs  restecg  thalach  exang  oldpeak  slope   ca thal  target\n",
       "156  58.0  1.0  4.0     125.0  300.0  0.0      2.0    171.0    0.0      0.0    1.0  2.0  7.0       1\n",
       "118  65.0  1.0  4.0     135.0  254.0  0.0      2.0    127.0    0.0      2.8    2.0  1.0  7.0       2\n",
       "277  57.0  1.0  2.0     154.0  232.0  0.0      2.0    164.0    0.0      0.0    1.0  1.0  3.0       1\n",
       "142  64.0  1.0  3.0     125.0  309.0  0.0      0.0    131.0    1.0      1.8    2.0  0.0  7.0       1\n",
       "297  45.0  1.0  1.0     110.0  264.0  0.0      0.0    132.0    0.0      1.2    2.0  0.0  7.0       1"
      ]
     },
     "execution_count": 41,
     "metadata": {},
     "output_type": "execute_result"
    }
   ],
   "source": [
    "# Display raw train data\n",
    "df_train.head()"
   ]
  },
  {
   "cell_type": "code",
   "execution_count": 42,
   "metadata": {
    "tags": []
   },
   "outputs": [
    {
     "data": {
      "text/plain": [
       "age          60.0\n",
       "sex           1.0\n",
       "cp            4.0\n",
       "trestbps    145.0\n",
       "chol        282.0\n",
       "fbs           0.0\n",
       "restecg       2.0\n",
       "thalach     142.0\n",
       "exang         1.0\n",
       "oldpeak       2.8\n",
       "slope         2.0\n",
       "ca            2.0\n",
       "thal          7.0\n",
       "target          2\n",
       "Name: 64, dtype: object"
      ]
     },
     "execution_count": 42,
     "metadata": {},
     "output_type": "execute_result"
    }
   ],
   "source": [
    "# Display a random sample\n",
    "df_train.sample(1).iloc[0]"
   ]
  },
  {
   "cell_type": "code",
   "execution_count": 43,
   "metadata": {
    "tags": []
   },
   "outputs": [
    {
     "name": "stdout",
     "output_type": "stream",
     "text": [
      "<class 'pandas.core.frame.DataFrame'>\n",
      "Int64Index: 226 entries, 156 to 256\n",
      "Data columns (total 14 columns):\n",
      " #   Column    Non-Null Count  Dtype  \n",
      "---  ------    --------------  -----  \n",
      " 0   age       226 non-null    float64\n",
      " 1   sex       226 non-null    float64\n",
      " 2   cp        226 non-null    float64\n",
      " 3   trestbps  226 non-null    float64\n",
      " 4   chol      226 non-null    float64\n",
      " 5   fbs       226 non-null    float64\n",
      " 6   restecg   226 non-null    float64\n",
      " 7   thalach   226 non-null    float64\n",
      " 8   exang     226 non-null    float64\n",
      " 9   oldpeak   226 non-null    float64\n",
      " 10  slope     226 non-null    float64\n",
      " 11  ca        226 non-null    object \n",
      " 12  thal      226 non-null    object \n",
      " 13  target    226 non-null    int64  \n",
      "dtypes: float64(11), int64(1), object(2)\n",
      "memory usage: 26.5+ KB\n"
     ]
    }
   ],
   "source": [
    "df_train.info()"
   ]
  },
  {
   "cell_type": "markdown",
   "metadata": {},
   "source": [
    "*summary*: \n",
    "- **ca** and **thal** are object type"
   ]
  },
  {
   "cell_type": "markdown",
   "metadata": {},
   "source": [
    "# Uniques"
   ]
  },
  {
   "cell_type": "code",
   "execution_count": 36,
   "metadata": {
    "tags": []
   },
   "outputs": [
    {
     "data": {
      "text/html": [
       "<div>\n",
       "<style scoped>\n",
       "    .dataframe tbody tr th:only-of-type {\n",
       "        vertical-align: middle;\n",
       "    }\n",
       "\n",
       "    .dataframe tbody tr th {\n",
       "        vertical-align: top;\n",
       "    }\n",
       "\n",
       "    .dataframe thead th {\n",
       "        text-align: right;\n",
       "    }\n",
       "</style>\n",
       "<table border=\"1\" class=\"dataframe\">\n",
       "  <thead>\n",
       "    <tr style=\"text-align: right;\">\n",
       "      <th></th>\n",
       "      <th>uniques</th>\n",
       "    </tr>\n",
       "    <tr>\n",
       "      <th>feature</th>\n",
       "      <th></th>\n",
       "    </tr>\n",
       "  </thead>\n",
       "  <tbody>\n",
       "    <tr>\n",
       "      <th>age</th>\n",
       "      <td>[58.0, 65.0, 57.0, 64.0, 45.0, 52.0, 63.0, 62.0, 46.0, 59.0, 56.0, 51.0, 70.0, 44.0, 41.0, 39.0, 49.0, 48.0, 54.0, 61.0, 66.0, 38.0, 43.0, 67.0, 60.0, 50.0, 53.0, 40.0, 34.0, 77.0, 35.0, 69.0, 42.0, 68.0, 55.0, 71.0, 37.0, 47.0, 74.0, 76.0]</td>\n",
       "    </tr>\n",
       "    <tr>\n",
       "      <th>sex</th>\n",
       "      <td>[1.0, 0.0]</td>\n",
       "    </tr>\n",
       "    <tr>\n",
       "      <th>cp</th>\n",
       "      <td>[4.0, 2.0, 3.0, 1.0]</td>\n",
       "    </tr>\n",
       "    <tr>\n",
       "      <th>trestbps</th>\n",
       "      <td>[125.0, 135.0, 154.0, 110.0, 172.0, 130.0, 138.0, 160.0, 134.0, 132.0, 150.0, 94.0, 156.0, 120.0, 104.0, 128.0, 108.0, 140.0, 124.0, 142.0, 114.0, 112.0, 200.0, 146.0, 106.0, 145.0, 144.0, 152.0, 118.0, 192.0, 105.0, 155.0, 123.0, 102.0, 126.0, 136.0, 100.0, 122.0, 180.0, 174.0, 178.0, 148.0, 129.0, 117.0, 115.0, 101.0, 170.0]</td>\n",
       "    </tr>\n",
       "    <tr>\n",
       "      <th>chol</th>\n",
       "      <td>[300.0, 254.0, 232.0, 309.0, 264.0, 199.0, 212.0, 263.0, 243.0, 273.0, 409.0, 184.0, 223.0, 283.0, 227.0, 245.0, 220.0, 214.0, 208.0, 193.0, 205.0, 269.0, 313.0, 126.0, 197.0, 187.0, 266.0, 204.0, 177.0, 321.0, 209.0, 281.0, 330.0, 318.0, 229.0, 282.0, 295.0, 407.0, 175.0, 247.0, 288.0, 218.0, 188.0, 172.0, 275.0, 246.0, 268.0, 258.0, 267.0, 168.0, 169.0, 308.0, 225.0, 200.0, 298.0, 224.0, 221.0, 167.0, 207.0, 249.0, 256.0, 340.0, 230.0, 210.0, 304.0, 198.0, 219.0, 244.0, 248.0, 417.0, 234.0, 240.0, 307.0, 274.0, 270.0, 211.0, 206.0, 335.0, 217.0, 239.0, 236.0, 182.0, 394.0, 149.0, 226.0, 265.0, 325.0, 354.0, 277.0, 250.0, 201.0, 353.0, 216.0, 284.0, 293.0, 306.0, 315.0, 255.0, 302.0, 241.0, ...]</td>\n",
       "    </tr>\n",
       "    <tr>\n",
       "      <th>fbs</th>\n",
       "      <td>[0.0, 1.0]</td>\n",
       "    </tr>\n",
       "    <tr>\n",
       "      <th>restecg</th>\n",
       "      <td>[2.0, 0.0, 1.0]</td>\n",
       "    </tr>\n",
       "    <tr>\n",
       "      <th>thalach</th>\n",
       "      <td>[171.0, 127.0, 164.0, 131.0, 132.0, 162.0, 147.0, 168.0, 97.0, 152.0, 125.0, 150.0, 105.0, 169.0, 154.0, 143.0, 170.0, 148.0, 184.0, 133.0, 173.0, 136.0, 144.0, 160.0, 182.0, 180.0, 156.0, 163.0, 103.0, 158.0, 140.0, 174.0, 157.0, 165.0, 113.0, 139.0, 142.0, 96.0, 172.0, 167.0, 114.0, 126.0, 122.0, 99.0, 181.0, 192.0, 130.0, 195.0, 194.0, 146.0, 88.0, 111.0, 115.0, 166.0, 108.0, 95.0, 178.0, 151.0, 137.0, 187.0, 161.0, 175.0, 149.0, 123.0, 159.0, 112.0, 120.0, 118.0, 186.0, 141.0, 71.0, 138.0, 134.0, 109.0, 190.0, 145.0, 153.0, 121.0, 155.0, 129.0, 179.0, 188.0, 116.0]</td>\n",
       "    </tr>\n",
       "    <tr>\n",
       "      <th>exang</th>\n",
       "      <td>[0.0, 1.0]</td>\n",
       "    </tr>\n",
       "    <tr>\n",
       "      <th>oldpeak</th>\n",
       "      <td>[0.0, 2.8, 1.8, 1.2, 0.5, 1.4, 1.0, 1.9, 2.1, 2.0, 3.0, 0.2, 4.0, 0.6, 0.8, 1.6, 4.4, 0.1, 0.3, 2.2, 0.4, 0.9, 4.2, 3.2, 0.7, 1.1, 1.5, 2.4, 5.6, 3.5, 2.5, 3.6, 2.6, 2.3, 3.4, 1.3, 3.8]</td>\n",
       "    </tr>\n",
       "    <tr>\n",
       "      <th>slope</th>\n",
       "      <td>[1.0, 2.0, 3.0]</td>\n",
       "    </tr>\n",
       "    <tr>\n",
       "      <th>ca</th>\n",
       "      <td>[2.0, 1.0, 0.0, ?, 3.0]</td>\n",
       "    </tr>\n",
       "    <tr>\n",
       "      <th>thal</th>\n",
       "      <td>[7.0, 3.0, 6.0, ?]</td>\n",
       "    </tr>\n",
       "    <tr>\n",
       "      <th>target</th>\n",
       "      <td>[1, 2, 0, 3, 4]</td>\n",
       "    </tr>\n",
       "  </tbody>\n",
       "</table>\n",
       "</div>"
      ],
      "text/plain": [
       "                                                                                                                                                                                                                                                                                                                                                                                                                                                                                                                                                                                                                                                                                                                                    uniques\n",
       "feature                                                                                                                                                                                                                                                                                                                                                                                                                                                                                                                                                                                                                                                                                                                                    \n",
       "age                                                                                                                                                                                                                                                                                                                                                                                                                                                                                        [58.0, 65.0, 57.0, 64.0, 45.0, 52.0, 63.0, 62.0, 46.0, 59.0, 56.0, 51.0, 70.0, 44.0, 41.0, 39.0, 49.0, 48.0, 54.0, 61.0, 66.0, 38.0, 43.0, 67.0, 60.0, 50.0, 53.0, 40.0, 34.0, 77.0, 35.0, 69.0, 42.0, 68.0, 55.0, 71.0, 37.0, 47.0, 74.0, 76.0]\n",
       "sex                                                                                                                                                                                                                                                                                                                                                                                                                                                                                                                                                                                                                                                                                                                              [1.0, 0.0]\n",
       "cp                                                                                                                                                                                                                                                                                                                                                                                                                                                                                                                                                                                                                                                                                                                     [4.0, 2.0, 3.0, 1.0]\n",
       "trestbps                                                                                                                                                                                                                                                                                                                                                                                           [125.0, 135.0, 154.0, 110.0, 172.0, 130.0, 138.0, 160.0, 134.0, 132.0, 150.0, 94.0, 156.0, 120.0, 104.0, 128.0, 108.0, 140.0, 124.0, 142.0, 114.0, 112.0, 200.0, 146.0, 106.0, 145.0, 144.0, 152.0, 118.0, 192.0, 105.0, 155.0, 123.0, 102.0, 126.0, 136.0, 100.0, 122.0, 180.0, 174.0, 178.0, 148.0, 129.0, 117.0, 115.0, 101.0, 170.0]\n",
       "chol      [300.0, 254.0, 232.0, 309.0, 264.0, 199.0, 212.0, 263.0, 243.0, 273.0, 409.0, 184.0, 223.0, 283.0, 227.0, 245.0, 220.0, 214.0, 208.0, 193.0, 205.0, 269.0, 313.0, 126.0, 197.0, 187.0, 266.0, 204.0, 177.0, 321.0, 209.0, 281.0, 330.0, 318.0, 229.0, 282.0, 295.0, 407.0, 175.0, 247.0, 288.0, 218.0, 188.0, 172.0, 275.0, 246.0, 268.0, 258.0, 267.0, 168.0, 169.0, 308.0, 225.0, 200.0, 298.0, 224.0, 221.0, 167.0, 207.0, 249.0, 256.0, 340.0, 230.0, 210.0, 304.0, 198.0, 219.0, 244.0, 248.0, 417.0, 234.0, 240.0, 307.0, 274.0, 270.0, 211.0, 206.0, 335.0, 217.0, 239.0, 236.0, 182.0, 394.0, 149.0, 226.0, 265.0, 325.0, 354.0, 277.0, 250.0, 201.0, 353.0, 216.0, 284.0, 293.0, 306.0, 315.0, 255.0, 302.0, 241.0, ...]\n",
       "fbs                                                                                                                                                                                                                                                                                                                                                                                                                                                                                                                                                                                                                                                                                                                              [0.0, 1.0]\n",
       "restecg                                                                                                                                                                                                                                                                                                                                                                                                                                                                                                                                                                                                                                                                                                                     [2.0, 0.0, 1.0]\n",
       "thalach                                                                                                                                     [171.0, 127.0, 164.0, 131.0, 132.0, 162.0, 147.0, 168.0, 97.0, 152.0, 125.0, 150.0, 105.0, 169.0, 154.0, 143.0, 170.0, 148.0, 184.0, 133.0, 173.0, 136.0, 144.0, 160.0, 182.0, 180.0, 156.0, 163.0, 103.0, 158.0, 140.0, 174.0, 157.0, 165.0, 113.0, 139.0, 142.0, 96.0, 172.0, 167.0, 114.0, 126.0, 122.0, 99.0, 181.0, 192.0, 130.0, 195.0, 194.0, 146.0, 88.0, 111.0, 115.0, 166.0, 108.0, 95.0, 178.0, 151.0, 137.0, 187.0, 161.0, 175.0, 149.0, 123.0, 159.0, 112.0, 120.0, 118.0, 186.0, 141.0, 71.0, 138.0, 134.0, 109.0, 190.0, 145.0, 153.0, 121.0, 155.0, 129.0, 179.0, 188.0, 116.0]\n",
       "exang                                                                                                                                                                                                                                                                                                                                                                                                                                                                                                                                                                                                                                                                                                                            [0.0, 1.0]\n",
       "oldpeak                                                                                                                                                                                                                                                                                                                                                                                                                                                                                                                                           [0.0, 2.8, 1.8, 1.2, 0.5, 1.4, 1.0, 1.9, 2.1, 2.0, 3.0, 0.2, 4.0, 0.6, 0.8, 1.6, 4.4, 0.1, 0.3, 2.2, 0.4, 0.9, 4.2, 3.2, 0.7, 1.1, 1.5, 2.4, 5.6, 3.5, 2.5, 3.6, 2.6, 2.3, 3.4, 1.3, 3.8]\n",
       "slope                                                                                                                                                                                                                                                                                                                                                                                                                                                                                                                                                                                                                                                                                                                       [1.0, 2.0, 3.0]\n",
       "ca                                                                                                                                                                                                                                                                                                                                                                                                                                                                                                                                                                                                                                                                                                                  [2.0, 1.0, 0.0, ?, 3.0]\n",
       "thal                                                                                                                                                                                                                                                                                                                                                                                                                                                                                                                                                                                                                                                                                                                     [7.0, 3.0, 6.0, ?]\n",
       "target                                                                                                                                                                                                                                                                                                                                                                                                                                                                                                                                                                                                                                                                                                                      [1, 2, 0, 3, 4]"
      ]
     },
     "execution_count": 44,
     "metadata": {},
     "output_type": "execute_result"
    }
   ],
   "source": [
    "get_unique_values(df_train)"
   ]
  },
  {
   "cell_type": "markdown",
   "metadata": {},
   "source": [
    "# Strange values\n"
   ]
  },
  {
   "cell_type": "code",
   "execution_count": 45,
   "metadata": {
    "tags": []
   },
   "outputs": [
    {
     "data": {
      "text/html": [
       "<div>\n",
       "<style scoped>\n",
       "    .dataframe tbody tr th:only-of-type {\n",
       "        vertical-align: middle;\n",
       "    }\n",
       "\n",
       "    .dataframe tbody tr th {\n",
       "        vertical-align: top;\n",
       "    }\n",
       "\n",
       "    .dataframe thead th {\n",
       "        text-align: right;\n",
       "    }\n",
       "</style>\n",
       "<table border=\"1\" class=\"dataframe\">\n",
       "  <thead>\n",
       "    <tr style=\"text-align: right;\">\n",
       "      <th></th>\n",
       "      <th>indices-values</th>\n",
       "    </tr>\n",
       "    <tr>\n",
       "      <th>feature</th>\n",
       "      <th></th>\n",
       "    </tr>\n",
       "  </thead>\n",
       "  <tbody>\n",
       "    <tr>\n",
       "      <th>ca</th>\n",
       "      <td>[(165, ?), (301, ?), (191, ?), (286, ?)]</td>\n",
       "    </tr>\n",
       "    <tr>\n",
       "      <th>thal</th>\n",
       "      <td>[(265, ?), (86, ?)]</td>\n",
       "    </tr>\n",
       "  </tbody>\n",
       "</table>\n",
       "</div>"
      ],
      "text/plain": [
       "                                   indices-values\n",
       "feature                                          \n",
       "ca       [(165, ?), (301, ?), (191, ?), (286, ?)]\n",
       "thal                          [(265, ?), (86, ?)]"
      ]
     },
     "execution_count": 45,
     "metadata": {},
     "output_type": "execute_result"
    }
   ],
   "source": [
    "\n",
    "get_strange_values(df_train)\n"
   ]
  },
  {
   "cell_type": "markdown",
   "metadata": {},
   "source": [
    "# Missing values"
   ]
  },
  {
   "cell_type": "code",
   "execution_count": 46,
   "metadata": {},
   "outputs": [
    {
     "name": "stdout",
     "output_type": "stream",
     "text": [
      "--Missing values count--\n",
      "age         0\n",
      "sex         0\n",
      "cp          0\n",
      "trestbps    0\n",
      "chol        0\n",
      "fbs         0\n",
      "restecg     0\n",
      "thalach     0\n",
      "exang       0\n",
      "oldpeak     0\n",
      "slope       0\n",
      "ca          0\n",
      "thal        0\n",
      "target      0\n",
      "dtype: int64\n"
     ]
    }
   ],
   "source": [
    "# Remove null values if exist\n",
    "print(f\"--Missing values count--\\n{df_train.isnull().sum().sort_values()}\")"
   ]
  },
  {
   "cell_type": "code",
   "execution_count": null,
   "metadata": {},
   "outputs": [],
   "source": []
  },
  {
   "cell_type": "code",
   "execution_count": null,
   "metadata": {},
   "outputs": [],
   "source": []
  }
 ],
 "metadata": {
  "kernelspec": {
   "display_name": "Python 3 (ipykernel)",
   "language": "python",
   "name": "python3"
  },
  "language_info": {
   "codemirror_mode": {
    "name": "ipython",
    "version": 3
   },
   "file_extension": ".py",
   "mimetype": "text/x-python",
   "name": "python",
   "nbconvert_exporter": "python",
   "pygments_lexer": "ipython3",
   "version": "3.9.12 (main, Apr  4 2022, 05:22:27) [MSC v.1916 64 bit (AMD64)]"
  },
  "vscode": {
   "interpreter": {
    "hash": "dafb1f7618ea635952683f9de1ec2ad0605097bc28573cb02814b9f97cdb4857"
   }
  }
 },
 "nbformat": 4,
 "nbformat_minor": 4
}
