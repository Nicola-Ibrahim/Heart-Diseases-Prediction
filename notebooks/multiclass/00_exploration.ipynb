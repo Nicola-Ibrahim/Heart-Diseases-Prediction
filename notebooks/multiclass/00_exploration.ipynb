{
 "cells": [
  {
   "cell_type": "code",
   "execution_count": 54,
   "metadata": {},
   "outputs": [],
   "source": [
    "# DATA_PATH = \"../../data/raw/cleveland.csv\"\n",
    "TRAIN_DATA_PATH = \"../../data/interim/cleveland_train.pkl\"\n",
    "# TEST_DATA_PATH = \"../../data/interim/cleveland_test.pkl\""
   ]
  },
  {
   "attachments": {},
   "cell_type": "markdown",
   "metadata": {},
   "source": [
    "# Import packages"
   ]
  },
  {
   "cell_type": "code",
   "execution_count": 55,
   "metadata": {},
   "outputs": [],
   "source": [
    "import pandas as pd\n",
    "from sklearn.model_selection import train_test_split\n",
    "\n",
    "import warnings\n",
    "warnings.filterwarnings('ignore')\n"
   ]
  },
  {
   "cell_type": "code",
   "execution_count": 56,
   "metadata": {},
   "outputs": [],
   "source": [
    "# Change some pandas display options\n",
    "pd.set_option('display.max_rows', 10000)\n",
    "pd.set_option('display.max_columns', 500)\n",
    "pd.set_option('display.max_colwidth', 0)\n",
    "pd.set_option('display.width', 1000)\n",
    "pd.set_option(\"styler.format.precision\", 10)"
   ]
  },
  {
   "attachments": {},
   "cell_type": "markdown",
   "metadata": {},
   "source": [
    "# Functions"
   ]
  },
  {
   "cell_type": "code",
   "execution_count": 57,
   "metadata": {},
   "outputs": [],
   "source": [
    "# Get the values count for each feature in the DataFrame\n",
    "def get_values_count(data: pd.DataFrame, cols: list) -> None:\n",
    "    \"\"\"\n",
    "    Calculate the values count for each feature in the DataFrame\n",
    "    \n",
    "    Parameters\n",
    "    ----------\n",
    "    data : DataFrame\n",
    "    cols : list of features\n",
    "    \n",
    "    Returns\n",
    "    -------\n",
    "    values_count : DataFrame contains values count for each feature\n",
    "    \"\"\"\n",
    "    for col in cols:\n",
    "        print(f\"{col} :{data[col].value_counts(dropna=False).to_dict()}\")\n",
    "\n",
    "\n",
    "def get_unique_values(data: pd.DataFrame):\n",
    "    \"\"\"\n",
    "    Get unique values in each feature\n",
    "    \n",
    "    Parameters\n",
    "    ----------\n",
    "    data : DataFrame\n",
    "    \n",
    "    Returns\n",
    "    -------\n",
    "    unique_values : DataFrame contains unique values for each feature\n",
    "    \"\"\"\n",
    "\n",
    "    uniques = pd.DataFrame(data={\"feature\": [], \"uniques\": []})\n",
    "\n",
    "    for col in data.columns:\n",
    "        unique_values = data[col].unique()\n",
    "        if len(unique_values) > 1000:\n",
    "            continue\n",
    "\n",
    "        uniques.loc[len(uniques)] = [col, unique_values]\n",
    "\n",
    "    uniques.index = uniques[\"feature\"]\n",
    "    uniques.drop(columns=\"feature\", inplace=True)\n",
    "    return uniques\n",
    "\n",
    "\n",
    "def get_strange_values(data: pd.DataFrame) -> pd.DataFrame:\n",
    "    \"\"\"\n",
    "    Get strange values in each feature\n",
    "    \n",
    "    Parameters\n",
    "    ----------\n",
    "    data : DataFrame\n",
    "    \n",
    "    Returns\n",
    "    -------\n",
    "    unique_values : DataFrame contains unique values for each feature\n",
    "    \"\"\"\n",
    "\n",
    "    data_copy = data.copy()\n",
    "    uniques = pd.DataFrame(data={\"feature\": [], \"indices-values\": []})\n",
    "\n",
    "    for col in data_copy.columns:\n",
    "        # Change the column type to be string\n",
    "        data_copy[col] = data_copy[col].astype(str)\n",
    "\n",
    "        # The pattern for checking the presence of strange values\n",
    "        pattern = r\"([+-]?([0-9]+([.][0-9]*)?|[.][0-9]+)|[a-zA-Z]+)\"\n",
    "\n",
    "        # Get mask matrix that refers to strange values ([~]: for not contain)\n",
    "        strange_values_mask = ~data_copy[col].str.contains(\n",
    "            pat=pattern, na=True, regex=True, case=False\n",
    "        )\n",
    "\n",
    "        # Get index of the strange values\n",
    "        strange_values_ind = data_copy[strange_values_mask].index.to_list()\n",
    "\n",
    "        if not strange_values_ind:\n",
    "            continue\n",
    "\n",
    "        # dictionary = {\n",
    "        #     col : {ind:list(data_copy.loc[ind,col]) for ind in strange_values_ind}\n",
    "        # }\n",
    "\n",
    "        # reform = {(outerKey, innerKey): values for outerKey, innerDict in dictionary.items() for innerKey, values in innerDict.items()}\n",
    "        # reform = pd.DataFrame.from_dict(reform, orient='index').transpose()\n",
    "\n",
    "        # user len(uniques) as index for inserting new row\n",
    "        uniques.loc[len(uniques)] = [\n",
    "            col,\n",
    "            [(ind, data_copy.loc[ind, col]) for ind in strange_values_ind],\n",
    "        ]\n",
    "        \n",
    "        # print(uniques)\n",
    "\n",
    "    uniques.set_index(keys=[\"feature\"], inplace=True)\n",
    "\n",
    "    if not uniques.empty:\n",
    "        return uniques\n",
    "\n",
    "    return \"No strange values found!\"\n"
   ]
  },
  {
   "attachments": {},
   "cell_type": "markdown",
   "metadata": {},
   "source": [
    "# Data Acquisition"
   ]
  },
  {
   "cell_type": "code",
   "execution_count": 58,
   "metadata": {},
   "outputs": [],
   "source": [
    "# Read data\n",
    "df_train = pd.read_pickle(TRAIN_DATA_PATH)"
   ]
  },
  {
   "cell_type": "code",
   "execution_count": 59,
   "metadata": {},
   "outputs": [
    {
     "name": "stdout",
     "output_type": "stream",
     "text": [
      "Num of rows: 226\n",
      "Num of features: 14\n"
     ]
    }
   ],
   "source": [
    "# Display raw train data shape\n",
    "print(f\"Num of rows: {df_train.shape[0]}\")\n",
    "print(f\"Num of features: {df_train.shape[1]}\")"
   ]
  },
  {
   "cell_type": "code",
   "execution_count": 60,
   "metadata": {},
   "outputs": [
    {
     "data": {
      "text/html": [
       "<div>\n",
       "<style scoped>\n",
       "    .dataframe tbody tr th:only-of-type {\n",
       "        vertical-align: middle;\n",
       "    }\n",
       "\n",
       "    .dataframe tbody tr th {\n",
       "        vertical-align: top;\n",
       "    }\n",
       "\n",
       "    .dataframe thead th {\n",
       "        text-align: right;\n",
       "    }\n",
       "</style>\n",
       "<table border=\"1\" class=\"dataframe\">\n",
       "  <thead>\n",
       "    <tr style=\"text-align: right;\">\n",
       "      <th></th>\n",
       "      <th>age</th>\n",
       "      <th>sex</th>\n",
       "      <th>cp</th>\n",
       "      <th>trestbps</th>\n",
       "      <th>chol</th>\n",
       "      <th>fbs</th>\n",
       "      <th>restecg</th>\n",
       "      <th>thalach</th>\n",
       "      <th>exang</th>\n",
       "      <th>oldpeak</th>\n",
       "      <th>slope</th>\n",
       "      <th>ca</th>\n",
       "      <th>thal</th>\n",
       "      <th>target</th>\n",
       "    </tr>\n",
       "  </thead>\n",
       "  <tbody>\n",
       "    <tr>\n",
       "      <th>156</th>\n",
       "      <td>58.0</td>\n",
       "      <td>1.0</td>\n",
       "      <td>4.0</td>\n",
       "      <td>125.0</td>\n",
       "      <td>300.0</td>\n",
       "      <td>0.0</td>\n",
       "      <td>2.0</td>\n",
       "      <td>171.0</td>\n",
       "      <td>0.0</td>\n",
       "      <td>0.0</td>\n",
       "      <td>1.0</td>\n",
       "      <td>2.0</td>\n",
       "      <td>7.0</td>\n",
       "      <td>1</td>\n",
       "    </tr>\n",
       "    <tr>\n",
       "      <th>118</th>\n",
       "      <td>65.0</td>\n",
       "      <td>1.0</td>\n",
       "      <td>4.0</td>\n",
       "      <td>135.0</td>\n",
       "      <td>254.0</td>\n",
       "      <td>0.0</td>\n",
       "      <td>2.0</td>\n",
       "      <td>127.0</td>\n",
       "      <td>0.0</td>\n",
       "      <td>2.8</td>\n",
       "      <td>2.0</td>\n",
       "      <td>1.0</td>\n",
       "      <td>7.0</td>\n",
       "      <td>2</td>\n",
       "    </tr>\n",
       "    <tr>\n",
       "      <th>277</th>\n",
       "      <td>57.0</td>\n",
       "      <td>1.0</td>\n",
       "      <td>2.0</td>\n",
       "      <td>154.0</td>\n",
       "      <td>232.0</td>\n",
       "      <td>0.0</td>\n",
       "      <td>2.0</td>\n",
       "      <td>164.0</td>\n",
       "      <td>0.0</td>\n",
       "      <td>0.0</td>\n",
       "      <td>1.0</td>\n",
       "      <td>1.0</td>\n",
       "      <td>3.0</td>\n",
       "      <td>1</td>\n",
       "    </tr>\n",
       "    <tr>\n",
       "      <th>142</th>\n",
       "      <td>64.0</td>\n",
       "      <td>1.0</td>\n",
       "      <td>3.0</td>\n",
       "      <td>125.0</td>\n",
       "      <td>309.0</td>\n",
       "      <td>0.0</td>\n",
       "      <td>0.0</td>\n",
       "      <td>131.0</td>\n",
       "      <td>1.0</td>\n",
       "      <td>1.8</td>\n",
       "      <td>2.0</td>\n",
       "      <td>0.0</td>\n",
       "      <td>7.0</td>\n",
       "      <td>1</td>\n",
       "    </tr>\n",
       "    <tr>\n",
       "      <th>297</th>\n",
       "      <td>45.0</td>\n",
       "      <td>1.0</td>\n",
       "      <td>1.0</td>\n",
       "      <td>110.0</td>\n",
       "      <td>264.0</td>\n",
       "      <td>0.0</td>\n",
       "      <td>0.0</td>\n",
       "      <td>132.0</td>\n",
       "      <td>0.0</td>\n",
       "      <td>1.2</td>\n",
       "      <td>2.0</td>\n",
       "      <td>0.0</td>\n",
       "      <td>7.0</td>\n",
       "      <td>1</td>\n",
       "    </tr>\n",
       "  </tbody>\n",
       "</table>\n",
       "</div>"
      ],
      "text/plain": [
       "      age  sex   cp  trestbps   chol  fbs  restecg  thalach  exang  oldpeak  slope   ca thal  target\n",
       "156  58.0  1.0  4.0  125.0     300.0  0.0  2.0      171.0    0.0    0.0      1.0    2.0  7.0  1     \n",
       "118  65.0  1.0  4.0  135.0     254.0  0.0  2.0      127.0    0.0    2.8      2.0    1.0  7.0  2     \n",
       "277  57.0  1.0  2.0  154.0     232.0  0.0  2.0      164.0    0.0    0.0      1.0    1.0  3.0  1     \n",
       "142  64.0  1.0  3.0  125.0     309.0  0.0  0.0      131.0    1.0    1.8      2.0    0.0  7.0  1     \n",
       "297  45.0  1.0  1.0  110.0     264.0  0.0  0.0      132.0    0.0    1.2      2.0    0.0  7.0  1     "
      ]
     },
     "execution_count": 60,
     "metadata": {},
     "output_type": "execute_result"
    }
   ],
   "source": [
    "# Display raw train data\n",
    "df_train.head()"
   ]
  },
  {
   "cell_type": "code",
   "execution_count": 61,
   "metadata": {},
   "outputs": [
    {
     "data": {
      "text/plain": [
       "age         50.0 \n",
       "sex         0.0  \n",
       "cp          2.0  \n",
       "trestbps    120.0\n",
       "chol        244.0\n",
       "fbs         0.0  \n",
       "restecg     0.0  \n",
       "thalach     162.0\n",
       "exang       0.0  \n",
       "oldpeak     1.1  \n",
       "slope       1.0  \n",
       "ca          0.0  \n",
       "thal        3.0  \n",
       "target      0    \n",
       "Name: 197, dtype: object"
      ]
     },
     "execution_count": 61,
     "metadata": {},
     "output_type": "execute_result"
    }
   ],
   "source": [
    "# Display a random sample\n",
    "df_train.sample(1).iloc[0]"
   ]
  },
  {
   "cell_type": "code",
   "execution_count": 62,
   "metadata": {},
   "outputs": [
    {
     "name": "stdout",
     "output_type": "stream",
     "text": [
      "<class 'pandas.core.frame.DataFrame'>\n",
      "Int64Index: 226 entries, 156 to 256\n",
      "Data columns (total 14 columns):\n",
      " #   Column    Non-Null Count  Dtype  \n",
      "---  ------    --------------  -----  \n",
      " 0   age       226 non-null    float64\n",
      " 1   sex       226 non-null    float64\n",
      " 2   cp        226 non-null    float64\n",
      " 3   trestbps  226 non-null    float64\n",
      " 4   chol      226 non-null    float64\n",
      " 5   fbs       226 non-null    float64\n",
      " 6   restecg   226 non-null    float64\n",
      " 7   thalach   226 non-null    float64\n",
      " 8   exang     226 non-null    float64\n",
      " 9   oldpeak   226 non-null    float64\n",
      " 10  slope     226 non-null    float64\n",
      " 11  ca        226 non-null    object \n",
      " 12  thal      226 non-null    object \n",
      " 13  target    226 non-null    int64  \n",
      "dtypes: float64(11), int64(1), object(2)\n",
      "memory usage: 26.5+ KB\n"
     ]
    }
   ],
   "source": [
    "df_train.info()"
   ]
  },
  {
   "attachments": {},
   "cell_type": "markdown",
   "metadata": {},
   "source": [
    "*summary*: \n",
    "- **ca** and **thal** are object type"
   ]
  },
  {
   "attachments": {},
   "cell_type": "markdown",
   "metadata": {},
   "source": [
    "# Strange values\n"
   ]
  },
  {
   "cell_type": "code",
   "execution_count": 63,
   "metadata": {},
   "outputs": [
    {
     "data": {
      "text/html": [
       "<div>\n",
       "<style scoped>\n",
       "    .dataframe tbody tr th:only-of-type {\n",
       "        vertical-align: middle;\n",
       "    }\n",
       "\n",
       "    .dataframe tbody tr th {\n",
       "        vertical-align: top;\n",
       "    }\n",
       "\n",
       "    .dataframe thead th {\n",
       "        text-align: right;\n",
       "    }\n",
       "</style>\n",
       "<table border=\"1\" class=\"dataframe\">\n",
       "  <thead>\n",
       "    <tr style=\"text-align: right;\">\n",
       "      <th></th>\n",
       "      <th>indices-values</th>\n",
       "    </tr>\n",
       "    <tr>\n",
       "      <th>feature</th>\n",
       "      <th></th>\n",
       "    </tr>\n",
       "  </thead>\n",
       "  <tbody>\n",
       "    <tr>\n",
       "      <th>ca</th>\n",
       "      <td>[(165, ?), (301, ?), (191, ?), (286, ?)]</td>\n",
       "    </tr>\n",
       "    <tr>\n",
       "      <th>thal</th>\n",
       "      <td>[(265, ?), (86, ?)]</td>\n",
       "    </tr>\n",
       "  </tbody>\n",
       "</table>\n",
       "</div>"
      ],
      "text/plain": [
       "                                   indices-values\n",
       "feature                                          \n",
       "ca       [(165, ?), (301, ?), (191, ?), (286, ?)]\n",
       "thal     [(265, ?), (86, ?)]                     "
      ]
     },
     "execution_count": 63,
     "metadata": {},
     "output_type": "execute_result"
    }
   ],
   "source": [
    "\n",
    "get_strange_values(df_train)\n"
   ]
  },
  {
   "attachments": {},
   "cell_type": "markdown",
   "metadata": {},
   "source": [
    "# Missing values"
   ]
  },
  {
   "cell_type": "code",
   "execution_count": 64,
   "metadata": {},
   "outputs": [
    {
     "name": "stdout",
     "output_type": "stream",
     "text": [
      "--Missing values count--\n",
      "age         0\n",
      "sex         0\n",
      "cp          0\n",
      "trestbps    0\n",
      "chol        0\n",
      "fbs         0\n",
      "restecg     0\n",
      "thalach     0\n",
      "exang       0\n",
      "oldpeak     0\n",
      "slope       0\n",
      "ca          0\n",
      "thal        0\n",
      "target      0\n",
      "dtype: int64\n"
     ]
    }
   ],
   "source": [
    "# Remove null values if exist\n",
    "print(f\"--Missing values count--\\n{df_train.isnull().sum().sort_values()}\")"
   ]
  },
  {
   "cell_type": "code",
   "execution_count": null,
   "metadata": {},
   "outputs": [],
   "source": []
  }
 ],
 "metadata": {
  "kernelspec": {
   "display_name": "base",
   "language": "python",
   "name": "python3"
  },
  "language_info": {
   "codemirror_mode": {
    "name": "ipython",
    "version": 3
   },
   "file_extension": ".py",
   "mimetype": "text/x-python",
   "name": "python",
   "nbconvert_exporter": "python",
   "pygments_lexer": "ipython3",
   "version": "3.9.12 (main, Apr  4 2022, 05:22:27) [MSC v.1916 64 bit (AMD64)]"
  },
  "orig_nbformat": 4,
  "vscode": {
   "interpreter": {
    "hash": "dafb1f7618ea635952683f9de1ec2ad0605097bc28573cb02814b9f97cdb4857"
   }
  }
 },
 "nbformat": 4,
 "nbformat_minor": 2
}
