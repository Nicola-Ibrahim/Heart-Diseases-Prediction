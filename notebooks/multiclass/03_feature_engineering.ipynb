{
 "cells": [
  {
   "cell_type": "markdown",
   "id": "b9cad826-30f4-40cd-8a96-dde4319ff6fd",
   "metadata": {
    "tags": []
   },
   "source": [
    "# Personal view\n",
    "\n",
    "The most common feature that help in detection of heart desease are:\n",
    "\n",
    "- **chest pain type:**\n",
    "\n",
    "It is not a good **indicator** to show CAD diseases becasue of in the different syptoms, the majority of its values tend to give **no disease**\n",
    "\n",
    "![chest pain type-count_plot.jpg](attachment:e93895e5-5eb5-4ac4-84da-fd0a88c5f179.jpg)\n",
    "\n",
    "- **exercise induced angina**\n",
    "\n",
    "It is a good **indicator** to show CAD diseases becasue the **No** value gives bigger priority for no CAD diseases\n",
    "\n",
    "![exercise induced angina-count_plot.jpg](attachment:99b9579c-6696-4935-8414-e819fd42d893.jpg)\n",
    "\n",
    "\n",
    "- **the slop of ST segment**\n",
    "\n",
    "It is a good **indicator** to show CAD diseases becasue there its values help in distinguishing if there is CAD diseases.\n",
    "\n",
    "![slope peak exercise ST segment-count_plot.jpg](attachment:966df1dc-b2cb-40b8-a763-0317036a6ad7.jpg)\n",
    "![download.png](attachment:76589c46-b978-4f07-891a-8c56f7f0e131.png)\n",
    "\n",
    "- **thallium stress result:** \n",
    "\n",
    "the flow of blood to your heart through your coronary arteries, An abnormal test result can reveal coronary blockages as well as damage from heart attacks\n",
    "\n",
    "It is a good **indicator**\n",
    "\n",
    "![thallium stress result-count_plot.jpg](attachment:8e68998b-05a6-4dc2-bd1c-f6dca054b5f1.jpg)\n",
    "\n",
    "\n",
    "- **max heart rate** \n",
    "- **age** \n",
    "- **ST depression**"
   ]
  },
  {
   "cell_type": "code",
   "execution_count": 6,
   "id": "04628445-b9e8-4a74-9acd-3c17b3fb86d4",
   "metadata": {
    "tags": []
   },
   "outputs": [],
   "source": [
    "PROC_TRAIN_DATA_PATH = \"../../data/processed/preprocessed_train_data.pkl\"\n",
    "SELECTED_TRAIN_DATA_PATH = \"../../data/preprocessed/selected_train_data.pkl\"\n"
   ]
  },
  {
   "cell_type": "markdown",
   "id": "6c922b04-8e23-4c54-bddc-faf19e0a247c",
   "metadata": {},
   "source": [
    "# Import packages"
   ]
  },
  {
   "cell_type": "code",
   "execution_count": 30,
   "id": "77b53513-5758-4d5c-aeda-b23d6f91e19f",
   "metadata": {
    "tags": []
   },
   "outputs": [],
   "source": [
    "from typing import Any, Callable\n",
    "from functools import wraps\n",
    "\n",
    "import pandas as pd\n",
    "import numpy as np\n",
    "import matplotlib.pyplot as plt\n",
    "import seaborn as sns\n",
    "import os\n",
    "from scipy import stats\n",
    "from dataclasses import dataclass, field\n",
    "from typing import Union\n",
    "\n",
    "\n",
    "# Inherit from Base class\n",
    "from sklearn.base import BaseEstimator, TransformerMixin, ClassifierMixin\n",
    "from sklearn.pipeline import Pipeline, FeatureUnion\n",
    "from sklearn.compose import ColumnTransformer\n",
    "\n",
    "# Import estimators\n",
    "from sklearn.linear_model import LogisticRegression, Lasso\n",
    "from sklearn.tree import DecisionTreeClassifier\n",
    "from sklearn.ensemble import RandomForestClassifier, VotingClassifier, GradientBoostingClassifier\n",
    "from sklearn.svm import SVC\n",
    "from sklearn.neighbors import KNeighborsClassifier\n",
    "\n",
    "# Import imputing features methods \n",
    "from sklearn.preprocessing import MinMaxScaler, QuantileTransformer, OrdinalEncoder\n",
    "from sklearn.impute import SimpleImputer\n",
    "\n",
    "\n",
    "# Import features selection methods\n",
    "from sklearn.feature_selection import chi2, f_classif, mutual_info_classif, RFE\n",
    "\n",
    "from sklearn.feature_selection import SequentialFeatureSelector as sk_SFS\n",
    "from skfeature.function.similarity_based.fisher_score import fisher_score\n",
    "\n",
    "from mlxtend.feature_selection import SequentialFeatureSelector as mlx_SFS\n",
    "from mlxtend.plotting import plot_sequential_feature_selection as plot_sfs\n",
    "\n",
    "\n",
    "from statsmodels.stats.outliers_influence import variance_inflation_factor \n",
    "\n",
    "import warnings\n",
    "warnings.filterwarnings('ignore')"
   ]
  },
  {
   "cell_type": "code",
   "execution_count": 8,
   "id": "4197fdb3-3341-4392-96c3-d7c01e5ce9b7",
   "metadata": {
    "tags": []
   },
   "outputs": [],
   "source": [
    "# Change some pandas display options\n",
    "pd.set_option(\"display.max_rows\", 500)\n",
    "pd.set_option(\"display.max_columns\", 500)\n",
    "pd.set_option(\"display.max_colwidth\", 0)\n",
    "pd.set_option(\"display.width\", 1000)\n",
    "pd.set_option(\"styler.format.precision\", 10)\n"
   ]
  },
  {
   "cell_type": "markdown",
   "id": "d0a5ebdb-2cbb-4d02-aea1-b59de0f3b4f8",
   "metadata": {},
   "source": [
    "# Read data"
   ]
  },
  {
   "cell_type": "code",
   "execution_count": 19,
   "id": "21e66f5b-9b94-4e99-a432-c2a3534374d7",
   "metadata": {
    "tags": []
   },
   "outputs": [],
   "source": [
    "df_train = pd.read_pickle(PROC_TRAIN_DATA_PATH)\n",
    "\n",
    "num_cols = ['age', 'resting blood pressure', 'serum cholestoral', 'maximum heart rate', 'ST depression']\n",
    "cat_cols = set(df_train.columns.to_list()) - set(num_cols)\n",
    "cat_cols = list(cat_cols)"
   ]
  },
  {
   "cell_type": "markdown",
   "id": "3b941872-75ce-4a3e-86e1-cca56006bd70",
   "metadata": {
    "tags": []
   },
   "source": [
    "# Normality\n",
    "**Cholesterol** and **ST depression** are not follow the normal distribution<br>\n",
    "so we will transform them to be normally distributed"
   ]
  },
  {
   "cell_type": "code",
   "execution_count": 20,
   "id": "545978a1-841c-4390-8817-14dbe4463a9f",
   "metadata": {},
   "outputs": [],
   "source": [
    "rng = np.random.RandomState(304)\n",
    "qt = QuantileTransformer(n_quantiles=500, output_distribution='normal',\n",
    "                                random_state=rng)\n",
    "df_train[[\"serum cholestoral\",\"ST depression\"]] = qt.fit_transform(df_train[[\"serum cholestoral\",\"ST depression\"]])\n",
    "# test_data[[\"serum cholestoral\",\"ST depression\"]] = qt.transform(test_data[[\"serum cholestoral\",\"ST depression\"]])"
   ]
  },
  {
   "cell_type": "markdown",
   "id": "dc156da2-aef3-46ad-b346-4bf7b66de5f4",
   "metadata": {
    "id": "7cc5bf48",
    "tags": []
   },
   "source": [
    "# Selection"
   ]
  },
  {
   "cell_type": "markdown",
   "id": "3c8eb4ff-1182-44fa-b39d-86d733861449",
   "metadata": {
    "id": "e0a1a693"
   },
   "source": [
    "### Filter methods\n",
    "The current problem contains independent features with categorical target. <br>\n",
    "Therefore the desired filter methods to be used are **Chi2** and **LDA**:\n",
    "1. For measuring the independence between Continues features and categorical target, The LDA algorithm should be used because:\n",
    "    - LDA: Linear discriminant analysis is used to find a linear combination of features that characterizes or separates two or more classes (or levels) of a categorical variable.\n",
    "\n",
    "2. For measuring the independence between categorical features and categorical target, The chi2 test should be used because:\n",
    "    - Chi-Square: It is a is a statistical test applied to the groups of categorical features to evaluate the likelihood of correlation or association between them using their frequency distribution."
   ]
  },
  {
   "cell_type": "markdown",
   "id": "a0a52783-52ce-4dfb-a1ed-39abcb3e53ba",
   "metadata": {},
   "source": [
    "#### Correlation"
   ]
  },
  {
   "cell_type": "code",
   "execution_count": 21,
   "id": "ea8241a0-95e0-4e59-8cf1-9da1be63cd80",
   "metadata": {
    "id": "b01ad801",
    "outputId": "8e15f34a-6713-46d1-bf75-612b57c4884f"
   },
   "outputs": [
    {
     "data": {
      "text/plain": [
       "<AxesSubplot:>"
      ]
     },
     "execution_count": 21,
     "metadata": {},
     "output_type": "execute_result"
    },
    {
     "data": {
      "image/png": "[encoded data removed]",
      "text/plain": [
       "<Figure size 864x360 with 2 Axes>"
      ]
     },
     "metadata": {
      "needs_background": "light"
     },
     "output_type": "display_data"
    }
   ],
   "source": [
    "corr_values = df_train[num_cols+['target']].corr()\n",
    "\n",
    "plt.figure(figsize=(12,5))\n",
    "sns.heatmap(corr_values*100, linecolor='w', linewidths=1, annot=True, fmt='.2f', cmap = plt.cm.BrBG)"
   ]
  },
  {
   "cell_type": "markdown",
   "id": "88c2bf99-d522-4432-b73e-07227ea8ccb3",
   "metadata": {
    "id": "2f5c413b"
   },
   "source": [
    "#### Multicollinearity Detecting\n",
    "Variable Inflation Factors (VIF):\n",
    "- VIF starts at 1 and has no upper limit\n",
    "- VIF = 1, no correlation between the independent variable and the other variables\n",
    "- VIF exceeding 5 or 10 indicates high multicollinearity between this independent variable and the others\n",
    "\n",
    "In conclusion, There is multicollinearity found in:\n",
    "- **age** and other features\n",
    "- **maximum heart rate** and other features"
   ]
  },
  {
   "cell_type": "code",
   "execution_count": 23,
   "id": "5da504ef-a69c-40dc-bbd6-a7e947a2dad9",
   "metadata": {
    "id": "4450c214",
    "outputId": "276f774c-8294-450f-e63c-f63d2cef0f77"
   },
   "outputs": [
    {
     "data": {
      "text/html": [
       "<div>\n",
       "<style scoped>\n",
       "    .dataframe tbody tr th:only-of-type {\n",
       "        vertical-align: middle;\n",
       "    }\n",
       "\n",
       "    .dataframe tbody tr th {\n",
       "        vertical-align: top;\n",
       "    }\n",
       "\n",
       "    .dataframe thead th {\n",
       "        text-align: right;\n",
       "    }\n",
       "</style>\n",
       "<table border=\"1\" class=\"dataframe\">\n",
       "  <thead>\n",
       "    <tr style=\"text-align: right;\">\n",
       "      <th></th>\n",
       "      <th>variables</th>\n",
       "      <th>VIF</th>\n",
       "    </tr>\n",
       "  </thead>\n",
       "  <tbody>\n",
       "    <tr>\n",
       "      <th>0</th>\n",
       "      <td>age</td>\n",
       "      <td>2.850474</td>\n",
       "    </tr>\n",
       "    <tr>\n",
       "      <th>1</th>\n",
       "      <td>resting blood pressure</td>\n",
       "      <td>1.564995</td>\n",
       "    </tr>\n",
       "    <tr>\n",
       "      <th>2</th>\n",
       "      <td>serum cholestoral</td>\n",
       "      <td>1.174653</td>\n",
       "    </tr>\n",
       "    <tr>\n",
       "      <th>3</th>\n",
       "      <td>maximum heart rate</td>\n",
       "      <td>2.947551</td>\n",
       "    </tr>\n",
       "    <tr>\n",
       "      <th>4</th>\n",
       "      <td>ST depression</td>\n",
       "      <td>2.174020</td>\n",
       "    </tr>\n",
       "  </tbody>\n",
       "</table>\n",
       "</div>"
      ],
      "text/plain": [
       "                variables       VIF\n",
       "0  age                     2.850474\n",
       "1  resting blood pressure  1.564995\n",
       "2  serum cholestoral       1.174653\n",
       "3  maximum heart rate      2.947551\n",
       "4  ST depression           2.174020"
      ]
     },
     "execution_count": 23,
     "metadata": {},
     "output_type": "execute_result"
    }
   ],
   "source": [
    "vif = pd.DataFrame()\n",
    "vif_corr_values = df_train[num_cols].corr()\n",
    "vif[\"variables\"] = vif_corr_values.columns\n",
    "vif[\"VIF\"] = [variance_inflation_factor(vif_corr_values.values, i) for i in range(vif_corr_values.shape[1])]\n",
    "vif"
   ]
  },
  {
   "cell_type": "markdown",
   "id": "9fa75bac-67ee-4532-aed3-a47d0c5b5e8f",
   "metadata": {},
   "source": [
    "#### Drawing test scores - bar plot"
   ]
  },
  {
   "cell_type": "code",
   "execution_count": 33,
   "id": "e21ffd17-198c-486a-80a8-17397a0e1907",
   "metadata": {
    "id": "7e68673d"
   },
   "outputs": [],
   "source": [
    "@dataclass\n",
    "class TestResult:\n",
    "    \"\"\"class for storing test results\"\"\"\n",
    "    specs: list[str]\n",
    "    scores: list[Union[int, float]]\n",
    "    res: pd.DataFrame = field(init=False, repr=False)\n",
    "\n",
    "    def __post_init__(self):\n",
    "        # Grouping results in DataFrame\n",
    "        self.res = pd.DataFrame()\n",
    "        self.res['Specs'] = self.specs\n",
    "        self.res['Score'] = self.scores\n",
    "\n",
    "@dataclass\n",
    "class FeatureRank:\n",
    "    \"\"\"class for holding feature ranking\"\"\"\n",
    "    func: Callable[[pd.DataFrame, pd.DataFrame], list[int]]\n",
    "    X: pd.DataFrame\n",
    "    y: pd.DataFrame\n",
    "    test_result: TestResult = field(init=False)\n",
    "\n",
    "    \n",
    "    def __post_init__(self):\n",
    "        \n",
    "        # Take copy of X and y\n",
    "        X_np = self.X.to_numpy()\n",
    "        y_np = self.y.to_numpy()\n",
    "\n",
    "        # Calculate feature ranking\n",
    "        ret = self.func(X_np, y_np)\n",
    "\n",
    "        # Create test result\n",
    "        ranks = ret[0] if(len(ret)==2) else ret\n",
    "\n",
    "        print(type(ranks))\n",
    "        \n",
    "        # Normalize ranks\n",
    "        ranks = (ranks - ranks.min()) / (ranks.max() - ranks.min())\n",
    "\n",
    "        self.test_result = TestResult(self.X.columns, ranks)\n",
    "\n",
    "        # Change the index of the DataFrame\n",
    "        self.test_result.res.index = [train_data.columns.get_loc(spec) for spec in self.test_result.res['Specs']]\n",
    "    \n",
    "    def get_largest_score(self, n:Union[int, str] = 'auto') -> list[str]:\n",
    "        \"\"\"Get the largest n scores\"\"\"\n",
    "        if(isinstance(n, str) and n=='auto'):\n",
    "            n = self.test_result.res.shape[0]\n",
    "        \n",
    "        return self.test_result.res.nlargest(n, columns=['Score'])['Specs'].values.tolist()\n",
    "\n",
    "    def feat_imp_plot(self, title, sorting=False):\n",
    "        \"\"\"Plot feature importance as bar plot\"\"\"\n",
    "\n",
    "        # Take copy of result to avoid modifying on original result\n",
    "        result = self.test_result.res.copy()\n",
    "        \n",
    "        if(sorting):\n",
    "            result = result.sort_values(by='Score', ascending=False)\n",
    "            \n",
    "        fig = plt.figure(figsize=(20,8))\n",
    "        ax  = fig.add_subplot()\n",
    "        axs = sns.barplot(x='Specs', y='Score', data=result, palette = 'Reds_r', ax=ax)\n",
    "        for p in axs.patches:\n",
    "            axs.annotate('{:.2f}'.format(p.get_height()), (p.get_x(), p.get_height()))\n",
    "        plt.box(False)\n",
    "        ax.set_title(title, fontsize=16)\n",
    "        ax.set_xlabel('\\n Features')\n",
    "        ax.set_ylabel('Importance \\n')\n",
    "        ax.set_xticklabels(ax.get_xticklabels(), fontsize=12, rotation=30)\n",
    "\n",
    "        return ax\n",
    "\n",
    "        "
   ]
  },
  {
   "cell_type": "markdown",
   "id": "0fc87cad-8be8-4305-baeb-24e7de3f1bb1",
   "metadata": {
    "id": "3e7ae1c4"
   },
   "source": [
    "#### Chi2 Test\n",
    "Depending on the p_values and the previous categorical features plots we conclude.<br>\n",
    "The following features demonstrate significant difference that help in distinguishing CAD diseases:\n",
    "- exercise induced angina\n",
    "- slope peak exercise ST segment\n",
    "- chest pain type\n",
    "- fasting blood sugar\n"
   ]
  },
  {
   "cell_type": "code",
   "execution_count": 36,
   "id": "b6f385ad-64ad-46ca-a4e1-83cc607d53d8",
   "metadata": {
    "id": "45650ec6",
    "outputId": "2d6ee3be-3910-4ae4-81e1-b26285a9ba26"
   },
   "outputs": [
    {
     "ename": "ValueError",
     "evalue": "Input contains NaN, infinity or a value too large for dtype('float64').",
     "output_type": "error",
     "traceback": [
      "\u001b[1;31m---------------------------------------------------------------------------\u001b[0m",
      "\u001b[1;31mValueError\u001b[0m                                Traceback (most recent call last)",
      "Input \u001b[1;32mIn [36]\u001b[0m, in \u001b[0;36m<cell line: 1>\u001b[1;34m()\u001b[0m\n\u001b[1;32m----> 1\u001b[0m chi2_rank \u001b[38;5;241m=\u001b[39m \u001b[43mFeatureRank\u001b[49m\u001b[43m(\u001b[49m\u001b[43mchi2\u001b[49m\u001b[43m,\u001b[49m\u001b[43m \u001b[49m\u001b[43mdf_train\u001b[49m\u001b[43m[\u001b[49m\u001b[43mcat_cols\u001b[49m\u001b[43m]\u001b[49m\u001b[43m,\u001b[49m\u001b[43m \u001b[49m\u001b[43mdf_train\u001b[49m\u001b[43m[\u001b[49m\u001b[38;5;124;43m'\u001b[39;49m\u001b[38;5;124;43mtarget\u001b[39;49m\u001b[38;5;124;43m'\u001b[39;49m\u001b[43m]\u001b[49m\u001b[43m)\u001b[49m\n\u001b[0;32m      2\u001b[0m chi2_rank\u001b[38;5;241m.\u001b[39mfeat_imp_plot(\u001b[38;5;124m'\u001b[39m\u001b[38;5;124mChi2 Test - feature importance\u001b[39m\u001b[38;5;124m'\u001b[39m, sorting\u001b[38;5;241m=\u001b[39m\u001b[38;5;28;01mTrue\u001b[39;00m)\n",
      "File \u001b[1;32m<string>:6\u001b[0m, in \u001b[0;36m__init__\u001b[1;34m(self, func, X, y)\u001b[0m\n",
      "Input \u001b[1;32mIn [33]\u001b[0m, in \u001b[0;36mFeatureRank.__post_init__\u001b[1;34m(self)\u001b[0m\n\u001b[0;32m     27\u001b[0m y_np \u001b[38;5;241m=\u001b[39m \u001b[38;5;28mself\u001b[39m\u001b[38;5;241m.\u001b[39my\u001b[38;5;241m.\u001b[39mto_numpy()\n\u001b[0;32m     29\u001b[0m \u001b[38;5;66;03m# Calculate feature ranking\u001b[39;00m\n\u001b[1;32m---> 30\u001b[0m ret \u001b[38;5;241m=\u001b[39m \u001b[38;5;28;43mself\u001b[39;49m\u001b[38;5;241;43m.\u001b[39;49m\u001b[43mfunc\u001b[49m\u001b[43m(\u001b[49m\u001b[43mX_np\u001b[49m\u001b[43m,\u001b[49m\u001b[43m \u001b[49m\u001b[43my_np\u001b[49m\u001b[43m)\u001b[49m\n\u001b[0;32m     32\u001b[0m \u001b[38;5;66;03m# Create test result\u001b[39;00m\n\u001b[0;32m     33\u001b[0m ranks \u001b[38;5;241m=\u001b[39m ret[\u001b[38;5;241m0\u001b[39m] \u001b[38;5;28;01mif\u001b[39;00m(\u001b[38;5;28mlen\u001b[39m(ret)\u001b[38;5;241m==\u001b[39m\u001b[38;5;241m2\u001b[39m) \u001b[38;5;28;01melse\u001b[39;00m ret\n",
      "File \u001b[1;32m~\\anaconda3\\lib\\site-packages\\sklearn\\feature_selection\\_univariate_selection.py:213\u001b[0m, in \u001b[0;36mchi2\u001b[1;34m(X, y)\u001b[0m\n\u001b[0;32m    171\u001b[0m \u001b[38;5;124;03m\"\"\"Compute chi-squared stats between each non-negative feature and class.\u001b[39;00m\n\u001b[0;32m    172\u001b[0m \n\u001b[0;32m    173\u001b[0m \u001b[38;5;124;03mThis score can be used to select the n_features features with the\u001b[39;00m\n\u001b[1;32m   (...)\u001b[0m\n\u001b[0;32m    208\u001b[0m \u001b[38;5;124;03mf_regression : F-value between label/feature for regression tasks.\u001b[39;00m\n\u001b[0;32m    209\u001b[0m \u001b[38;5;124;03m\"\"\"\u001b[39;00m\n\u001b[0;32m    211\u001b[0m \u001b[38;5;66;03m# XXX: we might want to do some of the following in logspace instead for\u001b[39;00m\n\u001b[0;32m    212\u001b[0m \u001b[38;5;66;03m# numerical stability.\u001b[39;00m\n\u001b[1;32m--> 213\u001b[0m X \u001b[38;5;241m=\u001b[39m \u001b[43mcheck_array\u001b[49m\u001b[43m(\u001b[49m\u001b[43mX\u001b[49m\u001b[43m,\u001b[49m\u001b[43m \u001b[49m\u001b[43maccept_sparse\u001b[49m\u001b[38;5;241;43m=\u001b[39;49m\u001b[38;5;124;43m\"\u001b[39;49m\u001b[38;5;124;43mcsr\u001b[39;49m\u001b[38;5;124;43m\"\u001b[39;49m\u001b[43m)\u001b[49m\n\u001b[0;32m    214\u001b[0m \u001b[38;5;28;01mif\u001b[39;00m np\u001b[38;5;241m.\u001b[39many((X\u001b[38;5;241m.\u001b[39mdata \u001b[38;5;28;01mif\u001b[39;00m issparse(X) \u001b[38;5;28;01melse\u001b[39;00m X) \u001b[38;5;241m<\u001b[39m \u001b[38;5;241m0\u001b[39m):\n\u001b[0;32m    215\u001b[0m     \u001b[38;5;28;01mraise\u001b[39;00m \u001b[38;5;167;01mValueError\u001b[39;00m(\u001b[38;5;124m\"\u001b[39m\u001b[38;5;124mInput X must be non-negative.\u001b[39m\u001b[38;5;124m\"\u001b[39m)\n",
      "File \u001b[1;32m~\\anaconda3\\lib\\site-packages\\sklearn\\utils\\validation.py:800\u001b[0m, in \u001b[0;36mcheck_array\u001b[1;34m(array, accept_sparse, accept_large_sparse, dtype, order, copy, force_all_finite, ensure_2d, allow_nd, ensure_min_samples, ensure_min_features, estimator)\u001b[0m\n\u001b[0;32m    794\u001b[0m         \u001b[38;5;28;01mraise\u001b[39;00m \u001b[38;5;167;01mValueError\u001b[39;00m(\n\u001b[0;32m    795\u001b[0m             \u001b[38;5;124m\"\u001b[39m\u001b[38;5;124mFound array with dim \u001b[39m\u001b[38;5;132;01m%d\u001b[39;00m\u001b[38;5;124m. \u001b[39m\u001b[38;5;132;01m%s\u001b[39;00m\u001b[38;5;124m expected <= 2.\u001b[39m\u001b[38;5;124m\"\u001b[39m\n\u001b[0;32m    796\u001b[0m             \u001b[38;5;241m%\u001b[39m (array\u001b[38;5;241m.\u001b[39mndim, estimator_name)\n\u001b[0;32m    797\u001b[0m         )\n\u001b[0;32m    799\u001b[0m     \u001b[38;5;28;01mif\u001b[39;00m force_all_finite:\n\u001b[1;32m--> 800\u001b[0m         \u001b[43m_assert_all_finite\u001b[49m\u001b[43m(\u001b[49m\u001b[43marray\u001b[49m\u001b[43m,\u001b[49m\u001b[43m \u001b[49m\u001b[43mallow_nan\u001b[49m\u001b[38;5;241;43m=\u001b[39;49m\u001b[43mforce_all_finite\u001b[49m\u001b[43m \u001b[49m\u001b[38;5;241;43m==\u001b[39;49m\u001b[43m \u001b[49m\u001b[38;5;124;43m\"\u001b[39;49m\u001b[38;5;124;43mallow-nan\u001b[39;49m\u001b[38;5;124;43m\"\u001b[39;49m\u001b[43m)\u001b[49m\n\u001b[0;32m    802\u001b[0m \u001b[38;5;28;01mif\u001b[39;00m ensure_min_samples \u001b[38;5;241m>\u001b[39m \u001b[38;5;241m0\u001b[39m:\n\u001b[0;32m    803\u001b[0m     n_samples \u001b[38;5;241m=\u001b[39m _num_samples(array)\n",
      "File \u001b[1;32m~\\anaconda3\\lib\\site-packages\\sklearn\\utils\\validation.py:114\u001b[0m, in \u001b[0;36m_assert_all_finite\u001b[1;34m(X, allow_nan, msg_dtype)\u001b[0m\n\u001b[0;32m    107\u001b[0m     \u001b[38;5;28;01mif\u001b[39;00m (\n\u001b[0;32m    108\u001b[0m         allow_nan\n\u001b[0;32m    109\u001b[0m         \u001b[38;5;129;01mand\u001b[39;00m np\u001b[38;5;241m.\u001b[39misinf(X)\u001b[38;5;241m.\u001b[39many()\n\u001b[0;32m    110\u001b[0m         \u001b[38;5;129;01mor\u001b[39;00m \u001b[38;5;129;01mnot\u001b[39;00m allow_nan\n\u001b[0;32m    111\u001b[0m         \u001b[38;5;129;01mand\u001b[39;00m \u001b[38;5;129;01mnot\u001b[39;00m np\u001b[38;5;241m.\u001b[39misfinite(X)\u001b[38;5;241m.\u001b[39mall()\n\u001b[0;32m    112\u001b[0m     ):\n\u001b[0;32m    113\u001b[0m         type_err \u001b[38;5;241m=\u001b[39m \u001b[38;5;124m\"\u001b[39m\u001b[38;5;124minfinity\u001b[39m\u001b[38;5;124m\"\u001b[39m \u001b[38;5;28;01mif\u001b[39;00m allow_nan \u001b[38;5;28;01melse\u001b[39;00m \u001b[38;5;124m\"\u001b[39m\u001b[38;5;124mNaN, infinity\u001b[39m\u001b[38;5;124m\"\u001b[39m\n\u001b[1;32m--> 114\u001b[0m         \u001b[38;5;28;01mraise\u001b[39;00m \u001b[38;5;167;01mValueError\u001b[39;00m(\n\u001b[0;32m    115\u001b[0m             msg_err\u001b[38;5;241m.\u001b[39mformat(\n\u001b[0;32m    116\u001b[0m                 type_err, msg_dtype \u001b[38;5;28;01mif\u001b[39;00m msg_dtype \u001b[38;5;129;01mis\u001b[39;00m \u001b[38;5;129;01mnot\u001b[39;00m \u001b[38;5;28;01mNone\u001b[39;00m \u001b[38;5;28;01melse\u001b[39;00m X\u001b[38;5;241m.\u001b[39mdtype\n\u001b[0;32m    117\u001b[0m             )\n\u001b[0;32m    118\u001b[0m         )\n\u001b[0;32m    119\u001b[0m \u001b[38;5;66;03m# for object dtype data, we only check for NaNs (GH-13254)\u001b[39;00m\n\u001b[0;32m    120\u001b[0m \u001b[38;5;28;01melif\u001b[39;00m X\u001b[38;5;241m.\u001b[39mdtype \u001b[38;5;241m==\u001b[39m np\u001b[38;5;241m.\u001b[39mdtype(\u001b[38;5;124m\"\u001b[39m\u001b[38;5;124mobject\u001b[39m\u001b[38;5;124m\"\u001b[39m) \u001b[38;5;129;01mand\u001b[39;00m \u001b[38;5;129;01mnot\u001b[39;00m allow_nan:\n",
      "\u001b[1;31mValueError\u001b[0m: Input contains NaN, infinity or a value too large for dtype('float64')."
     ]
    }
   ],
   "source": [
    "chi2_rank = FeatureRank(chi2, df_train[cat_cols], df_train['target'])\n",
    "chi2_rank.feat_imp_plot('Chi2 Test - feature importance', sorting=True)"
   ]
  },
  {
   "cell_type": "markdown",
   "id": "2eff5d40-9968-4b85-9afd-a21fbfb12c86",
   "metadata": {
    "id": "979d5556"
   },
   "source": [
    "#### ANOVA Test\n",
    "Depending on the p_values and the previous numerical features plots we conclude.<br>\n",
    "The following features demonstrate significant difference that help in distinguishing CAD diseases:\n",
    "- max heart rate\n",
    "- ST depression\n",
    "- age\n",
    "- cholesterol\n"
   ]
  },
  {
   "cell_type": "code",
   "execution_count": null,
   "id": "af5bd611-9991-479d-a7e5-b06fea85c7c6",
   "metadata": {
    "id": "28d718ab",
    "outputId": "86c99946-693e-462a-a1b1-045a3a72491d"
   },
   "outputs": [],
   "source": [
    "f_rank = FeatureRank(f_classif, train_data[num_cols], train_data['target'])\n",
    "f_rank.feat_imp_plot('ANOVA Test - feature importance', sorting=True)"
   ]
  },
  {
   "cell_type": "markdown",
   "id": "93f23159-fae3-4763-974a-56b1b1d9b887",
   "metadata": {},
   "source": [
    "#### Mutual-info method"
   ]
  },
  {
   "cell_type": "code",
   "execution_count": null,
   "id": "99fef4ae-da2d-4354-99be-70bc4366be63",
   "metadata": {},
   "outputs": [],
   "source": [
    "mi_rank = FeatureRank(mutual_info_classif, train_data.iloc[:,:-1], train_data['target'])\n",
    "mi_rank.feat_imp_plot('Mutual-info Test - feature importance', sorting=True)"
   ]
  },
  {
   "cell_type": "markdown",
   "id": "7b310341-be3e-4b87-b896-1985d58ff3f6",
   "metadata": {
    "id": "55b2372b"
   },
   "source": [
    "#### Fisher's Score"
   ]
  },
  {
   "cell_type": "code",
   "execution_count": null,
   "id": "40e6a5ec-50f8-42c1-8fd9-6d79047de0ac",
   "metadata": {
    "id": "258fa333"
   },
   "outputs": [],
   "source": [
    "fisher_rank = FeatureRank(fisher_score, train_data.iloc[:,:-1], train_data['target'])\n",
    "fisher_rank.feat_imp_plot('Fisher Score - feature importance', sorting=True)"
   ]
  },
  {
   "cell_type": "markdown",
   "id": "6247d1a9-71f8-4346-b268-f99d6e0c8284",
   "metadata": {},
   "source": [
    "#### Comparison"
   ]
  },
  {
   "cell_type": "code",
   "execution_count": null,
   "id": "f46d2742-1f6c-4774-8d7b-ae4b86260377",
   "metadata": {},
   "outputs": [],
   "source": [
    "filter_methods_comp = pd.DataFrame()\n",
    "filter_methods_comp = pd.concat([filter_methods_comp, mi_rank.test_result.res['Score']], axis=1)\n",
    "filter_methods_comp = pd.concat([filter_methods_comp, fisher_rank.test_result.res['Score']], axis=1)\n",
    "# filter_methods_comp = pd.concat([filter_methods_comp, chi2_rank.test_result.res['Score']], axis=1)\n",
    "# filter_methods_comp = pd.concat([filter_methods_comp, f_rank.test_result.res['Score']], axis=1)\n",
    "filter_methods_comp.index = index=train_data.columns[:-1]\n",
    "filter_methods_comp.columns = ['mutual_info', 'fisher']\n",
    "filter_methods_comp.sort_values(by='mutual_info', ascending=False)\n"
   ]
  },
  {
   "cell_type": "markdown",
   "id": "5fbdb9a5-e04a-4414-83e7-441cd71084d9",
   "metadata": {
    "id": "fc484839"
   },
   "source": [
    "### Wrapper methods"
   ]
  },
  {
   "cell_type": "markdown",
   "id": "5cfcf8af-69a8-4faf-850c-3fbb4fa7d6b2",
   "metadata": {
    "id": "6ba32be1"
   },
   "source": [
    "#### RFE"
   ]
  },
  {
   "cell_type": "code",
   "execution_count": null,
   "id": "f23d5612-c217-4c89-b911-3e186b657a66",
   "metadata": {
    "id": "d703c1cf",
    "outputId": "a1584b5d-d50a-4335-bc1e-f56762a0e0a7"
   },
   "outputs": [],
   "source": [
    "def rfe_score(X, y):\n",
    "    \"\"\"Calculate RFE score\"\"\"\n",
    "    selection_svc_model = DecisionTreeClassifier()\n",
    "    rfe = RFE(selection_svc_model, n_features_to_select=7, step=1)\n",
    "    rfe.fit(X, y)\n",
    "\n",
    "    return rfe.ranking_\n",
    "\n",
    "rfe_rank = FeatureRank(rfe_score, train_data.iloc[:,:-1], train_data['target'])\n",
    "rfe_rank.feat_imp_plot('RFE Score - feature importance', sorting=True)\n",
    "\n"
   ]
  },
  {
   "cell_type": "markdown",
   "id": "9621a2d2-0067-43a2-b5d1-02bd8c661d82",
   "metadata": {
    "id": "b45c9f4e"
   },
   "source": [
    "#### SFS"
   ]
  },
  {
   "cell_type": "markdown",
   "id": "f91f374f-72e8-48c3-a880-c1a35f16748c",
   "metadata": {
    "id": "2112a939"
   },
   "source": [
    "##### built-in library"
   ]
  },
  {
   "cell_type": "code",
   "execution_count": null,
   "id": "05e71466-e1a3-432b-ac30-7e5e36d8a4f6",
   "metadata": {
    "id": "6f10d6f2",
    "outputId": "02bf7892-078f-4fe1-c5ec-6300b9720ee5"
   },
   "outputs": [],
   "source": [
    "def sfs_score(X, y):\n",
    "    sk_sfs_selector = sk_SFS(\n",
    "    KNeighborsClassifier(n_neighbors=3), \n",
    "    direction='forward',\n",
    "    scoring='accuracy',\n",
    "    cv=10, \n",
    "    n_jobs=-1\n",
    "    ).fit(X, y)\n",
    "    sk_sfs_features = np.array(train_data.columns[:-1])[sk_sfs_selector.get_support()]\n",
    "    return sk_sfs_features\n",
    "\n",
    "\n",
    "# sfs_score(train_data.iloc[:,:-1], train_data['target'])\n",
    "# sfs_rank = FeatureRank(sfs_score, train_data.iloc[:,:-1], train_data['target'])\n",
    "# sfs_rank.feat_imp_plot('SFS Score - feature importance', sorting=True)\n"
   ]
  },
  {
   "cell_type": "markdown",
   "id": "e1dfc1cf-cba9-4e98-bcd4-57a9d75378a6",
   "metadata": {
    "id": "94f9da18"
   },
   "source": [
    "##### Diff library"
   ]
  },
  {
   "cell_type": "code",
   "execution_count": null,
   "id": "f82a103b-86ce-4e3e-b373-369f4956eff3",
   "metadata": {
    "id": "5d885f3a",
    "outputId": "3963e8cd-846c-4277-d6a8-068f169bc484"
   },
   "outputs": [],
   "source": [
    "def sfs_score(X, y):\n",
    "    mlx_sfs_selector = mlx_SFS(\n",
    "        DecisionTreeClassifier(), \n",
    "        k_features=X.shape[1],\n",
    "        forward=True,\n",
    "        floating=False,\n",
    "        scoring='accuracy',\n",
    "        cv=10,\n",
    "        n_jobs=-1,\n",
    "    ).fit(X, y)\n",
    "    # mlx_sfs_features = mlx_sfs_selector.k_feature_names_\n",
    "    mlx_sfs_scores = mlx_sfs_selector.get_metric_dict()\n",
    "    return mlx_sfs_scores\n",
    "\n",
    "# sfs_rank = FeatureRank(sfs_score, train_data.iloc[:,:-1], train_data['target'], train_data.columns[:-1])\n",
    "# sfs_rank.feat_imp_plot('SFS Score - feature importance', sorting=True)\n",
    "\n",
    "\n",
    "# fig1 = plot_sfs(mlx_sfs_selector.get_metric_dict(), kind='std_dev')\n",
    "# plt.title('Sequential Forward Selection (w. StdErr)')\n",
    "# plt.grid()\n",
    "# plt.show()"
   ]
  },
  {
   "cell_type": "markdown",
   "id": "2761ca67-1bb3-4d9e-9bfa-b32d86c124c0",
   "metadata": {},
   "source": [
    "#### Genetic Algorithm"
   ]
  },
  {
   "cell_type": "code",
   "execution_count": null,
   "id": "bcd6301a-8776-4c4c-83a5-06b28ae5a3e1",
   "metadata": {},
   "outputs": [],
   "source": [
    "genetic_model_selector = GeneticSelectionCV(\n",
    "    SVC(), cv=5, verbose=0,\n",
    "    scoring=\"precision\",\n",
    "    n_population=100, crossover_proba=0.5,\n",
    "    mutation_proba=0.2, n_generations=50,\n",
    "    crossover_independent_proba=0.5,\n",
    "    mutation_independent_proba=0.04,\n",
    "    tournament_size=3, n_gen_no_change=10,\n",
    "    caching=True, n_jobs=-1)\n",
    "    \n",
    "genetic_model_selector = genetic_model_selector.fit(train_data.iloc[:,:-1], train_data['target'])\n",
    "\n",
    "genetic_features = train_data.iloc[:,:-1].columns[genetic_model_selector.support_]"
   ]
  },
  {
   "cell_type": "code",
   "execution_count": null,
   "id": "98160add-3416-4a4d-a66a-81daddc441b2",
   "metadata": {},
   "outputs": [],
   "source": [
    "genetic_features"
   ]
  },
  {
   "cell_type": "markdown",
   "id": "0824b278-ffb9-49a5-9761-1d5b80a6204a",
   "metadata": {},
   "source": [
    "### Embedded methods"
   ]
  },
  {
   "cell_type": "markdown",
   "id": "76dab03e-9be1-43bd-b3d0-c4f68498d747",
   "metadata": {},
   "source": [
    "#### Tree-Based"
   ]
  },
  {
   "cell_type": "code",
   "execution_count": null,
   "id": "0657b99a-e74c-4277-b7c2-523e16eeb3c6",
   "metadata": {},
   "outputs": [],
   "source": [
    "def tree_based_score(X, y):\n",
    "    \"\"\"Calculate Tree-based score\"\"\"\n",
    "    dt_model_selector = DecisionTreeClassifier()\n",
    "    dt_model_selector.fit(X, y)\n",
    "    return dt_model_selector.feature_importances_\n",
    "\n",
    "tree_based_rank = FeatureRank(tree_based_score, train_data.iloc[:,:-1], train_data['target'])\n",
    "tree_based_rank.feat_imp_plot('Tree-Based - feature importance', sorting=True)"
   ]
  },
  {
   "cell_type": "markdown",
   "id": "a53030bd-47e4-4588-89e3-2f5ff69b8814",
   "metadata": {},
   "source": [
    "#### SVM (L1 regularization)"
   ]
  },
  {
   "cell_type": "code",
   "execution_count": null,
   "id": "b8bff402-2966-4bec-8df5-a118e0474f85",
   "metadata": {},
   "outputs": [],
   "source": [
    "def svm_score(X, y):\n",
    "    \"\"\"Calculate svm score\"\"\"\n",
    "    svm_model_selector = SVC(kernel='linear', decision_function_shape=\"ovo\", random_state=33)\n",
    "    svm_model_selector.fit(X, y)\n",
    "    print(svm_model_selector.coef_.shape)\n",
    "    return svm_model_selector.coef_.ravel()\n",
    "\n",
    "# svm_rank = FeatureRank(svm_score, train_data.iloc[:,:-1], train_data['target'])\n",
    "# svm_rank.feat_imp_plot('svm Score - feature importance', sorting=True)\n",
    "\n"
   ]
  },
  {
   "cell_type": "markdown",
   "id": "6b80edba-066b-42be-b22f-eafe69d2f3d9",
   "metadata": {},
   "source": [
    "#### Lasso (L1 regularization)"
   ]
  },
  {
   "cell_type": "code",
   "execution_count": null,
   "id": "3343815c-72d2-4cee-b791-242a109d89eb",
   "metadata": {},
   "outputs": [],
   "source": [
    "def lasso_score(X, y):\n",
    "    \"\"\"Calculate Lasso score\"\"\"\n",
    "    lasso_model_selector = Lasso(alpha=0.1)\n",
    "    lasso_model_selector.fit(X, y)\n",
    "    return lasso_model_selector.coef_\n",
    "\n",
    "lasso_rank = FeatureRank(lasso_score, train_data.iloc[:,:-1], train_data['target'])\n",
    "lasso_rank.feat_imp_plot('Lasso - feature importance', sorting=True)"
   ]
  },
  {
   "cell_type": "markdown",
   "id": "c1fed05a-0ad5-469d-9993-814376b510f8",
   "metadata": {},
   "source": [
    "#### Comparison"
   ]
  },
  {
   "cell_type": "code",
   "execution_count": null,
   "id": "3a2dce4d-02b7-41db-b229-1f0e58847640",
   "metadata": {},
   "outputs": [],
   "source": [
    "embedded_methods_comp = pd.DataFrame()\n",
    "embedded_methods_comp = pd.concat([embedded_methods_comp, tree_based_rank.test_result.res['Score']], axis=1)\n",
    "# embedded_methods_comp = pd.concat([embedded_methods_comp, svm_rank.test_result.res['Score']], axis=1)\n",
    "# embedded_methods_comp = pd.concat([embedded_methods_comp, lasso_rank.test_result.res['Score']], axis=1)\n",
    "embedded_methods_comp.index = index=train_data.columns[:-1]\n",
    "embedded_methods_comp.columns = ['tree_based']\n",
    "embedded_methods_comp.sort_values(by='tree_based', ascending=False)\n"
   ]
  },
  {
   "cell_type": "markdown",
   "id": "d05de011-a49b-4ad6-b924-2209993777b7",
   "metadata": {
    "id": "5eb9a8d3",
    "jp-MarkdownHeadingCollapsed": true,
    "tags": []
   },
   "source": [
    "## Important Features\n",
    "In comparison between graphs and statistical test, the conclusion about the most contribution features are:\n",
    "   - for categorical features:\n",
    "      1. **slope peak exercise ST segment** \n",
    "      2. **exercise induced angina** \n",
    "      3. **chest pain type**\n",
    "      4. **sex**\n",
    "   - for numerical features:\n",
    "      1. **max heart rate** \n",
    "      2. **age** \n",
    "      3. **ST depression**"
   ]
  },
  {
   "cell_type": "code",
   "execution_count": null,
   "id": "f6c1d296-cec7-49bd-944f-56cd570374e7",
   "metadata": {},
   "outputs": [],
   "source": [
    "filter_embedded_comp = pd.concat([embedded_methods_comp, filter_methods_comp], axis=1)\n",
    "\n",
    "# Save DataFrame in excel file\n",
    "filter_embedded_comp.to_excel('filter_embedded_comp.xlsx')\n",
    "filter_embedded_comp['Avg'] = filter_embedded_comp.sum(axis=1)\n",
    "\n",
    "# Normalize Avg column\n",
    "filter_embedded_comp['Avg'] = (filter_embedded_comp['Avg'] - filter_embedded_comp['Avg'].min()) / (filter_embedded_comp['Avg'].max() - filter_embedded_comp['Avg'].min()) \n",
    "filter_embedded_comp = filter_embedded_comp.sort_values('Avg', ascending=False)"
   ]
  },
  {
   "cell_type": "code",
   "execution_count": null,
   "id": "b0377a31-8345-4655-9370-5a4ee9d94589",
   "metadata": {},
   "outputs": [],
   "source": [
    "filter_embedded_comp"
   ]
  },
  {
   "cell_type": "code",
   "execution_count": null,
   "id": "1ee525f0-7c12-4e8f-8da7-84d5466ca9f4",
   "metadata": {},
   "outputs": [],
   "source": [
    "# Compare between filter method and embedded method performance\n",
    "filter_embedded_comp.sort_values(by='mutual_info', ascending=False).plot(kind='bar', figsize=(10,5))\n",
    "plt.title('Filter Method vs Embedded Method')\n",
    "plt.grid()\n",
    "\n"
   ]
  },
  {
   "cell_type": "code",
   "execution_count": null,
   "id": "f665818c-6888-407c-81fd-46332fbe3176",
   "metadata": {},
   "outputs": [],
   "source": [
    "\n",
    "ax = filter_embedded_comp['Avg'].plot.bar(width=0.8, figsize=(20,10), colormap='Paired')\n",
    "\n",
    "ax.bar_label(ax.containers[0])\n",
    "\n",
    "plt.title('Filter Embedded Comparison - Avg')\n",
    "plt.grid()"
   ]
  },
  {
   "cell_type": "markdown",
   "id": "fdb05091-ecbc-4c16-b701-8579be875cd3",
   "metadata": {},
   "source": [
    "## Selected Features"
   ]
  },
  {
   "cell_type": "code",
   "execution_count": null,
   "id": "82df602e-a0f8-4363-90a6-681fc322c24e",
   "metadata": {
    "id": "fa0bed87",
    "tags": []
   },
   "outputs": [],
   "source": [
    "\n",
    "# gg = mi_rank.get_largest_score(n=9) + ['target']\n",
    "gg = filter_embedded_comp.nlargest(9, 'Avg').index.to_list() + ['target']\n",
    "selected_train_data = train_data[gg] \n",
    "selected_test_data = test_data[gg] \n",
    "\n",
    "# selected_train_data = train_data[genetic_features.tolist() + ['target']] \n",
    "# selected_test_data = test_data[genetic_features.tolist() + ['target']] "
   ]
  },
  {
   "cell_type": "code",
   "execution_count": null,
   "id": "9c540d8c-aa24-4a90-98f0-51b3690a8c91",
   "metadata": {},
   "outputs": [],
   "source": []
  },
  {
   "cell_type": "markdown",
   "id": "9029f488-6b4a-4d6f-8df9-3d9cd5bc8ed3",
   "metadata": {
    "id": "2c5d5ae4",
    "tags": []
   },
   "source": [
    "# Scaling\n",
    "Normalizing features helps to increase model's accuracy"
   ]
  },
  {
   "cell_type": "code",
   "execution_count": 130,
   "id": "010b742d-d704-4a11-9c5d-0de5804f18f5",
   "metadata": {
    "id": "d22a8bf7"
   },
   "outputs": [],
   "source": [
    "scaled_train_data = selected_train_data.copy()\n",
    "scaled_test_data = selected_test_data.copy()\n",
    "\n",
    "norm_scaler = MinMaxScaler()\n",
    "scaled_train_data[selected_train_data.columns[:-1]] = norm_scaler.fit_transform(scaled_train_data[selected_train_data.columns[:-1]])\n",
    "scaled_test_data[selected_train_data.columns[:-1]] = norm_scaler.transform(scaled_test_data[selected_train_data.columns[:-1]])\n"
   ]
  }
 ],
 "metadata": {
  "kernelspec": {
   "display_name": "Python 3 (ipykernel)",
   "language": "python",
   "name": "python3"
  },
  "language_info": {
   "codemirror_mode": {
    "name": "ipython",
    "version": 3
   },
   "file_extension": ".py",
   "mimetype": "text/x-python",
   "name": "python",
   "nbconvert_exporter": "python",
   "pygments_lexer": "ipython3",
   "version": "3.9.12"
  },
  "toc-autonumbering": true,
  "vscode": {
   "interpreter": {
    "hash": "dafb1f7618ea635952683f9de1ec2ad0605097bc28573cb02814b9f97cdb4857"
   }
  },
  "widgets": {
   "application/vnd.jupyter.widget-state+json": {
    "state": {},
    "version_major": 2,
    "version_minor": 0
   }
  }
 },
 "nbformat": 4,
 "nbformat_minor": 5
}
