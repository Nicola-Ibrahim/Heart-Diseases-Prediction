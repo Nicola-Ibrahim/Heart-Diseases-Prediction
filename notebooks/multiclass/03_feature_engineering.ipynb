{
 "cells": [
  {
   "attachments": {},
   "cell_type": "markdown",
   "id": "b9cad826-30f4-40cd-8a96-dde4319ff6fd",
   "metadata": {},
   "source": [
    "# Personal view\n",
    "\n",
    "The most common feature that help in detection of heart desease are:\n",
    "\n",
    "- **chest pain type:**\n",
    "\n",
    "It is not a good **indicator** to show CAD diseases becasue of in the different syptoms, the majority of its values tend to give **no disease**\n",
    "\n",
    "![chest pain type-count_plot.jpg](attachment:e93895e5-5eb5-4ac4-84da-fd0a88c5f179.jpg)\n",
    "\n",
    "- **exercise induced angina**\n",
    "\n",
    "It is a good **indicator** to show CAD diseases becasue the **No** value gives bigger priority for no CAD diseases\n",
    "\n",
    "![exercise induced angina-count_plot.jpg](attachment:99b9579c-6696-4935-8414-e819fd42d893.jpg)\n",
    "\n",
    "\n",
    "- **the slop of ST segment**\n",
    "\n",
    "It is a good **indicator** to show CAD diseases becasue there its values help in distinguishing if there is CAD diseases.\n",
    "\n",
    "![slope peak exercise ST segment-count_plot.jpg](attachment:966df1dc-b2cb-40b8-a763-0317036a6ad7.jpg)\n",
    "![download.png](attachment:76589c46-b978-4f07-891a-8c56f7f0e131.png)\n",
    "\n",
    "- **thallium stress result:** \n",
    "\n",
    "the flow of blood to your heart through your coronary arteries, An abnormal test result can reveal coronary blockages as well as damage from heart attacks\n",
    "\n",
    "It is a good **indicator**\n",
    "\n",
    "![thallium stress result-count_plot.jpg](attachment:8e68998b-05a6-4dc2-bd1c-f6dca054b5f1.jpg)\n",
    "\n",
    "\n",
    "- **max heart rate** \n",
    "- **age** \n",
    "- **ST depression**"
   ]
  }
 ],
 "metadata": {
  "kernelspec": {
   "display_name": "Python 3 (ipykernel)",
   "language": "python",
   "name": "python3"
  },
  "language_info": {
   "codemirror_mode": {
    "name": "ipython",
    "version": 3
   },
   "file_extension": ".py",
   "mimetype": "text/x-python",
   "name": "python",
   "nbconvert_exporter": "python",
   "pygments_lexer": "ipython3",
   "version": "3.9.12"
  },
  "vscode": {
   "interpreter": {
    "hash": "dafb1f7618ea635952683f9de1ec2ad0605097bc28573cb02814b9f97cdb4857"
   }
  }
 },
 "nbformat": 4,
 "nbformat_minor": 5
}
