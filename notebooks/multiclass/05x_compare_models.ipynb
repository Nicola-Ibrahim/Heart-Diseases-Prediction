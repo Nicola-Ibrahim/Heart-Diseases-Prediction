{
 "cells": [
  {
   "cell_type": "code",
   "execution_count": 4,
   "metadata": {},
   "outputs": [],
   "source": [
    "PROC_TRAIN_DATA_PATH = \"../../data/processed/preprocessed_train_data.pkl\"\n",
    "CLEANED_TEST_DATA_PATH = \"../../data/interim/cleaned_test_data.pkl\"\n"
   ]
  },
  {
   "cell_type": "code",
   "execution_count": 20,
   "metadata": {},
   "outputs": [],
   "source": [
    "import pandas as pd\n",
    "from dataclasses import dataclass\n",
    "\n",
    "from sklearn.base import BaseEstimator, ClassifierMixin\n",
    "from sklearn.ensemble import (\n",
    "    GradientBoostingClassifier,\n",
    "    RandomForestClassifier,\n",
    "    VotingClassifier,\n",
    ")\n",
    "from sklearn.neighbors import KNeighborsClassifier\n",
    "from sklearn.feature_selection import SelectFromModel\n",
    "from sklearn.tree import DecisionTreeClassifier\n",
    "from sklearn.metrics import (\n",
    "    confusion_matrix,\n",
    "    classification_report,\n",
    "    ConfusionMatrixDisplay,\n",
    ")\n",
    "\n",
    "from imblearn.over_sampling import RandomOverSampler\n",
    "from imblearn.pipeline import Pipeline\n",
    "\n"
   ]
  },
  {
   "attachments": {},
   "cell_type": "markdown",
   "metadata": {},
   "source": [
    "# Read Data\n"
   ]
  },
  {
   "cell_type": "code",
   "execution_count": 6,
   "metadata": {},
   "outputs": [],
   "source": [
    "df_train = pd.read_pickle(PROC_TRAIN_DATA_PATH)\n",
    "df_test = pd.read_pickle(CLEANED_TEST_DATA_PATH)\n",
    "X_train, y_train = df_train.iloc[:, :-1], df_train[\"target\"]\n",
    "X_test, y_test = df_test.iloc[:, :-1], df_test[\"target\"]\n"
   ]
  },
  {
   "attachments": {},
   "cell_type": "markdown",
   "metadata": {},
   "source": [
    "## Voting\n"
   ]
  },
  {
   "cell_type": "code",
   "execution_count": null,
   "metadata": {},
   "outputs": [],
   "source": [
    "@dataclass\n",
    "class ModelData:\n",
    "    X_train: pd.DataFrame\n",
    "    y_train: pd.DataFrame\n",
    "    X_test: pd.DataFrame\n",
    "    y_test: pd.DataFrame\n",
    "\n",
    "\n",
    "model_data = ModelData(X_train, y_train, X_test, y_test)\n",
    "\n",
    "print(\"Train set:  \", X_train.shape, y_train.shape)\n",
    "print(\"Test set:   \", X_test.shape, y_test.shape)\n"
   ]
  },
  {
   "cell_type": "code",
   "execution_count": null,
   "metadata": {},
   "outputs": [],
   "source": [
    "class Report:\n",
    "    def __init__(self, estimator: BaseEstimator, model_data: ModelData):\n",
    "        self.estimator = estimator\n",
    "        self.model_data = model_data\n",
    "\n",
    "    def calc_cross_val(self):\n",
    "        acc = cross_val_score(\n",
    "            self.estimator,\n",
    "            self.model_data.X_train,\n",
    "            self.model_data.y_train,\n",
    "            cv=10,\n",
    "            scoring=\"accuracy\",\n",
    "        ).mean()\n",
    "        print(\"Cross Validation Score (mean):  {:3.4%}\".format(acc))\n",
    "\n",
    "    def calc_acc_val(self):\n",
    "        print(\n",
    "            \"Train accuracy Score:  {:3.4%}\".format(\n",
    "                self.estimator.score(self.model_data.X_train, self.model_data.y_train)\n",
    "            )\n",
    "        )\n",
    "        print(\n",
    "            \"Test accuracy Score:  {:3.4%}\".format(\n",
    "                self.estimator.score(self.model_data.X_test, self.model_data.y_test)\n",
    "            )\n",
    "        )\n",
    "\n",
    "    def confusion_mat(self):\n",
    "        print(\n",
    "            classification_report(\n",
    "                self.model_data.y_test, self.estimator.predict(self.model_data.X_test)\n",
    "            )\n",
    "        )\n",
    "\n",
    "        _, axs = plt.subplots(nrows=1, ncols=2, figsize=(8, 8))\n",
    "        plot_confusion_matrix(\n",
    "            self.estimator,\n",
    "            self.model_data.X_test,\n",
    "            self.model_data.y_test,\n",
    "            ax=axs[0],\n",
    "            cmap=\"Reds\",\n",
    "        )\n",
    "        plot_confusion_matrix(\n",
    "            self.estimator,\n",
    "            self.model_data.X_train,\n",
    "            self.model_data.y_train,\n",
    "            ax=axs[1],\n",
    "            cmap=\"Reds\",\n",
    "        )\n",
    "        axs[0].set_title(\"Test\")\n",
    "        axs[1].set_title(\"Train\")\n",
    "\n",
    "    def roc_curve(self):\n",
    "        try:\n",
    "            _, axs = plt.subplots(nrows=1, ncols=2, figsize=(15, 8))\n",
    "            plot_roc_curve(\n",
    "                self.estimator,\n",
    "                self.model_data.X_train,\n",
    "                self.model_data.y_train,\n",
    "                ax=axs[0],\n",
    "                color=\"r\",\n",
    "            )\n",
    "            axs[0].plot([0, 1], [0, 1], linestyle=\"--\")\n",
    "            axs[0].set_xlabel(\"False Positive Rate\")\n",
    "            axs[0].set_ylabel(\"True Positive Rate\")\n",
    "            axs[0].set_title(\"Train\")\n",
    "            plot_roc_curve(\n",
    "                self.estimator,\n",
    "                self.model_data.X_test,\n",
    "                self.model_data.y_test,\n",
    "                ax=axs[1],\n",
    "                color=\"r\",\n",
    "            )\n",
    "            axs[1].plot([0, 1], [0, 1], linestyle=\"--\")\n",
    "            axs[1].set_xlabel(\"False Positive Rate\")\n",
    "            axs[1].set_ylabel(\"True Positive Rate\")\n",
    "            axs[1].set_title(\"Test\")\n",
    "\n",
    "        except ValueError as e:\n",
    "            print(\"The ROC curve is not supported\")\n",
    "\n",
    "    def get_report(self):\n",
    "        self.calc_cross_val()\n",
    "        self.calc_acc_val()\n",
    "        self.confusion_mat()\n",
    "        self.roc_curve()\n"
   ]
  },
  {
   "cell_type": "code",
   "execution_count": 17,
   "metadata": {},
   "outputs": [],
   "source": [
    "class VotingClassifierModel(BaseEstimator, ClassifierMixin):\n",
    "    def __init__(\n",
    "        self,\n",
    "    ):\n",
    "        params = {\n",
    "            \"Random Forest\": {\n",
    "                \"max_depth\": 12,\n",
    "                \"max_features\": 1,\n",
    "                \"n_estimators\": 80,\n",
    "            },\n",
    "            \"Gradient Boosting\": {\n",
    "                \"learning_rate\": 0.5,\n",
    "                \"max_depth\": 3,\n",
    "                \"min_samples_leaf\": 10,\n",
    "                \"random_state\": 0,\n",
    "            },\n",
    "        }\n",
    "\n",
    "        clfs = [\n",
    "            (\"Random Forest\", RandomForestClassifier(**params[\"Random Forest\"])),\n",
    "            (\"XGB2\", GradientBoostingClassifier(**params[\"Gradient Boosting\"])),\n",
    "            (\"Knn\", KNeighborsClassifier()),\n",
    "        ]\n",
    "\n",
    "        self.model = VotingClassifier(clfs, n_jobs=-1)\n",
    "\n",
    "    def fit(self, X, y):\n",
    "        self.model.fit(X, y)\n",
    "\n",
    "    def predict(self, X, y=None):\n",
    "        return self.model.predict(X)\n",
    "\n",
    "    # def get_report(self, model_data: ModelData):\n",
    "    #     report: Report = Report(self.model, model_data)\n",
    "    #     return report.get_report()\n"
   ]
  },
  {
   "cell_type": "code",
   "execution_count": 18,
   "metadata": {},
   "outputs": [
    {
     "data": {
      "text/html": [
       "<style>#sk-container-id-1 {color: black;background-color: white;}#sk-container-id-1 pre{padding: 0;}#sk-container-id-1 div.sk-toggleable {background-color: white;}#sk-container-id-1 label.sk-toggleable__label {cursor: pointer;display: block;width: 100%;margin-bottom: 0;padding: 0.3em;box-sizing: border-box;text-align: center;}#sk-container-id-1 label.sk-toggleable__label-arrow:before {content: \"▸\";float: left;margin-right: 0.25em;color: #696969;}#sk-container-id-1 label.sk-toggleable__label-arrow:hover:before {color: black;}#sk-container-id-1 div.sk-estimator:hover label.sk-toggleable__label-arrow:before {color: black;}#sk-container-id-1 div.sk-toggleable__content {max-height: 0;max-width: 0;overflow: hidden;text-align: left;background-color: #f0f8ff;}#sk-container-id-1 div.sk-toggleable__content pre {margin: 0.2em;color: black;border-radius: 0.25em;background-color: #f0f8ff;}#sk-container-id-1 input.sk-toggleable__control:checked~div.sk-toggleable__content {max-height: 200px;max-width: 100%;overflow: auto;}#sk-container-id-1 input.sk-toggleable__control:checked~label.sk-toggleable__label-arrow:before {content: \"▾\";}#sk-container-id-1 div.sk-estimator input.sk-toggleable__control:checked~label.sk-toggleable__label {background-color: #d4ebff;}#sk-container-id-1 div.sk-label input.sk-toggleable__control:checked~label.sk-toggleable__label {background-color: #d4ebff;}#sk-container-id-1 input.sk-hidden--visually {border: 0;clip: rect(1px 1px 1px 1px);clip: rect(1px, 1px, 1px, 1px);height: 1px;margin: -1px;overflow: hidden;padding: 0;position: absolute;width: 1px;}#sk-container-id-1 div.sk-estimator {font-family: monospace;background-color: #f0f8ff;border: 1px dotted black;border-radius: 0.25em;box-sizing: border-box;margin-bottom: 0.5em;}#sk-container-id-1 div.sk-estimator:hover {background-color: #d4ebff;}#sk-container-id-1 div.sk-parallel-item::after {content: \"\";width: 100%;border-bottom: 1px solid gray;flex-grow: 1;}#sk-container-id-1 div.sk-label:hover label.sk-toggleable__label {background-color: #d4ebff;}#sk-container-id-1 div.sk-serial::before {content: \"\";position: absolute;border-left: 1px solid gray;box-sizing: border-box;top: 0;bottom: 0;left: 50%;z-index: 0;}#sk-container-id-1 div.sk-serial {display: flex;flex-direction: column;align-items: center;background-color: white;padding-right: 0.2em;padding-left: 0.2em;position: relative;}#sk-container-id-1 div.sk-item {position: relative;z-index: 1;}#sk-container-id-1 div.sk-parallel {display: flex;align-items: stretch;justify-content: center;background-color: white;position: relative;}#sk-container-id-1 div.sk-item::before, #sk-container-id-1 div.sk-parallel-item::before {content: \"\";position: absolute;border-left: 1px solid gray;box-sizing: border-box;top: 0;bottom: 0;left: 50%;z-index: -1;}#sk-container-id-1 div.sk-parallel-item {display: flex;flex-direction: column;z-index: 1;position: relative;background-color: white;}#sk-container-id-1 div.sk-parallel-item:first-child::after {align-self: flex-end;width: 50%;}#sk-container-id-1 div.sk-parallel-item:last-child::after {align-self: flex-start;width: 50%;}#sk-container-id-1 div.sk-parallel-item:only-child::after {width: 0;}#sk-container-id-1 div.sk-dashed-wrapped {border: 1px dashed gray;margin: 0 0.4em 0.5em 0.4em;box-sizing: border-box;padding-bottom: 0.4em;background-color: white;}#sk-container-id-1 div.sk-label label {font-family: monospace;font-weight: bold;display: inline-block;line-height: 1.2em;}#sk-container-id-1 div.sk-label-container {text-align: center;}#sk-container-id-1 div.sk-container {/* jupyter's `normalize.less` sets `[hidden] { display: none; }` but bootstrap.min.css set `[hidden] { display: none !important; }` so we also need the `!important` here to be able to override the default hidden behavior on the sphinx rendered scikit-learn.org. See: https://github.com/scikit-learn/scikit-learn/issues/21755 */display: inline-block !important;position: relative;}#sk-container-id-1 div.sk-text-repr-fallback {display: none;}</style><div id=\"sk-container-id-1\" class=\"sk-top-container\"><div class=\"sk-text-repr-fallback\"><pre>Pipeline(steps=[(&#x27;reduce_dim&#x27;,\n",
       "                 SelectFromModel(estimator=DecisionTreeClassifier())),\n",
       "                (&#x27;ros_resambling&#x27;, RandomOverSampler()),\n",
       "                (&#x27;estimator&#x27;, VotingClassifierModel())])</pre><b>In a Jupyter environment, please rerun this cell to show the HTML representation or trust the notebook. <br />On GitHub, the HTML representation is unable to render, please try loading this page with nbviewer.org.</b></div><div class=\"sk-container\" hidden><div class=\"sk-item sk-dashed-wrapped\"><div class=\"sk-label-container\"><div class=\"sk-label sk-toggleable\"><input class=\"sk-toggleable__control sk-hidden--visually\" id=\"sk-estimator-id-1\" type=\"checkbox\" ><label for=\"sk-estimator-id-1\" class=\"sk-toggleable__label sk-toggleable__label-arrow\">Pipeline</label><div class=\"sk-toggleable__content\"><pre>Pipeline(steps=[(&#x27;reduce_dim&#x27;,\n",
       "                 SelectFromModel(estimator=DecisionTreeClassifier())),\n",
       "                (&#x27;ros_resambling&#x27;, RandomOverSampler()),\n",
       "                (&#x27;estimator&#x27;, VotingClassifierModel())])</pre></div></div></div><div class=\"sk-serial\"><div class=\"sk-item sk-dashed-wrapped\"><div class=\"sk-label-container\"><div class=\"sk-label sk-toggleable\"><input class=\"sk-toggleable__control sk-hidden--visually\" id=\"sk-estimator-id-2\" type=\"checkbox\" ><label for=\"sk-estimator-id-2\" class=\"sk-toggleable__label sk-toggleable__label-arrow\">reduce_dim: SelectFromModel</label><div class=\"sk-toggleable__content\"><pre>SelectFromModel(estimator=DecisionTreeClassifier())</pre></div></div></div><div class=\"sk-parallel\"><div class=\"sk-parallel-item\"><div class=\"sk-item\"><div class=\"sk-label-container\"><div class=\"sk-label sk-toggleable\"><input class=\"sk-toggleable__control sk-hidden--visually\" id=\"sk-estimator-id-3\" type=\"checkbox\" ><label for=\"sk-estimator-id-3\" class=\"sk-toggleable__label sk-toggleable__label-arrow\">estimator: DecisionTreeClassifier</label><div class=\"sk-toggleable__content\"><pre>DecisionTreeClassifier()</pre></div></div></div><div class=\"sk-serial\"><div class=\"sk-item\"><div class=\"sk-estimator sk-toggleable\"><input class=\"sk-toggleable__control sk-hidden--visually\" id=\"sk-estimator-id-4\" type=\"checkbox\" ><label for=\"sk-estimator-id-4\" class=\"sk-toggleable__label sk-toggleable__label-arrow\">DecisionTreeClassifier</label><div class=\"sk-toggleable__content\"><pre>DecisionTreeClassifier()</pre></div></div></div></div></div></div></div></div><div class=\"sk-item\"><div class=\"sk-estimator sk-toggleable\"><input class=\"sk-toggleable__control sk-hidden--visually\" id=\"sk-estimator-id-5\" type=\"checkbox\" ><label for=\"sk-estimator-id-5\" class=\"sk-toggleable__label sk-toggleable__label-arrow\">RandomOverSampler</label><div class=\"sk-toggleable__content\"><pre>RandomOverSampler()</pre></div></div></div><div class=\"sk-item\"><div class=\"sk-estimator sk-toggleable\"><input class=\"sk-toggleable__control sk-hidden--visually\" id=\"sk-estimator-id-6\" type=\"checkbox\" ><label for=\"sk-estimator-id-6\" class=\"sk-toggleable__label sk-toggleable__label-arrow\">VotingClassifierModel</label><div class=\"sk-toggleable__content\"><pre>VotingClassifierModel()</pre></div></div></div></div></div></div></div>"
      ],
      "text/plain": [
       "Pipeline(steps=[('reduce_dim',\n",
       "                 SelectFromModel(estimator=DecisionTreeClassifier())),\n",
       "                ('ros_resambling', RandomOverSampler()),\n",
       "                ('estimator', VotingClassifierModel())])"
      ]
     },
     "execution_count": 18,
     "metadata": {},
     "output_type": "execute_result"
    }
   ],
   "source": [
    "pipe = Pipeline(\n",
    "    [\n",
    "        (\n",
    "            \"reduce_dim\",\n",
    "            SelectFromModel(DecisionTreeClassifier(criterion=\"gini\")),\n",
    "        ),  # the reduce_dim stage is populated by the param_grid\n",
    "        (\"ros_resambling\", RandomOverSampler()),\n",
    "        # (\"smote_resampling\", SMOTE(random_state=42)),\n",
    "        (\"estimator\", VotingClassifierModel()),\n",
    "    ]\n",
    ")\n",
    "\n",
    "\n",
    "# ensemble_model = VotingClassifierModel()\n",
    "# ensemble_model.fit(X_train, y_train)\n",
    "# ensemble_model.get_report(model_data)\n",
    "\n",
    "pipe.fit(X_train, y_train)\n"
   ]
  },
  {
   "cell_type": "code",
   "execution_count": 21,
   "metadata": {},
   "outputs": [
    {
     "name": "stdout",
     "output_type": "stream",
     "text": [
      "              precision    recall  f1-score   support\n",
      "\n",
      "           0       0.65      0.76      0.70        17\n",
      "           1       0.00      0.00      0.00         6\n",
      "           2       0.50      0.25      0.33         4\n",
      "           3       0.00      0.00      0.00         3\n",
      "           4       0.00      0.00      0.00         1\n",
      "\n",
      "    accuracy                           0.45        31\n",
      "   macro avg       0.23      0.20      0.21        31\n",
      "weighted avg       0.42      0.45      0.43        31\n",
      "\n"
     ]
    }
   ],
   "source": [
    "\n",
    "y_pred = pipe.predict(X_test)\n",
    "\n",
    "print(classification_report(y_test, y_pred))\n",
    "\n"
   ]
  },
  {
   "cell_type": "code",
   "execution_count": 22,
   "metadata": {},
   "outputs": [
    {
     "data": {
      "text/plain": [
       "<sklearn.metrics._plot.confusion_matrix.ConfusionMatrixDisplay at 0x21c141fc340>"
      ]
     },
     "execution_count": 22,
     "metadata": {},
     "output_type": "execute_result"
    },
    {
     "data": {
      "image/png": "[encoded data removed]",
      "text/plain": [
       "<Figure size 640x480 with 2 Axes>"
      ]
     },
     "metadata": {},
     "output_type": "display_data"
    }
   ],
   "source": [
    "\n",
    "cm = confusion_matrix(y_test, y_pred)\n",
    "disp = ConfusionMatrixDisplay(cm)\n",
    "disp.plot()\n"
   ]
  }
 ],
 "metadata": {
  "kernelspec": {
   "display_name": "Python 3 (ipykernel)",
   "language": "python",
   "name": "python3"
  },
  "language_info": {
   "codemirror_mode": {
    "name": "ipython",
    "version": 3
   },
   "file_extension": ".py",
   "mimetype": "text/x-python",
   "name": "python",
   "nbconvert_exporter": "python",
   "pygments_lexer": "ipython3",
   "version": "3.9.13"
  },
  "vscode": {
   "interpreter": {
    "hash": "dafb1f7618ea635952683f9de1ec2ad0605097bc28573cb02814b9f97cdb4857"
   }
  }
 },
 "nbformat": 4,
 "nbformat_minor": 4
}
