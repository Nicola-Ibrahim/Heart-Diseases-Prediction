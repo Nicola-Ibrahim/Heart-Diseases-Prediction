{
 "cells": [
  {
   "cell_type": "code",
   "execution_count": 13,
   "metadata": {
    "tags": []
   },
   "outputs": [],
   "source": [
    "TRAIN_DATA_PATH = \"../../data/interim/train_data.pkl\""
   ]
  },
  {
   "cell_type": "markdown",
   "metadata": {},
   "source": [
    "# Import packages"
   ]
  },
  {
   "cell_type": "code",
   "execution_count": 14,
   "metadata": {
    "tags": []
   },
   "outputs": [],
   "source": [
    "import pandas as pd\n",
    "from sklearn.model_selection import train_test_split\n",
    "\n",
    "import warnings\n",
    "warnings.filterwarnings('ignore')\n"
   ]
  },
  {
   "cell_type": "code",
   "execution_count": 15,
   "metadata": {
    "tags": []
   },
   "outputs": [],
   "source": [
    "# Change some pandas display options\n",
    "pd.set_option('display.max_rows', 10000)\n",
    "pd.set_option('display.max_columns', 500)\n",
    "pd.set_option('display.max_colwidth', 0)\n",
    "pd.set_option('display.width', 1000)\n",
    "pd.set_option(\"styler.format.precision\", 10)"
   ]
  },
  {
   "cell_type": "markdown",
   "metadata": {},
   "source": [
    "# Functions"
   ]
  },
  {
   "cell_type": "code",
   "execution_count": 16,
   "metadata": {
    "tags": []
   },
   "outputs": [],
   "source": [
    "# Get the values count for each feature in the DataFrame\n",
    "def get_values_count(data: pd.DataFrame, cols: list) -> None:\n",
    "    \"\"\"Calculate the values count for each feature in the DataFrame\n",
    "\n",
    "    Args:\n",
    "        data (pd.DataFrame): the data to get count from\n",
    "        cols (list): list of features\n",
    "    \"\"\"\n",
    "    \n",
    "    for col in cols:\n",
    "        print(f\"{col} :{data[col].value_counts(dropna=False).to_dict()}\")\n",
    "\n",
    "\n",
    "def get_unique_values(data: pd.DataFrame) -> pd.DataFrame:\n",
    "    \"\"\"Get unique values in each feature\n",
    "\n",
    "    Args:\n",
    "        data (pd.DataFrame): the data to get uniques from\n",
    "\n",
    "    Returns:\n",
    "        pd.DataFrame : return a df contains unique values for each feature\n",
    "    \"\"\"\n",
    "    uniques = pd.DataFrame(data={\"feature\": [], \"uniques\": []})\n",
    "\n",
    "    for col in data.columns:\n",
    "        unique_values = data[col].unique()\n",
    "        if len(unique_values) > 1000:\n",
    "            continue\n",
    "\n",
    "        uniques.loc[len(uniques)] = [col, unique_values]\n",
    "\n",
    "    uniques.index = uniques[\"feature\"]\n",
    "    uniques.drop(columns=\"feature\", inplace=True)\n",
    "    return uniques\n",
    "\n",
    "\n",
    "def get_strange_values(data: pd.DataFrame) -> pd.DataFrame:\n",
    "    \"\"\"Get strange values in each feature\n",
    "\n",
    "    Args:\n",
    "        data (pd.DataFrame): _description_\n",
    "\n",
    "    Returns:\n",
    "        pd.DataFrame: return a df contains strange values for each feature\n",
    "    \"\"\"\n",
    "\n",
    "    data_copy = data.copy()\n",
    "    uniques = pd.DataFrame(data={\"feature\": [], \"indices-values\": []})\n",
    "\n",
    "    for col in data_copy.columns:\n",
    "\n",
    "        data_copy[col] = data_copy[col].astype(str)\n",
    "\n",
    "        # The pattern for checking the presence of strange values\n",
    "        pattern = r\"([+-]?([0-9]+([.][0-9]*)?|[.][0-9]+)|[a-zA-Z]+)\"\n",
    "\n",
    "        # Get mask matrix that refers to strange values ([~]: for not contain)\n",
    "        strange_values_mask = ~data_copy[col].str.contains(\n",
    "            pat=pattern, na=True, regex=True, case=False\n",
    "        )\n",
    "\n",
    "        strange_values_ind = data_copy[strange_values_mask].index.to_list()\n",
    "\n",
    "        if not strange_values_ind:\n",
    "            continue\n",
    "\n",
    "        # dictionary = {\n",
    "        #     col : {ind:list(data_copy.loc[ind,col]) for ind in strange_values_ind}\n",
    "        # }\n",
    "\n",
    "        # reform = {(outerKey, innerKey): values for outerKey, innerDict in dictionary.items() for innerKey, values in innerDict.items()}\n",
    "        # reform = pd.DataFrame.from_dict(reform, orient='index').transpose()\n",
    "\n",
    "        uniques.loc[len(uniques)] = [\n",
    "            col,\n",
    "            [(ind, data_copy.loc[ind, col]) for ind in strange_values_ind],\n",
    "        ]\n",
    "        \n",
    "\n",
    "    uniques.set_index(keys=[\"feature\"], inplace=True)\n",
    "\n",
    "    return uniques\n",
    "\n"
   ]
  },
  {
   "cell_type": "markdown",
   "metadata": {},
   "source": [
    "# Data Acquisition"
   ]
  },
  {
   "cell_type": "code",
   "execution_count": 17,
   "metadata": {
    "tags": []
   },
   "outputs": [],
   "source": [
    "# Read data\n",
    "df_train = pd.read_pickle(TRAIN_DATA_PATH)"
   ]
  },
  {
   "cell_type": "code",
   "execution_count": 18,
   "metadata": {
    "tags": []
   },
   "outputs": [
    {
     "name": "stdout",
     "output_type": "stream",
     "text": [
      "Num of rows: 271\n",
      "Num of features: 14\n"
     ]
    }
   ],
   "source": [
    "# Display raw train data shape\n",
    "print(f\"Num of rows: {df_train.shape[0]}\")\n",
    "print(f\"Num of features: {df_train.shape[1]}\")"
   ]
  },
  {
   "cell_type": "code",
   "execution_count": 19,
   "metadata": {
    "tags": []
   },
   "outputs": [
    {
     "data": {
      "text/html": [
       "<div>\n",
       "<style scoped>\n",
       "    .dataframe tbody tr th:only-of-type {\n",
       "        vertical-align: middle;\n",
       "    }\n",
       "\n",
       "    .dataframe tbody tr th {\n",
       "        vertical-align: top;\n",
       "    }\n",
       "\n",
       "    .dataframe thead th {\n",
       "        text-align: right;\n",
       "    }\n",
       "</style>\n",
       "<table border=\"1\" class=\"dataframe\">\n",
       "  <thead>\n",
       "    <tr style=\"text-align: right;\">\n",
       "      <th></th>\n",
       "      <th>age</th>\n",
       "      <th>sex</th>\n",
       "      <th>chest pain type</th>\n",
       "      <th>resting blood pressure</th>\n",
       "      <th>serum cholestoral</th>\n",
       "      <th>fasting blood sugar</th>\n",
       "      <th>resting electrocardiographic</th>\n",
       "      <th>maximum heart rate</th>\n",
       "      <th>exercise induced angina</th>\n",
       "      <th>ST depression</th>\n",
       "      <th>slope peak exercise ST segment</th>\n",
       "      <th>number of major vessels</th>\n",
       "      <th>thallium stress result</th>\n",
       "      <th>target</th>\n",
       "    </tr>\n",
       "  </thead>\n",
       "  <tbody>\n",
       "    <tr>\n",
       "      <th>155</th>\n",
       "      <td>51.0</td>\n",
       "      <td>1.0</td>\n",
       "      <td>4.0</td>\n",
       "      <td>140.0</td>\n",
       "      <td>299.0</td>\n",
       "      <td>0.0</td>\n",
       "      <td>0.0</td>\n",
       "      <td>173.0</td>\n",
       "      <td>1.0</td>\n",
       "      <td>1.6</td>\n",
       "      <td>1.0</td>\n",
       "      <td>0.0</td>\n",
       "      <td>7.0</td>\n",
       "      <td>1</td>\n",
       "    </tr>\n",
       "    <tr>\n",
       "      <th>10</th>\n",
       "      <td>56.0</td>\n",
       "      <td>0.0</td>\n",
       "      <td>2.0</td>\n",
       "      <td>140.0</td>\n",
       "      <td>294.0</td>\n",
       "      <td>0.0</td>\n",
       "      <td>2.0</td>\n",
       "      <td>153.0</td>\n",
       "      <td>0.0</td>\n",
       "      <td>1.3</td>\n",
       "      <td>2.0</td>\n",
       "      <td>0.0</td>\n",
       "      <td>3.0</td>\n",
       "      <td>0</td>\n",
       "    </tr>\n",
       "    <tr>\n",
       "      <th>53</th>\n",
       "      <td>60.0</td>\n",
       "      <td>1.0</td>\n",
       "      <td>4.0</td>\n",
       "      <td>130.0</td>\n",
       "      <td>253.0</td>\n",
       "      <td>0.0</td>\n",
       "      <td>0.0</td>\n",
       "      <td>144.0</td>\n",
       "      <td>1.0</td>\n",
       "      <td>1.4</td>\n",
       "      <td>1.0</td>\n",
       "      <td>1.0</td>\n",
       "      <td>7.0</td>\n",
       "      <td>1</td>\n",
       "    </tr>\n",
       "    <tr>\n",
       "      <th>122</th>\n",
       "      <td>55.0</td>\n",
       "      <td>1.0</td>\n",
       "      <td>4.0</td>\n",
       "      <td>140.0</td>\n",
       "      <td>217.0</td>\n",
       "      <td>0.0</td>\n",
       "      <td>0.0</td>\n",
       "      <td>111.0</td>\n",
       "      <td>1.0</td>\n",
       "      <td>5.6</td>\n",
       "      <td>3.0</td>\n",
       "      <td>0.0</td>\n",
       "      <td>7.0</td>\n",
       "      <td>3</td>\n",
       "    </tr>\n",
       "    <tr>\n",
       "      <th>208</th>\n",
       "      <td>62.0</td>\n",
       "      <td>0.0</td>\n",
       "      <td>4.0</td>\n",
       "      <td>150.0</td>\n",
       "      <td>244.0</td>\n",
       "      <td>0.0</td>\n",
       "      <td>0.0</td>\n",
       "      <td>154.0</td>\n",
       "      <td>1.0</td>\n",
       "      <td>1.4</td>\n",
       "      <td>2.0</td>\n",
       "      <td>0.0</td>\n",
       "      <td>3.0</td>\n",
       "      <td>1</td>\n",
       "    </tr>\n",
       "  </tbody>\n",
       "</table>\n",
       "</div>"
      ],
      "text/plain": [
       "      age  sex  chest pain type  resting blood pressure  serum cholestoral  fasting blood sugar  resting electrocardiographic  maximum heart rate  exercise induced angina  ST depression  slope peak exercise ST segment number of major vessels thallium stress result  target\n",
       "155  51.0  1.0  4.0              140.0                   299.0              0.0                  0.0                           173.0               1.0                      1.6            1.0                             0.0                     7.0                    1     \n",
       "10   56.0  0.0  2.0              140.0                   294.0              0.0                  2.0                           153.0               0.0                      1.3            2.0                             0.0                     3.0                    0     \n",
       "53   60.0  1.0  4.0              130.0                   253.0              0.0                  0.0                           144.0               1.0                      1.4            1.0                             1.0                     7.0                    1     \n",
       "122  55.0  1.0  4.0              140.0                   217.0              0.0                  0.0                           111.0               1.0                      5.6            3.0                             0.0                     7.0                    3     \n",
       "208  62.0  0.0  4.0              150.0                   244.0              0.0                  0.0                           154.0               1.0                      1.4            2.0                             0.0                     3.0                    1     "
      ]
     },
     "execution_count": 19,
     "metadata": {},
     "output_type": "execute_result"
    }
   ],
   "source": [
    "# Display raw train data\n",
    "df_train.head()"
   ]
  },
  {
   "cell_type": "code",
   "execution_count": 20,
   "metadata": {
    "tags": []
   },
   "outputs": [
    {
     "data": {
      "text/plain": [
       "age                               41.0 \n",
       "sex                               1.0  \n",
       "chest pain type                   3.0  \n",
       "resting blood pressure            130.0\n",
       "serum cholestoral                 214.0\n",
       "fasting blood sugar               0.0  \n",
       "resting electrocardiographic      2.0  \n",
       "maximum heart rate                168.0\n",
       "exercise induced angina           0.0  \n",
       "ST depression                     2.0  \n",
       "slope peak exercise ST segment    2.0  \n",
       "number of major vessels           0.0  \n",
       "thallium stress result            3.0  \n",
       "target                            0    \n",
       "Name: 211, dtype: object"
      ]
     },
     "execution_count": 20,
     "metadata": {},
     "output_type": "execute_result"
    }
   ],
   "source": [
    "# Display a random sample\n",
    "df_train.sample(1).iloc[0]"
   ]
  },
  {
   "cell_type": "code",
   "execution_count": 21,
   "metadata": {
    "tags": []
   },
   "outputs": [
    {
     "name": "stdout",
     "output_type": "stream",
     "text": [
      "<class 'pandas.core.frame.DataFrame'>\n",
      "Int64Index: 271 entries, 155 to 174\n",
      "Data columns (total 14 columns):\n",
      " #   Column                          Non-Null Count  Dtype  \n",
      "---  ------                          --------------  -----  \n",
      " 0   age                             271 non-null    float64\n",
      " 1   sex                             271 non-null    float64\n",
      " 2   chest pain type                 271 non-null    float64\n",
      " 3   resting blood pressure          271 non-null    float64\n",
      " 4   serum cholestoral               271 non-null    float64\n",
      " 5   fasting blood sugar             271 non-null    float64\n",
      " 6   resting electrocardiographic    271 non-null    float64\n",
      " 7   maximum heart rate              271 non-null    float64\n",
      " 8   exercise induced angina         271 non-null    float64\n",
      " 9   ST depression                   271 non-null    float64\n",
      " 10  slope peak exercise ST segment  271 non-null    float64\n",
      " 11  number of major vessels         271 non-null    object \n",
      " 12  thallium stress result          271 non-null    object \n",
      " 13  target                          271 non-null    int64  \n",
      "dtypes: float64(11), int64(1), object(2)\n",
      "memory usage: 31.8+ KB\n"
     ]
    }
   ],
   "source": [
    "df_train.info()"
   ]
  },
  {
   "cell_type": "markdown",
   "metadata": {},
   "source": [
    "*summary*: \n",
    "- **ca** and **thal** are object type"
   ]
  },
  {
   "cell_type": "markdown",
   "metadata": {},
   "source": [
    "# Uniques"
   ]
  },
  {
   "cell_type": "code",
   "execution_count": 22,
   "metadata": {
    "tags": []
   },
   "outputs": [
    {
     "data": {
      "text/html": [
       "<div>\n",
       "<style scoped>\n",
       "    .dataframe tbody tr th:only-of-type {\n",
       "        vertical-align: middle;\n",
       "    }\n",
       "\n",
       "    .dataframe tbody tr th {\n",
       "        vertical-align: top;\n",
       "    }\n",
       "\n",
       "    .dataframe thead th {\n",
       "        text-align: right;\n",
       "    }\n",
       "</style>\n",
       "<table border=\"1\" class=\"dataframe\">\n",
       "  <thead>\n",
       "    <tr style=\"text-align: right;\">\n",
       "      <th></th>\n",
       "      <th>uniques</th>\n",
       "    </tr>\n",
       "    <tr>\n",
       "      <th>feature</th>\n",
       "      <th></th>\n",
       "    </tr>\n",
       "  </thead>\n",
       "  <tbody>\n",
       "    <tr>\n",
       "      <th>age</th>\n",
       "      <td>[51.0, 56.0, 60.0, 55.0, 62.0, 39.0, 59.0, 66.0, 65.0, 64.0, 61.0, 47.0, 52.0, 43.0, 57.0, 44.0, 49.0, 50.0, 42.0, 58.0, 54.0, 41.0, 35.0, 53.0, 45.0, 70.0, 46.0, 40.0, 68.0, 76.0, 67.0, 69.0, 48.0, 63.0, 34.0, 77.0, 29.0, 38.0, 37.0, 74.0, 71.0]</td>\n",
       "    </tr>\n",
       "    <tr>\n",
       "      <th>sex</th>\n",
       "      <td>[1.0, 0.0]</td>\n",
       "    </tr>\n",
       "    <tr>\n",
       "      <th>chest pain type</th>\n",
       "      <td>[4.0, 2.0, 3.0, 1.0]</td>\n",
       "    </tr>\n",
       "    <tr>\n",
       "      <th>resting blood pressure</th>\n",
       "      <td>[140.0, 130.0, 150.0, 94.0, 135.0, 160.0, 145.0, 117.0, 120.0, 112.0, 136.0, 132.0, 110.0, 108.0, 146.0, 155.0, 118.0, 124.0, 129.0, 105.0, 142.0, 192.0, 115.0, 164.0, 100.0, 138.0, 134.0, 170.0, 152.0, 128.0, 126.0, 148.0, 158.0, 123.0, 122.0, 125.0, 102.0, 106.0, 174.0, 200.0, 114.0, 104.0, 178.0, 180.0, 154.0, 156.0, 101.0, 144.0, 172.0]</td>\n",
       "    </tr>\n",
       "    <tr>\n",
       "      <th>serum cholestoral</th>\n",
       "      <td>[299.0, 294.0, 253.0, 217.0, 244.0, 199.0, 234.0, 246.0, 360.0, 212.0, 230.0, 281.0, 307.0, 204.0, 196.0, 298.0, 193.0, 341.0, 201.0, 221.0, 141.0, 295.0, 278.0, 269.0, 149.0, 239.0, 261.0, 315.0, 240.0, 233.0, 206.0, 184.0, 258.0, 266.0, 273.0, 288.0, 214.0, 284.0, 198.0, 226.0, 283.0, 260.0, 192.0, 264.0, 176.0, 174.0, 222.0, 311.0, 177.0, 220.0, 303.0, 211.0, 263.0, 326.0, 209.0, 223.0, 305.0, 197.0, 229.0, 166.0, 268.0, 237.0, 235.0, 306.0, 167.0, 275.0, 207.0, 232.0, 255.0, 186.0, 271.0, 227.0, 218.0, 417.0, 270.0, 319.0, 254.0, 126.0, 276.0, 282.0, 164.0, 259.0, 219.0, 340.0, 160.0, 205.0, 225.0, 236.0, 188.0, 242.0, 256.0, 213.0, 309.0, 243.0, 203.0, 216.0, 228.0, 250.0, 187.0, 245.0, ...]</td>\n",
       "    </tr>\n",
       "    <tr>\n",
       "      <th>fasting blood sugar</th>\n",
       "      <td>[0.0, 1.0]</td>\n",
       "    </tr>\n",
       "    <tr>\n",
       "      <th>resting electrocardiographic</th>\n",
       "      <td>[0.0, 2.0, 1.0]</td>\n",
       "    </tr>\n",
       "    <tr>\n",
       "      <th>maximum heart rate</th>\n",
       "      <td>[173.0, 153.0, 144.0, 111.0, 154.0, 179.0, 161.0, 120.0, 151.0, 132.0, 160.0, 103.0, 146.0, 143.0, 169.0, 122.0, 162.0, 136.0, 126.0, 163.0, 175.0, 157.0, 152.0, 148.0, 142.0, 141.0, 125.0, 108.0, 105.0, 109.0, 159.0, 168.0, 130.0, 195.0, 185.0, 90.0, 178.0, 145.0, 181.0, 140.0, 115.0, 97.0, 116.0, 150.0, 71.0, 131.0, 114.0, 118.0, 138.0, 165.0, 139.0, 171.0, 190.0, 194.0, 112.0, 96.0, 172.0, 113.0, 180.0, 95.0, 149.0, 147.0, 137.0, 128.0, 129.0, 166.0, 174.0, 156.0, 177.0, 182.0, 164.0, 192.0, 167.0, 202.0, 188.0, 123.0, 133.0, 158.0, 155.0, 127.0, 170.0, 121.0, 187.0, 117.0, 106.0, 186.0, 134.0, 184.0, 99.0, 88.0]</td>\n",
       "    </tr>\n",
       "    <tr>\n",
       "      <th>exercise induced angina</th>\n",
       "      <td>[1.0, 0.0]</td>\n",
       "    </tr>\n",
       "    <tr>\n",
       "      <th>ST depression</th>\n",
       "      <td>[1.6, 1.3, 1.4, 5.6, 0.0, 0.5, 0.8, 2.0, 1.0, 0.1, 4.2, 1.9, 3.0, 1.5, 0.6, 1.2, 0.3, 1.8, 2.1, 2.6, 2.2, 0.4, 3.6, 3.4, 1.1, 0.2, 2.8, 6.2, 0.9, 2.3, 4.0, 2.4, 0.7, 3.8, 4.4, 3.2, 3.5, 2.5, 2.9]</td>\n",
       "    </tr>\n",
       "    <tr>\n",
       "      <th>slope peak exercise ST segment</th>\n",
       "      <td>[1.0, 2.0, 3.0]</td>\n",
       "    </tr>\n",
       "    <tr>\n",
       "      <th>number of major vessels</th>\n",
       "      <td>[0.0, 1.0, 3.0, 2.0, ?]</td>\n",
       "    </tr>\n",
       "    <tr>\n",
       "      <th>thallium stress result</th>\n",
       "      <td>[7.0, 3.0, 6.0, ?]</td>\n",
       "    </tr>\n",
       "    <tr>\n",
       "      <th>target</th>\n",
       "      <td>[1, 0, 3, 2, 4]</td>\n",
       "    </tr>\n",
       "  </tbody>\n",
       "</table>\n",
       "</div>"
      ],
      "text/plain": [
       "                                                                                                                                                                                                                                                                                                                                                                                                                                                                                                                                                                                                                                                                                                                                                          uniques\n",
       "feature                                                                                                                                                                                                                                                                                                                                                                                                                                                                                                                                                                                                                                                                                                                                                          \n",
       "age                             [51.0, 56.0, 60.0, 55.0, 62.0, 39.0, 59.0, 66.0, 65.0, 64.0, 61.0, 47.0, 52.0, 43.0, 57.0, 44.0, 49.0, 50.0, 42.0, 58.0, 54.0, 41.0, 35.0, 53.0, 45.0, 70.0, 46.0, 40.0, 68.0, 76.0, 67.0, 69.0, 48.0, 63.0, 34.0, 77.0, 29.0, 38.0, 37.0, 74.0, 71.0]                                                                                                                                                                                                                                                                                                                                                                                                                                                                           \n",
       "sex                             [1.0, 0.0]                                                                                                                                                                                                                                                                                                                                                                                                                                                                                                                                                                                                                                                                                                                       \n",
       "chest pain type                 [4.0, 2.0, 3.0, 1.0]                                                                                                                                                                                                                                                                                                                                                                                                                                                                                                                                                                                                                                                                                                             \n",
       "resting blood pressure          [140.0, 130.0, 150.0, 94.0, 135.0, 160.0, 145.0, 117.0, 120.0, 112.0, 136.0, 132.0, 110.0, 108.0, 146.0, 155.0, 118.0, 124.0, 129.0, 105.0, 142.0, 192.0, 115.0, 164.0, 100.0, 138.0, 134.0, 170.0, 152.0, 128.0, 126.0, 148.0, 158.0, 123.0, 122.0, 125.0, 102.0, 106.0, 174.0, 200.0, 114.0, 104.0, 178.0, 180.0, 154.0, 156.0, 101.0, 144.0, 172.0]                                                                                                                                                                                                                                                                                                                                                                           \n",
       "serum cholestoral               [299.0, 294.0, 253.0, 217.0, 244.0, 199.0, 234.0, 246.0, 360.0, 212.0, 230.0, 281.0, 307.0, 204.0, 196.0, 298.0, 193.0, 341.0, 201.0, 221.0, 141.0, 295.0, 278.0, 269.0, 149.0, 239.0, 261.0, 315.0, 240.0, 233.0, 206.0, 184.0, 258.0, 266.0, 273.0, 288.0, 214.0, 284.0, 198.0, 226.0, 283.0, 260.0, 192.0, 264.0, 176.0, 174.0, 222.0, 311.0, 177.0, 220.0, 303.0, 211.0, 263.0, 326.0, 209.0, 223.0, 305.0, 197.0, 229.0, 166.0, 268.0, 237.0, 235.0, 306.0, 167.0, 275.0, 207.0, 232.0, 255.0, 186.0, 271.0, 227.0, 218.0, 417.0, 270.0, 319.0, 254.0, 126.0, 276.0, 282.0, 164.0, 259.0, 219.0, 340.0, 160.0, 205.0, 225.0, 236.0, 188.0, 242.0, 256.0, 213.0, 309.0, 243.0, 203.0, 216.0, 228.0, 250.0, 187.0, 245.0, ...]\n",
       "fasting blood sugar             [0.0, 1.0]                                                                                                                                                                                                                                                                                                                                                                                                                                                                                                                                                                                                                                                                                                                       \n",
       "resting electrocardiographic    [0.0, 2.0, 1.0]                                                                                                                                                                                                                                                                                                                                                                                                                                                                                                                                                                                                                                                                                                                  \n",
       "maximum heart rate              [173.0, 153.0, 144.0, 111.0, 154.0, 179.0, 161.0, 120.0, 151.0, 132.0, 160.0, 103.0, 146.0, 143.0, 169.0, 122.0, 162.0, 136.0, 126.0, 163.0, 175.0, 157.0, 152.0, 148.0, 142.0, 141.0, 125.0, 108.0, 105.0, 109.0, 159.0, 168.0, 130.0, 195.0, 185.0, 90.0, 178.0, 145.0, 181.0, 140.0, 115.0, 97.0, 116.0, 150.0, 71.0, 131.0, 114.0, 118.0, 138.0, 165.0, 139.0, 171.0, 190.0, 194.0, 112.0, 96.0, 172.0, 113.0, 180.0, 95.0, 149.0, 147.0, 137.0, 128.0, 129.0, 166.0, 174.0, 156.0, 177.0, 182.0, 164.0, 192.0, 167.0, 202.0, 188.0, 123.0, 133.0, 158.0, 155.0, 127.0, 170.0, 121.0, 187.0, 117.0, 106.0, 186.0, 134.0, 184.0, 99.0, 88.0]                                                                                  \n",
       "exercise induced angina         [1.0, 0.0]                                                                                                                                                                                                                                                                                                                                                                                                                                                                                                                                                                                                                                                                                                                       \n",
       "ST depression                   [1.6, 1.3, 1.4, 5.6, 0.0, 0.5, 0.8, 2.0, 1.0, 0.1, 4.2, 1.9, 3.0, 1.5, 0.6, 1.2, 0.3, 1.8, 2.1, 2.6, 2.2, 0.4, 3.6, 3.4, 1.1, 0.2, 2.8, 6.2, 0.9, 2.3, 4.0, 2.4, 0.7, 3.8, 4.4, 3.2, 3.5, 2.5, 2.9]                                                                                                                                                                                                                                                                                                                                                                                                                                                                                                                              \n",
       "slope peak exercise ST segment  [1.0, 2.0, 3.0]                                                                                                                                                                                                                                                                                                                                                                                                                                                                                                                                                                                                                                                                                                                  \n",
       "number of major vessels         [0.0, 1.0, 3.0, 2.0, ?]                                                                                                                                                                                                                                                                                                                                                                                                                                                                                                                                                                                                                                                                                                          \n",
       "thallium stress result          [7.0, 3.0, 6.0, ?]                                                                                                                                                                                                                                                                                                                                                                                                                                                                                                                                                                                                                                                                                                               \n",
       "target                          [1, 0, 3, 2, 4]                                                                                                                                                                                                                                                                                                                                                                                                                                                                                                                                                                                                                                                                                                                  "
      ]
     },
     "execution_count": 22,
     "metadata": {},
     "output_type": "execute_result"
    }
   ],
   "source": [
    "get_unique_values(df_train)"
   ]
  },
  {
   "cell_type": "markdown",
   "metadata": {},
   "source": [
    "# Strange values\n"
   ]
  },
  {
   "cell_type": "code",
   "execution_count": 23,
   "metadata": {
    "tags": []
   },
   "outputs": [
    {
     "data": {
      "text/html": [
       "<div>\n",
       "<style scoped>\n",
       "    .dataframe tbody tr th:only-of-type {\n",
       "        vertical-align: middle;\n",
       "    }\n",
       "\n",
       "    .dataframe tbody tr th {\n",
       "        vertical-align: top;\n",
       "    }\n",
       "\n",
       "    .dataframe thead th {\n",
       "        text-align: right;\n",
       "    }\n",
       "</style>\n",
       "<table border=\"1\" class=\"dataframe\">\n",
       "  <thead>\n",
       "    <tr style=\"text-align: right;\">\n",
       "      <th></th>\n",
       "      <th>indices-values</th>\n",
       "    </tr>\n",
       "    <tr>\n",
       "      <th>feature</th>\n",
       "      <th></th>\n",
       "    </tr>\n",
       "  </thead>\n",
       "  <tbody>\n",
       "    <tr>\n",
       "      <th>number of major vessels</th>\n",
       "      <td>[(301, ?), (191, ?), (165, ?), (286, ?)]</td>\n",
       "    </tr>\n",
       "    <tr>\n",
       "      <th>thallium stress result</th>\n",
       "      <td>[(86, ?)]</td>\n",
       "    </tr>\n",
       "  </tbody>\n",
       "</table>\n",
       "</div>"
      ],
      "text/plain": [
       "                                                   indices-values\n",
       "feature                                                          \n",
       "number of major vessels  [(301, ?), (191, ?), (165, ?), (286, ?)]\n",
       "thallium stress result   [(86, ?)]                               "
      ]
     },
     "execution_count": 23,
     "metadata": {},
     "output_type": "execute_result"
    }
   ],
   "source": [
    "\n",
    "get_strange_values(df_train)\n"
   ]
  },
  {
   "cell_type": "markdown",
   "metadata": {},
   "source": [
    "# Missing values"
   ]
  },
  {
   "cell_type": "code",
   "execution_count": 24,
   "metadata": {
    "tags": []
   },
   "outputs": [
    {
     "name": "stdout",
     "output_type": "stream",
     "text": [
      "--Missing values count--\n",
      "age                               0\n",
      "sex                               0\n",
      "chest pain type                   0\n",
      "resting blood pressure            0\n",
      "serum cholestoral                 0\n",
      "fasting blood sugar               0\n",
      "resting electrocardiographic      0\n",
      "maximum heart rate                0\n",
      "exercise induced angina           0\n",
      "ST depression                     0\n",
      "slope peak exercise ST segment    0\n",
      "number of major vessels           0\n",
      "thallium stress result            0\n",
      "target                            0\n",
      "dtype: int64\n"
     ]
    }
   ],
   "source": [
    "# Remove null values if exist\n",
    "print(f\"--Missing values count--\\n{df_train.isnull().sum().sort_values()}\")"
   ]
  },
  {
   "cell_type": "code",
   "execution_count": null,
   "metadata": {},
   "outputs": [],
   "source": []
  },
  {
   "cell_type": "code",
   "execution_count": null,
   "metadata": {},
   "outputs": [],
   "source": []
  }
 ],
 "metadata": {
  "kernelspec": {
   "display_name": "Python 3 (ipykernel)",
   "language": "python",
   "name": "python3"
  },
  "language_info": {
   "codemirror_mode": {
    "name": "ipython",
    "version": 3
   },
   "file_extension": ".py",
   "mimetype": "text/x-python",
   "name": "python",
   "nbconvert_exporter": "python",
   "pygments_lexer": "ipython3",
   "version": "3.9.12"
  },
  "vscode": {
   "interpreter": {
    "hash": "dafb1f7618ea635952683f9de1ec2ad0605097bc28573cb02814b9f97cdb4857"
   }
  },
  "widgets": {
   "application/vnd.jupyter.widget-state+json": {
    "state": {},
    "version_major": 2,
    "version_minor": 0
   }
  }
 },
 "nbformat": 4,
 "nbformat_minor": 4
}
