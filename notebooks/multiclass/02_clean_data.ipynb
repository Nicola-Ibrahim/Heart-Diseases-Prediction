{
 "cells": [
  {
   "attachments": {},
   "cell_type": "markdown",
   "id": "76c6d88f",
   "metadata": {},
   "source": [
    "\n",
    "<center>\n",
    "\n",
    "**Data cleaning**\n",
    "\n",
    "</center>\n",
    "    \n",
    "This step involves handling any missing values, outliers, errors, duplicates, inconsistencies, etc. in the data. This step ensures that the data is accurate, consistent, and reliable for further processing and analysis. Some common data cleaning techniques are:\n",
    "\n",
    "- Imputation: Replacing missing values with a reasonable estimate, such as the mean, median, mode, or a constant value.\n",
    "- Removal: Deleting rows or columns that contain missing values, outliers, or errors.\n",
    "- Correction: Fixing typos, spelling mistakes, formatting issues, or incorrect values in the data.\n",
    "- Deduplication: Identifying and removing duplicate records in the data.\n",
    "- Standardization: Converting the data into a common format or unit, such as date, time, currency, etc."
   ]
  },
  {
   "cell_type": "code",
   "execution_count": 72,
   "id": "d09f3d90-fff5-434a-8d60-3d9863d95dbe",
   "metadata": {},
   "outputs": [],
   "source": [
    "TRAIN_DATA_PATH = \"../../data/interim/train_data.pkl\"\n",
    "TEST_DATA_PATH = \"../../data/interim/test_data.pkl\"\n",
    "CLEANED_TRAIN_DATA_PATH = \"../../data/interim/cleaned_train_data.pkl\"\n",
    "CLEANED_TEST_DATA_PATH = \"../../data/interim/cleaned_test_data.pkl\"\n"
   ]
  },
  {
   "cell_type": "code",
   "execution_count": 73,
   "id": "976c0a35-0540-4b64-b959-062451e2e74a",
   "metadata": {
    "tags": []
   },
   "outputs": [],
   "source": [
    "import numpy as np\n",
    "import pandas as pd\n",
    "\n",
    "from sklearn.impute import SimpleImputer\n"
   ]
  },
  {
   "cell_type": "markdown",
   "id": "42054d63-3403-4c50-9806-6cf5a86f505b",
   "metadata": {
    "tags": []
   },
   "source": [
    "# Functions\n"
   ]
  },
  {
   "cell_type": "code",
   "execution_count": 74,
   "id": "4883f843-eb4e-4f5f-86e9-d0c13d1877c8",
   "metadata": {
    "tags": []
   },
   "outputs": [],
   "source": [
    "def remove_duplicates(data: pd.DataFrame):\n",
    "    \"\"\"Remove duplicates values if exist\"\"\"\n",
    "    print(f\"Duplicates count before droping:{data.duplicated().sum()}\")\n",
    "    data.drop_duplicates(inplace=True)\n",
    "    print(f\"Duplicates count after droping:{data.duplicated().sum()}\")\n",
    "    print(f\"Data dimension{data.shape}\")"
   ]
  },
  {
   "cell_type": "markdown",
   "id": "bceaaecc",
   "metadata": {},
   "source": [
    "# Read data\n"
   ]
  },
  {
   "cell_type": "code",
   "execution_count": 75,
   "id": "695f2ffb",
   "metadata": {},
   "outputs": [],
   "source": [
    "df_train = pd.read_pickle(TRAIN_DATA_PATH)\n",
    "df_test = pd.read_pickle(TEST_DATA_PATH)"
   ]
  },
  {
   "attachments": {},
   "cell_type": "markdown",
   "id": "459f2b8d-4c95-4201-bc9e-c30f8d9fae17",
   "metadata": {},
   "source": [
    "# Substitute strange values"
   ]
  },
  {
   "cell_type": "code",
   "execution_count": 76,
   "id": "e7dbb729-405c-4b9a-835a-3728c0209222",
   "metadata": {
    "tags": []
   },
   "outputs": [],
   "source": [
    "# Substitute '?' with np.NAN\n",
    "df_train.replace(\"?\", np.nan, inplace=True)\n",
    "df_test.replace(\"?\", np.nan, inplace=True)"
   ]
  },
  {
   "cell_type": "code",
   "execution_count": 79,
   "id": "66723637",
   "metadata": {},
   "outputs": [],
   "source": [
    "df_train[[\"number_of_major_vessels\", \"thallium_stress_result\"]] = SimpleImputer(\n",
    "    strategy=\"most_frequent\"\n",
    ").fit_transform(df_train[[\"number_of_major_vessels\", \"thallium_stress_result\"]])\n",
    "\n",
    "df_test['thallium_stress_result'] = SimpleImputer(\n",
    "    strategy=\"most_frequent\"\n",
    ").fit_transform(df_test[[\"number_of_major_vessels\"]])"
   ]
  },
  {
   "cell_type": "markdown",
   "id": "6a9b51db-dfed-4c54-83d4-10d0ae73ffd3",
   "metadata": {},
   "source": [
    "# Duplicates\n"
   ]
  },
  {
   "cell_type": "code",
   "execution_count": 68,
   "id": "63155dc2-8f6e-41a6-b4b4-17bac2a54830",
   "metadata": {
    "tags": []
   },
   "outputs": [
    {
     "name": "stdout",
     "output_type": "stream",
     "text": [
      "Duplicates count before droping:0\n",
      "Duplicates count after droping:0\n",
      "Data dimension(271, 14)\n"
     ]
    }
   ],
   "source": [
    "remove_duplicates(df_train)"
   ]
  },
  {
   "cell_type": "code",
   "execution_count": 69,
   "id": "d8b752dc",
   "metadata": {},
   "outputs": [
    {
     "data": {
      "text/html": [
       "<div>\n",
       "<style scoped>\n",
       "    .dataframe tbody tr th:only-of-type {\n",
       "        vertical-align: middle;\n",
       "    }\n",
       "\n",
       "    .dataframe tbody tr th {\n",
       "        vertical-align: top;\n",
       "    }\n",
       "\n",
       "    .dataframe thead th {\n",
       "        text-align: right;\n",
       "    }\n",
       "</style>\n",
       "<table border=\"1\" class=\"dataframe\">\n",
       "  <thead>\n",
       "    <tr style=\"text-align: right;\">\n",
       "      <th></th>\n",
       "      <th>age</th>\n",
       "      <th>sex</th>\n",
       "      <th>chest_pain_type</th>\n",
       "      <th>resting_blood_pressure</th>\n",
       "      <th>serum_cholestoral</th>\n",
       "      <th>fasting_blood_sugar</th>\n",
       "      <th>resting_electrocardiographic</th>\n",
       "      <th>maximum_heart_rate</th>\n",
       "      <th>exercise_induced_angina</th>\n",
       "      <th>ST_depression</th>\n",
       "      <th>slope_peak_exercise_ST_segment</th>\n",
       "      <th>number_of_major_vessels</th>\n",
       "      <th>thallium_stress_result</th>\n",
       "      <th>target</th>\n",
       "    </tr>\n",
       "  </thead>\n",
       "  <tbody>\n",
       "    <tr>\n",
       "      <th>155</th>\n",
       "      <td>51.0</td>\n",
       "      <td>1.0</td>\n",
       "      <td>4.0</td>\n",
       "      <td>140.0</td>\n",
       "      <td>299.0</td>\n",
       "      <td>0.0</td>\n",
       "      <td>0.0</td>\n",
       "      <td>173.0</td>\n",
       "      <td>1.0</td>\n",
       "      <td>1.6</td>\n",
       "      <td>1.0</td>\n",
       "      <td>0.0</td>\n",
       "      <td>7.0</td>\n",
       "      <td>1</td>\n",
       "    </tr>\n",
       "    <tr>\n",
       "      <th>10</th>\n",
       "      <td>56.0</td>\n",
       "      <td>0.0</td>\n",
       "      <td>2.0</td>\n",
       "      <td>140.0</td>\n",
       "      <td>294.0</td>\n",
       "      <td>0.0</td>\n",
       "      <td>2.0</td>\n",
       "      <td>153.0</td>\n",
       "      <td>0.0</td>\n",
       "      <td>1.3</td>\n",
       "      <td>2.0</td>\n",
       "      <td>0.0</td>\n",
       "      <td>3.0</td>\n",
       "      <td>0</td>\n",
       "    </tr>\n",
       "    <tr>\n",
       "      <th>53</th>\n",
       "      <td>60.0</td>\n",
       "      <td>1.0</td>\n",
       "      <td>4.0</td>\n",
       "      <td>130.0</td>\n",
       "      <td>253.0</td>\n",
       "      <td>0.0</td>\n",
       "      <td>0.0</td>\n",
       "      <td>144.0</td>\n",
       "      <td>1.0</td>\n",
       "      <td>1.4</td>\n",
       "      <td>1.0</td>\n",
       "      <td>1.0</td>\n",
       "      <td>7.0</td>\n",
       "      <td>1</td>\n",
       "    </tr>\n",
       "    <tr>\n",
       "      <th>122</th>\n",
       "      <td>55.0</td>\n",
       "      <td>1.0</td>\n",
       "      <td>4.0</td>\n",
       "      <td>140.0</td>\n",
       "      <td>217.0</td>\n",
       "      <td>0.0</td>\n",
       "      <td>0.0</td>\n",
       "      <td>111.0</td>\n",
       "      <td>1.0</td>\n",
       "      <td>5.6</td>\n",
       "      <td>3.0</td>\n",
       "      <td>0.0</td>\n",
       "      <td>7.0</td>\n",
       "      <td>3</td>\n",
       "    </tr>\n",
       "    <tr>\n",
       "      <th>208</th>\n",
       "      <td>62.0</td>\n",
       "      <td>0.0</td>\n",
       "      <td>4.0</td>\n",
       "      <td>150.0</td>\n",
       "      <td>244.0</td>\n",
       "      <td>0.0</td>\n",
       "      <td>0.0</td>\n",
       "      <td>154.0</td>\n",
       "      <td>1.0</td>\n",
       "      <td>1.4</td>\n",
       "      <td>2.0</td>\n",
       "      <td>0.0</td>\n",
       "      <td>3.0</td>\n",
       "      <td>1</td>\n",
       "    </tr>\n",
       "  </tbody>\n",
       "</table>\n",
       "</div>"
      ],
      "text/plain": [
       "      age  sex  chest_pain_type  resting_blood_pressure  serum_cholestoral  \\\n",
       "155  51.0  1.0              4.0                   140.0              299.0   \n",
       "10   56.0  0.0              2.0                   140.0              294.0   \n",
       "53   60.0  1.0              4.0                   130.0              253.0   \n",
       "122  55.0  1.0              4.0                   140.0              217.0   \n",
       "208  62.0  0.0              4.0                   150.0              244.0   \n",
       "\n",
       "     fasting_blood_sugar  resting_electrocardiographic  maximum_heart_rate  \\\n",
       "155                  0.0                           0.0               173.0   \n",
       "10                   0.0                           2.0               153.0   \n",
       "53                   0.0                           0.0               144.0   \n",
       "122                  0.0                           0.0               111.0   \n",
       "208                  0.0                           0.0               154.0   \n",
       "\n",
       "     exercise_induced_angina  ST_depression  slope_peak_exercise_ST_segment  \\\n",
       "155                      1.0            1.6                             1.0   \n",
       "10                       0.0            1.3                             2.0   \n",
       "53                       1.0            1.4                             1.0   \n",
       "122                      1.0            5.6                             3.0   \n",
       "208                      1.0            1.4                             2.0   \n",
       "\n",
       "    number_of_major_vessels thallium_stress_result  target  \n",
       "155                     0.0                    7.0       1  \n",
       "10                      0.0                    3.0       0  \n",
       "53                      1.0                    7.0       1  \n",
       "122                     0.0                    7.0       3  \n",
       "208                     0.0                    3.0       1  "
      ]
     },
     "execution_count": 69,
     "metadata": {},
     "output_type": "execute_result"
    }
   ],
   "source": [
    "df_train.head()\n"
   ]
  },
  {
   "cell_type": "markdown",
   "id": "918bb561",
   "metadata": {},
   "source": [
    "# Change type to numerical\n"
   ]
  },
  {
   "cell_type": "code",
   "execution_count": 70,
   "id": "1e4eb4e7",
   "metadata": {},
   "outputs": [],
   "source": [
    "# Convert all columns to numeric\n",
    "df_train = df_train.apply(pd.to_numeric)\n"
   ]
  },
  {
   "cell_type": "markdown",
   "id": "fdabb173",
   "metadata": {},
   "source": [
    "# Save processed data\n"
   ]
  },
  {
   "cell_type": "code",
   "execution_count": 71,
   "id": "baab1f36",
   "metadata": {},
   "outputs": [],
   "source": [
    "df_train.to_pickle(CLEANED_TRAIN_DATA_PATH)\n",
    "df_test.to_pickle(CLEANED_TEST_DATA_PATH)"
   ]
  }
 ],
 "metadata": {
  "kernelspec": {
   "display_name": "Python 3 (ipykernel)",
   "language": "python",
   "name": "python3"
  },
  "language_info": {
   "codemirror_mode": {
    "name": "ipython",
    "version": 3
   },
   "file_extension": ".py",
   "mimetype": "text/x-python",
   "name": "python",
   "nbconvert_exporter": "python",
   "pygments_lexer": "ipython3",
   "version": "3.9.13"
  },
  "widgets": {
   "application/vnd.jupyter.widget-state+json": {
    "state": {},
    "version_major": 2,
    "version_minor": 0
   }
  }
 },
 "nbformat": 4,
 "nbformat_minor": 5
}
